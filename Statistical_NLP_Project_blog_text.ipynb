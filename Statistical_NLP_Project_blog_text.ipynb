{
  "nbformat": 4,
  "nbformat_minor": 0,
  "metadata": {
    "colab": {
      "name": "R8_Statistical NLP Project_blog_text.ipynb",
      "provenance": []
    },
    "kernelspec": {
      "name": "python3",
      "display_name": "Python 3"
    }
  },
  "cells": [
    {
      "cell_type": "code",
      "metadata": {
        "id": "jgJA_LCqH3Bb",
        "colab_type": "code",
        "colab": {}
      },
      "source": [
        "import warnings\n",
        "warnings.filterwarnings('ignore')"
      ],
      "execution_count": 0,
      "outputs": []
    },
    {
      "cell_type": "code",
      "metadata": {
        "id": "ML8QtpmYIIu8",
        "colab_type": "code",
        "colab": {
          "base_uri": "https://localhost:8080/",
          "height": 119
        },
        "outputId": "e55ccfb0-5319-4227-8147-af025cb8c3bc"
      },
      "source": [
        "import pandas as pd\n",
        "import numpy as np\n",
        "import scipy as sp\n",
        "from sklearn.model_selection import train_test_split\n",
        "from sklearn.feature_extraction.text import CountVectorizer, TfidfVectorizer\n",
        "from sklearn.naive_bayes import MultinomialNB\n",
        "from sklearn.linear_model import LogisticRegression\n",
        "from sklearn.multiclass import OneVsRestClassifier\n",
        "from sklearn import metrics\n",
        "from sklearn.preprocessing import MultiLabelBinarizer\n",
        "from textblob import TextBlob, Word\n",
        "from nltk.stem.snowball import SnowballStemmer\n",
        "%matplotlib inline\n",
        "import nltk\n",
        "nltk.download('punkt')\n",
        "nltk.download('wordnet')\n",
        "nltk.download('stopwords')\n",
        "import re\n",
        "from nltk.corpus import stopwords"
      ],
      "execution_count": 2,
      "outputs": [
        {
          "output_type": "stream",
          "text": [
            "[nltk_data] Downloading package punkt to /root/nltk_data...\n",
            "[nltk_data]   Package punkt is already up-to-date!\n",
            "[nltk_data] Downloading package wordnet to /root/nltk_data...\n",
            "[nltk_data]   Package wordnet is already up-to-date!\n",
            "[nltk_data] Downloading package stopwords to /root/nltk_data...\n",
            "[nltk_data]   Package stopwords is already up-to-date!\n"
          ],
          "name": "stdout"
        }
      ]
    },
    {
      "cell_type": "code",
      "metadata": {
        "id": "yiA_KhgWIK7V",
        "colab_type": "code",
        "colab": {
          "base_uri": "https://localhost:8080/",
          "height": 34
        },
        "outputId": "f2af5d60-ef39-4ca1-eb40-428a8d636603"
      },
      "source": [
        "from google.colab import drive\n",
        "drive.mount('/content/drive')"
      ],
      "execution_count": 3,
      "outputs": [
        {
          "output_type": "stream",
          "text": [
            "Drive already mounted at /content/drive; to attempt to forcibly remount, call drive.mount(\"/content/drive\", force_remount=True).\n"
          ],
          "name": "stdout"
        }
      ]
    },
    {
      "cell_type": "markdown",
      "metadata": {
        "id": "VFwzo9VqJ0se",
        "colab_type": "text"
      },
      "source": [
        "# 1.Load the dataset (5 points)  a. Tip: As the dataset is large, use fewer rows. Check what is working well on your  machine and decide accordingly.¶"
      ]
    },
    {
      "cell_type": "code",
      "metadata": {
        "id": "LT2TWLV-J2Oy",
        "colab_type": "code",
        "colab": {}
      },
      "source": [
        "blogtext = pd.read_csv('/content/drive/My Drive/Colab/NLP/blogtext.csv')"
      ],
      "execution_count": 0,
      "outputs": []
    },
    {
      "cell_type": "code",
      "metadata": {
        "id": "NLIETn5WKkfa",
        "colab_type": "code",
        "colab": {
          "base_uri": "https://localhost:8080/",
          "height": 204
        },
        "outputId": "6e812f81-4a83-44c5-ffc4-bb5226907998"
      },
      "source": [
        "blogtext.head()"
      ],
      "execution_count": 5,
      "outputs": [
        {
          "output_type": "execute_result",
          "data": {
            "text/html": [
              "<div>\n",
              "<style scoped>\n",
              "    .dataframe tbody tr th:only-of-type {\n",
              "        vertical-align: middle;\n",
              "    }\n",
              "\n",
              "    .dataframe tbody tr th {\n",
              "        vertical-align: top;\n",
              "    }\n",
              "\n",
              "    .dataframe thead th {\n",
              "        text-align: right;\n",
              "    }\n",
              "</style>\n",
              "<table border=\"1\" class=\"dataframe\">\n",
              "  <thead>\n",
              "    <tr style=\"text-align: right;\">\n",
              "      <th></th>\n",
              "      <th>id</th>\n",
              "      <th>gender</th>\n",
              "      <th>age</th>\n",
              "      <th>topic</th>\n",
              "      <th>sign</th>\n",
              "      <th>date</th>\n",
              "      <th>text</th>\n",
              "    </tr>\n",
              "  </thead>\n",
              "  <tbody>\n",
              "    <tr>\n",
              "      <th>0</th>\n",
              "      <td>2059027</td>\n",
              "      <td>male</td>\n",
              "      <td>15</td>\n",
              "      <td>Student</td>\n",
              "      <td>Leo</td>\n",
              "      <td>14,May,2004</td>\n",
              "      <td>Info has been found (+/- 100 pages,...</td>\n",
              "    </tr>\n",
              "    <tr>\n",
              "      <th>1</th>\n",
              "      <td>2059027</td>\n",
              "      <td>male</td>\n",
              "      <td>15</td>\n",
              "      <td>Student</td>\n",
              "      <td>Leo</td>\n",
              "      <td>13,May,2004</td>\n",
              "      <td>These are the team members:   Drewe...</td>\n",
              "    </tr>\n",
              "    <tr>\n",
              "      <th>2</th>\n",
              "      <td>2059027</td>\n",
              "      <td>male</td>\n",
              "      <td>15</td>\n",
              "      <td>Student</td>\n",
              "      <td>Leo</td>\n",
              "      <td>12,May,2004</td>\n",
              "      <td>In het kader van kernfusie op aarde...</td>\n",
              "    </tr>\n",
              "    <tr>\n",
              "      <th>3</th>\n",
              "      <td>2059027</td>\n",
              "      <td>male</td>\n",
              "      <td>15</td>\n",
              "      <td>Student</td>\n",
              "      <td>Leo</td>\n",
              "      <td>12,May,2004</td>\n",
              "      <td>testing!!!  testing!!!</td>\n",
              "    </tr>\n",
              "    <tr>\n",
              "      <th>4</th>\n",
              "      <td>3581210</td>\n",
              "      <td>male</td>\n",
              "      <td>33</td>\n",
              "      <td>InvestmentBanking</td>\n",
              "      <td>Aquarius</td>\n",
              "      <td>11,June,2004</td>\n",
              "      <td>Thanks to Yahoo!'s Toolbar I can ...</td>\n",
              "    </tr>\n",
              "  </tbody>\n",
              "</table>\n",
              "</div>"
            ],
            "text/plain": [
              "        id  ...                                               text\n",
              "0  2059027  ...             Info has been found (+/- 100 pages,...\n",
              "1  2059027  ...             These are the team members:   Drewe...\n",
              "2  2059027  ...             In het kader van kernfusie op aarde...\n",
              "3  2059027  ...                   testing!!!  testing!!!          \n",
              "4  3581210  ...               Thanks to Yahoo!'s Toolbar I can ...\n",
              "\n",
              "[5 rows x 7 columns]"
            ]
          },
          "metadata": {
            "tags": []
          },
          "execution_count": 5
        }
      ]
    },
    {
      "cell_type": "code",
      "metadata": {
        "id": "c0cRXJIiLYZ9",
        "colab_type": "code",
        "colab": {
          "base_uri": "https://localhost:8080/",
          "height": 255
        },
        "outputId": "4f0fca04-9ee0-4c4c-dae4-d1ea982bb4c9"
      },
      "source": [
        "blogtext.info"
      ],
      "execution_count": 6,
      "outputs": [
        {
          "output_type": "execute_result",
          "data": {
            "text/plain": [
              "<bound method DataFrame.info of              id  ...                                               text\n",
              "0       2059027  ...             Info has been found (+/- 100 pages,...\n",
              "1       2059027  ...             These are the team members:   Drewe...\n",
              "2       2059027  ...             In het kader van kernfusie op aarde...\n",
              "3       2059027  ...                   testing!!!  testing!!!          \n",
              "4       3581210  ...               Thanks to Yahoo!'s Toolbar I can ...\n",
              "...         ...  ...                                                ...\n",
              "681279  1713845  ...         Dear Susan,  I could write some really ...\n",
              "681280  1713845  ...         Dear Susan,  'I have the second yeast i...\n",
              "681281  1713845  ...         Dear Susan,  Your 'boyfriend' is fuckin...\n",
              "681282  1713845  ...         Dear Susan:    Just to clarify, I am as...\n",
              "681283  1713845  ...         Hey everybody...and Susan,  You might a...\n",
              "\n",
              "[681284 rows x 7 columns]>"
            ]
          },
          "metadata": {
            "tags": []
          },
          "execution_count": 6
        }
      ]
    },
    {
      "cell_type": "code",
      "metadata": {
        "id": "lJn1T9kCKnZV",
        "colab_type": "code",
        "colab": {
          "base_uri": "https://localhost:8080/",
          "height": 111
        },
        "outputId": "7661dc85-30ab-4459-8b68-89d581c48e85"
      },
      "source": [
        "blogtext.describe().T"
      ],
      "execution_count": 7,
      "outputs": [
        {
          "output_type": "execute_result",
          "data": {
            "text/html": [
              "<div>\n",
              "<style scoped>\n",
              "    .dataframe tbody tr th:only-of-type {\n",
              "        vertical-align: middle;\n",
              "    }\n",
              "\n",
              "    .dataframe tbody tr th {\n",
              "        vertical-align: top;\n",
              "    }\n",
              "\n",
              "    .dataframe thead th {\n",
              "        text-align: right;\n",
              "    }\n",
              "</style>\n",
              "<table border=\"1\" class=\"dataframe\">\n",
              "  <thead>\n",
              "    <tr style=\"text-align: right;\">\n",
              "      <th></th>\n",
              "      <th>count</th>\n",
              "      <th>mean</th>\n",
              "      <th>std</th>\n",
              "      <th>min</th>\n",
              "      <th>25%</th>\n",
              "      <th>50%</th>\n",
              "      <th>75%</th>\n",
              "      <th>max</th>\n",
              "    </tr>\n",
              "  </thead>\n",
              "  <tbody>\n",
              "    <tr>\n",
              "      <th>id</th>\n",
              "      <td>681284.0</td>\n",
              "      <td>2.397802e+06</td>\n",
              "      <td>1.247723e+06</td>\n",
              "      <td>5114.0</td>\n",
              "      <td>1239610.0</td>\n",
              "      <td>2607577.0</td>\n",
              "      <td>3525660.0</td>\n",
              "      <td>4337650.0</td>\n",
              "    </tr>\n",
              "    <tr>\n",
              "      <th>age</th>\n",
              "      <td>681284.0</td>\n",
              "      <td>2.393233e+01</td>\n",
              "      <td>7.786009e+00</td>\n",
              "      <td>13.0</td>\n",
              "      <td>17.0</td>\n",
              "      <td>24.0</td>\n",
              "      <td>26.0</td>\n",
              "      <td>48.0</td>\n",
              "    </tr>\n",
              "  </tbody>\n",
              "</table>\n",
              "</div>"
            ],
            "text/plain": [
              "        count          mean           std  ...        50%        75%        max\n",
              "id   681284.0  2.397802e+06  1.247723e+06  ...  2607577.0  3525660.0  4337650.0\n",
              "age  681284.0  2.393233e+01  7.786009e+00  ...       24.0       26.0       48.0\n",
              "\n",
              "[2 rows x 8 columns]"
            ]
          },
          "metadata": {
            "tags": []
          },
          "execution_count": 7
        }
      ]
    },
    {
      "cell_type": "code",
      "metadata": {
        "id": "SLXIrPeyLMgw",
        "colab_type": "code",
        "colab": {
          "base_uri": "https://localhost:8080/",
          "height": 34
        },
        "outputId": "84664f96-b766-415d-b3ec-d1e0691d24b7"
      },
      "source": [
        "blogtext.shape"
      ],
      "execution_count": 8,
      "outputs": [
        {
          "output_type": "execute_result",
          "data": {
            "text/plain": [
              "(681284, 7)"
            ]
          },
          "metadata": {
            "tags": []
          },
          "execution_count": 8
        }
      ]
    },
    {
      "cell_type": "code",
      "metadata": {
        "id": "caY8sUvTLdbY",
        "colab_type": "code",
        "colab": {
          "base_uri": "https://localhost:8080/",
          "height": 221
        },
        "outputId": "c92b4822-d68f-40b2-c5dc-cd4a21ff3f45"
      },
      "source": [
        "blogtext.id.value_counts()"
      ],
      "execution_count": 9,
      "outputs": [
        {
          "output_type": "execute_result",
          "data": {
            "text/plain": [
              "449628     4221\n",
              "734562     2301\n",
              "589736     2294\n",
              "1975546    2261\n",
              "958176     2244\n",
              "           ... \n",
              "3993280       1\n",
              "3483063       1\n",
              "4165047       1\n",
              "3575447       1\n",
              "3599127       1\n",
              "Name: id, Length: 19320, dtype: int64"
            ]
          },
          "metadata": {
            "tags": []
          },
          "execution_count": 9
        }
      ]
    },
    {
      "cell_type": "code",
      "metadata": {
        "id": "fO5ZN-XYLfS5",
        "colab_type": "code",
        "colab": {
          "base_uri": "https://localhost:8080/",
          "height": 119
        },
        "outputId": "87fd176d-13d5-46a5-b8eb-882bebbe72a4"
      },
      "source": [
        "# Users with max no of product ratings\n",
        "blogtextcount = blogtext[\"id\"].value_counts()\n",
        "greaterthanhundind = blogtextcount[blogtextcount >200].index\n",
        "greaterthanhundind"
      ],
      "execution_count": 10,
      "outputs": [
        {
          "output_type": "execute_result",
          "data": {
            "text/plain": [
              "Int64Index([ 449628,  734562,  589736, 1975546,  958176, 1107146,  303162,\n",
              "             942828, 1270648, 1784456,\n",
              "            ...\n",
              "            1131517, 4177216, 1726011, 2169579, 2680773, 1209865, 1032153,\n",
              "             956218, 1552252, 1624111],\n",
              "           dtype='int64', length=561)"
            ]
          },
          "metadata": {
            "tags": []
          },
          "execution_count": 10
        }
      ]
    },
    {
      "cell_type": "markdown",
      "metadata": {
        "id": "sao-HmREMA_h",
        "colab_type": "text"
      },
      "source": [
        "**The dataset is huge ,to avoid memory issues ,for the current analysis we are filtering out first 10k rows¶**"
      ]
    },
    {
      "cell_type": "code",
      "metadata": {
        "id": "ytwT36PWLkEZ",
        "colab_type": "code",
        "colab": {
          "base_uri": "https://localhost:8080/",
          "height": 34
        },
        "outputId": "4c546a1f-ca0e-4d8b-c680-a91b1c9271b7"
      },
      "source": [
        "blogtext_trimmed =  blogtext.head(10000)\n",
        "blogtext_trimmed.shape"
      ],
      "execution_count": 11,
      "outputs": [
        {
          "output_type": "execute_result",
          "data": {
            "text/plain": [
              "(10000, 7)"
            ]
          },
          "metadata": {
            "tags": []
          },
          "execution_count": 11
        }
      ]
    },
    {
      "cell_type": "markdown",
      "metadata": {
        "id": "cEcZMfL1MLig",
        "colab_type": "text"
      },
      "source": [
        "# 2.Preprocess rows of the “text” column (7.5 points)"
      ]
    },
    {
      "cell_type": "markdown",
      "metadata": {
        "id": "eRk2cF8sMWRt",
        "colab_type": "text"
      },
      "source": [
        "* Remove unwanted characters \n",
        "* Convert text to lowercase\n",
        "* Remove unwanted spaces\n",
        "* Remove stopwords\n"
      ]
    },
    {
      "cell_type": "code",
      "metadata": {
        "id": "mRyztGN4MHbH",
        "colab_type": "code",
        "colab": {}
      },
      "source": [
        "data = blogtext.head(10000)"
      ],
      "execution_count": 0,
      "outputs": []
    },
    {
      "cell_type": "code",
      "metadata": {
        "id": "8_ZaoXpAMkDc",
        "colab_type": "code",
        "colab": {}
      },
      "source": [
        "def cleanHtml(sentence):\n",
        "    cleanr = re.compile('<.*?>')\n",
        "    cleantext = re.sub(cleanr, ' ', str(sentence))\n",
        "    return cleantext\n",
        "def cleanPunc(sentence): #function to clean the word of any punctuation or special characters\n",
        "    cleaned = re.sub(r'[?|!|\\'|\"|#]',r'',sentence)\n",
        "    cleaned = re.sub(r'[.|,|)|(|\\|/]',r' ',cleaned)\n",
        "    cleaned = cleaned.strip()\n",
        "    cleaned = cleaned.replace(\"\\n\",\" \")\n",
        "    return cleaned\n",
        "def keepAlpha(sentence):\n",
        "    alpha_sent = \"\"\n",
        "    for word in sentence.split():\n",
        "        alpha_word = re.sub('[^a-z A-Z]+', ' ', word)\n",
        "        alpha_sent += alpha_word\n",
        "        alpha_sent += \" \"\n",
        "    alpha_sent = alpha_sent.strip()\n",
        "    return alpha_sent\n",
        "data['text'] = data['text'].str.lower()\n",
        "data['text'] = data['text'].apply(cleanHtml)\n",
        "data['text'] = data['text'].apply(cleanPunc)\n",
        "data['text'] = data['text'].apply(keepAlpha)"
      ],
      "execution_count": 0,
      "outputs": []
    },
    {
      "cell_type": "markdown",
      "metadata": {
        "id": "3fuFkxgXMnLw",
        "colab_type": "text"
      },
      "source": [
        "**Removing Stop words**"
      ]
    },
    {
      "cell_type": "code",
      "metadata": {
        "id": "j5_uQza-Mv-R",
        "colab_type": "code",
        "colab": {}
      },
      "source": [
        "stop_words = set(stopwords.words('english'))\n",
        "stop_words.update(['zero','one','two','three','four','five','six','seven','eight','nine','ten','may','also','across','among','beside','however','yet','within'])\n",
        "re_stop_words = re.compile(r\"\\b(\" + \"|\".join(stop_words) + \")\\\\W\", re.I)\n",
        "def removeStopWords(sentence):\n",
        "    global re_stop_words\n",
        "    return re_stop_words.sub(\" \", sentence)\n",
        "data['text'] = data['text'].apply(removeStopWords)"
      ],
      "execution_count": 0,
      "outputs": []
    },
    {
      "cell_type": "code",
      "metadata": {
        "id": "pIUeGxwyM2yN",
        "colab_type": "code",
        "colab": {
          "base_uri": "https://localhost:8080/",
          "height": 204
        },
        "outputId": "22b7b9f9-e129-4a7a-dfc7-d58d0bfa04f1"
      },
      "source": [
        "data.head()"
      ],
      "execution_count": 15,
      "outputs": [
        {
          "output_type": "execute_result",
          "data": {
            "text/html": [
              "<div>\n",
              "<style scoped>\n",
              "    .dataframe tbody tr th:only-of-type {\n",
              "        vertical-align: middle;\n",
              "    }\n",
              "\n",
              "    .dataframe tbody tr th {\n",
              "        vertical-align: top;\n",
              "    }\n",
              "\n",
              "    .dataframe thead th {\n",
              "        text-align: right;\n",
              "    }\n",
              "</style>\n",
              "<table border=\"1\" class=\"dataframe\">\n",
              "  <thead>\n",
              "    <tr style=\"text-align: right;\">\n",
              "      <th></th>\n",
              "      <th>id</th>\n",
              "      <th>gender</th>\n",
              "      <th>age</th>\n",
              "      <th>topic</th>\n",
              "      <th>sign</th>\n",
              "      <th>date</th>\n",
              "      <th>text</th>\n",
              "    </tr>\n",
              "  </thead>\n",
              "  <tbody>\n",
              "    <tr>\n",
              "      <th>0</th>\n",
              "      <td>2059027</td>\n",
              "      <td>male</td>\n",
              "      <td>15</td>\n",
              "      <td>Student</td>\n",
              "      <td>Leo</td>\n",
              "      <td>14,May,2004</td>\n",
              "      <td>info   found       pages      mb  pdf files   ...</td>\n",
              "    </tr>\n",
              "    <tr>\n",
              "      <th>1</th>\n",
              "      <td>2059027</td>\n",
              "      <td>male</td>\n",
              "      <td>15</td>\n",
              "      <td>Student</td>\n",
              "      <td>Leo</td>\n",
              "      <td>13,May,2004</td>\n",
              "      <td>team members  drewes van der laag urllink m...</td>\n",
              "    </tr>\n",
              "    <tr>\n",
              "      <th>2</th>\n",
              "      <td>2059027</td>\n",
              "      <td>male</td>\n",
              "      <td>15</td>\n",
              "      <td>Student</td>\n",
              "      <td>Leo</td>\n",
              "      <td>12,May,2004</td>\n",
              "      <td>het kader van kernfusie op aarde  maak je eig...</td>\n",
              "    </tr>\n",
              "    <tr>\n",
              "      <th>3</th>\n",
              "      <td>2059027</td>\n",
              "      <td>male</td>\n",
              "      <td>15</td>\n",
              "      <td>Student</td>\n",
              "      <td>Leo</td>\n",
              "      <td>12,May,2004</td>\n",
              "      <td>testing testing</td>\n",
              "    </tr>\n",
              "    <tr>\n",
              "      <th>4</th>\n",
              "      <td>3581210</td>\n",
              "      <td>male</td>\n",
              "      <td>33</td>\n",
              "      <td>InvestmentBanking</td>\n",
              "      <td>Aquarius</td>\n",
              "      <td>11,June,2004</td>\n",
              "      <td>thanks  yahoos toolbar    capture  urls  popup...</td>\n",
              "    </tr>\n",
              "  </tbody>\n",
              "</table>\n",
              "</div>"
            ],
            "text/plain": [
              "        id  ...                                               text\n",
              "0  2059027  ...  info   found       pages      mb  pdf files   ...\n",
              "1  2059027  ...     team members  drewes van der laag urllink m...\n",
              "2  2059027  ...   het kader van kernfusie op aarde  maak je eig...\n",
              "3  2059027  ...                                    testing testing\n",
              "4  3581210  ...  thanks  yahoos toolbar    capture  urls  popup...\n",
              "\n",
              "[5 rows x 7 columns]"
            ]
          },
          "metadata": {
            "tags": []
          },
          "execution_count": 15
        }
      ]
    },
    {
      "cell_type": "markdown",
      "metadata": {
        "id": "xsnh0638Rh_7",
        "colab_type": "text"
      },
      "source": [
        "# 3.As we want to make this into a multi-label classification problem, you are required to merge  all the label columns together, so that we have all the labels together for a particular sentence  (7.5 points)"
      ]
    },
    {
      "cell_type": "markdown",
      "metadata": {
        "id": "yLFWDx56RpA_",
        "colab_type": "text"
      },
      "source": [
        "* Label columns to merge: “gender”, “age”, “topic”, “sign”\n",
        "\n",
        "* After completing the previous step, there should be only two columns in your data\n",
        "frame i.e. “text” and “labels” as shown in the below image"
      ]
    },
    {
      "cell_type": "code",
      "metadata": {
        "id": "kMrazJtFRda0",
        "colab_type": "code",
        "colab": {}
      },
      "source": [
        "## Removing date colum as this is not needed for our current analysis\n",
        "data = data.drop(['date'], axis=1)"
      ],
      "execution_count": 0,
      "outputs": []
    },
    {
      "cell_type": "code",
      "metadata": {
        "id": "etvRiyuwRxiH",
        "colab_type": "code",
        "colab": {
          "base_uri": "https://localhost:8080/",
          "height": 204
        },
        "outputId": "47cf18d5-512c-4e6e-bbaa-ee150375190c"
      },
      "source": [
        "data.head()"
      ],
      "execution_count": 17,
      "outputs": [
        {
          "output_type": "execute_result",
          "data": {
            "text/html": [
              "<div>\n",
              "<style scoped>\n",
              "    .dataframe tbody tr th:only-of-type {\n",
              "        vertical-align: middle;\n",
              "    }\n",
              "\n",
              "    .dataframe tbody tr th {\n",
              "        vertical-align: top;\n",
              "    }\n",
              "\n",
              "    .dataframe thead th {\n",
              "        text-align: right;\n",
              "    }\n",
              "</style>\n",
              "<table border=\"1\" class=\"dataframe\">\n",
              "  <thead>\n",
              "    <tr style=\"text-align: right;\">\n",
              "      <th></th>\n",
              "      <th>id</th>\n",
              "      <th>gender</th>\n",
              "      <th>age</th>\n",
              "      <th>topic</th>\n",
              "      <th>sign</th>\n",
              "      <th>text</th>\n",
              "    </tr>\n",
              "  </thead>\n",
              "  <tbody>\n",
              "    <tr>\n",
              "      <th>0</th>\n",
              "      <td>2059027</td>\n",
              "      <td>male</td>\n",
              "      <td>15</td>\n",
              "      <td>Student</td>\n",
              "      <td>Leo</td>\n",
              "      <td>info   found       pages      mb  pdf files   ...</td>\n",
              "    </tr>\n",
              "    <tr>\n",
              "      <th>1</th>\n",
              "      <td>2059027</td>\n",
              "      <td>male</td>\n",
              "      <td>15</td>\n",
              "      <td>Student</td>\n",
              "      <td>Leo</td>\n",
              "      <td>team members  drewes van der laag urllink m...</td>\n",
              "    </tr>\n",
              "    <tr>\n",
              "      <th>2</th>\n",
              "      <td>2059027</td>\n",
              "      <td>male</td>\n",
              "      <td>15</td>\n",
              "      <td>Student</td>\n",
              "      <td>Leo</td>\n",
              "      <td>het kader van kernfusie op aarde  maak je eig...</td>\n",
              "    </tr>\n",
              "    <tr>\n",
              "      <th>3</th>\n",
              "      <td>2059027</td>\n",
              "      <td>male</td>\n",
              "      <td>15</td>\n",
              "      <td>Student</td>\n",
              "      <td>Leo</td>\n",
              "      <td>testing testing</td>\n",
              "    </tr>\n",
              "    <tr>\n",
              "      <th>4</th>\n",
              "      <td>3581210</td>\n",
              "      <td>male</td>\n",
              "      <td>33</td>\n",
              "      <td>InvestmentBanking</td>\n",
              "      <td>Aquarius</td>\n",
              "      <td>thanks  yahoos toolbar    capture  urls  popup...</td>\n",
              "    </tr>\n",
              "  </tbody>\n",
              "</table>\n",
              "</div>"
            ],
            "text/plain": [
              "        id gender  ...      sign                                               text\n",
              "0  2059027   male  ...       Leo  info   found       pages      mb  pdf files   ...\n",
              "1  2059027   male  ...       Leo     team members  drewes van der laag urllink m...\n",
              "2  2059027   male  ...       Leo   het kader van kernfusie op aarde  maak je eig...\n",
              "3  2059027   male  ...       Leo                                    testing testing\n",
              "4  3581210   male  ...  Aquarius  thanks  yahoos toolbar    capture  urls  popup...\n",
              "\n",
              "[5 rows x 6 columns]"
            ]
          },
          "metadata": {
            "tags": []
          },
          "execution_count": 17
        }
      ]
    },
    {
      "cell_type": "code",
      "metadata": {
        "id": "CkaDR2CpR0Do",
        "colab_type": "code",
        "colab": {
          "base_uri": "https://localhost:8080/",
          "height": 34
        },
        "outputId": "1760bd10-403f-4dd3-ae0a-d0b3b781c412"
      },
      "source": [
        "data.shape"
      ],
      "execution_count": 18,
      "outputs": [
        {
          "output_type": "execute_result",
          "data": {
            "text/plain": [
              "(10000, 6)"
            ]
          },
          "metadata": {
            "tags": []
          },
          "execution_count": 18
        }
      ]
    },
    {
      "cell_type": "code",
      "metadata": {
        "id": "DPM-pv8xR3la",
        "colab_type": "code",
        "colab": {
          "base_uri": "https://localhost:8080/",
          "height": 136
        },
        "outputId": "dcf0354c-7f20-4052-e017-dca5429e2100"
      },
      "source": [
        "data.isnull().sum()"
      ],
      "execution_count": 19,
      "outputs": [
        {
          "output_type": "execute_result",
          "data": {
            "text/plain": [
              "id        0\n",
              "gender    0\n",
              "age       0\n",
              "topic     0\n",
              "sign      0\n",
              "text      0\n",
              "dtype: int64"
            ]
          },
          "metadata": {
            "tags": []
          },
          "execution_count": 19
        }
      ]
    },
    {
      "cell_type": "code",
      "metadata": {
        "id": "0MNtFxaCR8Ws",
        "colab_type": "code",
        "colab": {}
      },
      "source": [
        "## As there are no null values ,we proceed with merging of gender,age,topic,sign into labels col\n",
        "\n",
        "data = data.assign(labels = data.gender.astype(str) + ', ' + \\\n",
        "  data.age.astype(str) + ', ' + data.topic.astype(str) + ', '+ \\\n",
        "  data.sign.astype(str))"
      ],
      "execution_count": 0,
      "outputs": []
    },
    {
      "cell_type": "code",
      "metadata": {
        "id": "4aPHoMikSHpk",
        "colab_type": "code",
        "colab": {
          "base_uri": "https://localhost:8080/",
          "height": 204
        },
        "outputId": "643a1fb7-da1d-4355-9c8f-e1f00aa1db5e"
      },
      "source": [
        "data.head()"
      ],
      "execution_count": 21,
      "outputs": [
        {
          "output_type": "execute_result",
          "data": {
            "text/html": [
              "<div>\n",
              "<style scoped>\n",
              "    .dataframe tbody tr th:only-of-type {\n",
              "        vertical-align: middle;\n",
              "    }\n",
              "\n",
              "    .dataframe tbody tr th {\n",
              "        vertical-align: top;\n",
              "    }\n",
              "\n",
              "    .dataframe thead th {\n",
              "        text-align: right;\n",
              "    }\n",
              "</style>\n",
              "<table border=\"1\" class=\"dataframe\">\n",
              "  <thead>\n",
              "    <tr style=\"text-align: right;\">\n",
              "      <th></th>\n",
              "      <th>id</th>\n",
              "      <th>gender</th>\n",
              "      <th>age</th>\n",
              "      <th>topic</th>\n",
              "      <th>sign</th>\n",
              "      <th>text</th>\n",
              "      <th>labels</th>\n",
              "    </tr>\n",
              "  </thead>\n",
              "  <tbody>\n",
              "    <tr>\n",
              "      <th>0</th>\n",
              "      <td>2059027</td>\n",
              "      <td>male</td>\n",
              "      <td>15</td>\n",
              "      <td>Student</td>\n",
              "      <td>Leo</td>\n",
              "      <td>info   found       pages      mb  pdf files   ...</td>\n",
              "      <td>male, 15, Student, Leo</td>\n",
              "    </tr>\n",
              "    <tr>\n",
              "      <th>1</th>\n",
              "      <td>2059027</td>\n",
              "      <td>male</td>\n",
              "      <td>15</td>\n",
              "      <td>Student</td>\n",
              "      <td>Leo</td>\n",
              "      <td>team members  drewes van der laag urllink m...</td>\n",
              "      <td>male, 15, Student, Leo</td>\n",
              "    </tr>\n",
              "    <tr>\n",
              "      <th>2</th>\n",
              "      <td>2059027</td>\n",
              "      <td>male</td>\n",
              "      <td>15</td>\n",
              "      <td>Student</td>\n",
              "      <td>Leo</td>\n",
              "      <td>het kader van kernfusie op aarde  maak je eig...</td>\n",
              "      <td>male, 15, Student, Leo</td>\n",
              "    </tr>\n",
              "    <tr>\n",
              "      <th>3</th>\n",
              "      <td>2059027</td>\n",
              "      <td>male</td>\n",
              "      <td>15</td>\n",
              "      <td>Student</td>\n",
              "      <td>Leo</td>\n",
              "      <td>testing testing</td>\n",
              "      <td>male, 15, Student, Leo</td>\n",
              "    </tr>\n",
              "    <tr>\n",
              "      <th>4</th>\n",
              "      <td>3581210</td>\n",
              "      <td>male</td>\n",
              "      <td>33</td>\n",
              "      <td>InvestmentBanking</td>\n",
              "      <td>Aquarius</td>\n",
              "      <td>thanks  yahoos toolbar    capture  urls  popup...</td>\n",
              "      <td>male, 33, InvestmentBanking, Aquarius</td>\n",
              "    </tr>\n",
              "  </tbody>\n",
              "</table>\n",
              "</div>"
            ],
            "text/plain": [
              "        id  ...                                 labels\n",
              "0  2059027  ...                 male, 15, Student, Leo\n",
              "1  2059027  ...                 male, 15, Student, Leo\n",
              "2  2059027  ...                 male, 15, Student, Leo\n",
              "3  2059027  ...                 male, 15, Student, Leo\n",
              "4  3581210  ...  male, 33, InvestmentBanking, Aquarius\n",
              "\n",
              "[5 rows x 7 columns]"
            ]
          },
          "metadata": {
            "tags": []
          },
          "execution_count": 21
        }
      ]
    },
    {
      "cell_type": "code",
      "metadata": {
        "id": "PP-91ixBSMRf",
        "colab_type": "code",
        "colab": {}
      },
      "source": [
        "## Dropping gender/age/topic/sign from the df as they are now merged into labels\n",
        "\n",
        "data.drop(labels = ['gender','age','topic','sign'], axis=1,inplace=True)"
      ],
      "execution_count": 0,
      "outputs": []
    },
    {
      "cell_type": "code",
      "metadata": {
        "id": "C94D1_aESZbf",
        "colab_type": "code",
        "colab": {
          "base_uri": "https://localhost:8080/",
          "height": 204
        },
        "outputId": "ca580136-a53e-4c7a-8762-808f52c9588d"
      },
      "source": [
        "data.head()"
      ],
      "execution_count": 23,
      "outputs": [
        {
          "output_type": "execute_result",
          "data": {
            "text/html": [
              "<div>\n",
              "<style scoped>\n",
              "    .dataframe tbody tr th:only-of-type {\n",
              "        vertical-align: middle;\n",
              "    }\n",
              "\n",
              "    .dataframe tbody tr th {\n",
              "        vertical-align: top;\n",
              "    }\n",
              "\n",
              "    .dataframe thead th {\n",
              "        text-align: right;\n",
              "    }\n",
              "</style>\n",
              "<table border=\"1\" class=\"dataframe\">\n",
              "  <thead>\n",
              "    <tr style=\"text-align: right;\">\n",
              "      <th></th>\n",
              "      <th>id</th>\n",
              "      <th>text</th>\n",
              "      <th>labels</th>\n",
              "    </tr>\n",
              "  </thead>\n",
              "  <tbody>\n",
              "    <tr>\n",
              "      <th>0</th>\n",
              "      <td>2059027</td>\n",
              "      <td>info   found       pages      mb  pdf files   ...</td>\n",
              "      <td>male, 15, Student, Leo</td>\n",
              "    </tr>\n",
              "    <tr>\n",
              "      <th>1</th>\n",
              "      <td>2059027</td>\n",
              "      <td>team members  drewes van der laag urllink m...</td>\n",
              "      <td>male, 15, Student, Leo</td>\n",
              "    </tr>\n",
              "    <tr>\n",
              "      <th>2</th>\n",
              "      <td>2059027</td>\n",
              "      <td>het kader van kernfusie op aarde  maak je eig...</td>\n",
              "      <td>male, 15, Student, Leo</td>\n",
              "    </tr>\n",
              "    <tr>\n",
              "      <th>3</th>\n",
              "      <td>2059027</td>\n",
              "      <td>testing testing</td>\n",
              "      <td>male, 15, Student, Leo</td>\n",
              "    </tr>\n",
              "    <tr>\n",
              "      <th>4</th>\n",
              "      <td>3581210</td>\n",
              "      <td>thanks  yahoos toolbar    capture  urls  popup...</td>\n",
              "      <td>male, 33, InvestmentBanking, Aquarius</td>\n",
              "    </tr>\n",
              "  </tbody>\n",
              "</table>\n",
              "</div>"
            ],
            "text/plain": [
              "        id  ...                                 labels\n",
              "0  2059027  ...                 male, 15, Student, Leo\n",
              "1  2059027  ...                 male, 15, Student, Leo\n",
              "2  2059027  ...                 male, 15, Student, Leo\n",
              "3  2059027  ...                 male, 15, Student, Leo\n",
              "4  3581210  ...  male, 33, InvestmentBanking, Aquarius\n",
              "\n",
              "[5 rows x 3 columns]"
            ]
          },
          "metadata": {
            "tags": []
          },
          "execution_count": 23
        }
      ]
    },
    {
      "cell_type": "markdown",
      "metadata": {
        "id": "AEpn9Ql1UPW_",
        "colab_type": "text"
      },
      "source": [
        "# 4.Separate features and labels, and split the data into training and testing (5 points)¶\n",
        "\n",
        "**Features is the text column,labels is the labels column**"
      ]
    },
    {
      "cell_type": "code",
      "metadata": {
        "id": "5UGzWEcMULQn",
        "colab_type": "code",
        "colab": {}
      },
      "source": [
        "X = data.drop(labels = ['id','labels'], axis=1)\n",
        "y = data.drop(labels = ['id','text'], axis=1)"
      ],
      "execution_count": 0,
      "outputs": []
    },
    {
      "cell_type": "code",
      "metadata": {
        "id": "7qTZpElTUX4c",
        "colab_type": "code",
        "colab": {}
      },
      "source": [
        "from sklearn.model_selection import train_test_split\n",
        "X_train, X_test, y_train, y_test = train_test_split(X.text,y.labels,test_size=0.3, random_state=42, shuffle=True)"
      ],
      "execution_count": 0,
      "outputs": []
    },
    {
      "cell_type": "code",
      "metadata": {
        "id": "6KwISQ73UaqY",
        "colab_type": "code",
        "colab": {}
      },
      "source": [
        "import pickle\n",
        "\n",
        "pickle_out = open(\"/content/drive/My Drive/Colab/NLP/X_train.pickle\",\"wb\")\n",
        "pickle.dump(X_train,pickle_out)\n",
        "pickle_out.close()\n",
        "\n",
        "pickle_out = open(\"/content/drive/My Drive/Colab/NLP/y_train.pickle\",\"wb\")\n",
        "pickle.dump(y_train,pickle_out)\n",
        "pickle_out.close()\n",
        "\n",
        "pickle_out = open(\"/content/drive/My Drive/Colab/NLP/X_test.pickle\",\"wb\")\n",
        "pickle.dump(X_test,pickle_out)\n",
        "pickle_out.close()\n",
        "\n",
        "pickle_out = open(\"/content/drive/My Drive/Colab/NLP/y_test.pickle\",\"wb\")\n",
        "pickle.dump(y_test,pickle_out)\n",
        "pickle_out.close()"
      ],
      "execution_count": 0,
      "outputs": []
    },
    {
      "cell_type": "code",
      "metadata": {
        "id": "UkikQQraUdLG",
        "colab_type": "code",
        "colab": {}
      },
      "source": [
        "pickle_in = open(\"/content/drive/My Drive/Colab/NLP/X_train.pickle\",\"rb\")\n",
        "X_train = pickle.load(pickle_in) \n",
        "pickle_in.close()\n",
        "\n",
        "pickle_in = open(\"/content/drive/My Drive/Colab/NLP/y_train.pickle\",\"rb\")\n",
        "y_train = pickle.load(pickle_in) \n",
        "pickle_in.close()\n",
        "\n",
        "pickle_in = open(\"/content/drive/My Drive/Colab/NLP/X_test.pickle\",\"rb\")\n",
        "X_test = pickle.load(pickle_in) \n",
        "pickle_in.close()\n",
        "\n",
        "pickle_in = open(\"/content/drive/My Drive/Colab/NLP/y_test.pickle\",\"rb\")\n",
        "y_test = pickle.load(pickle_in) \n",
        "pickle_in.close()"
      ],
      "execution_count": 0,
      "outputs": []
    },
    {
      "cell_type": "markdown",
      "metadata": {
        "id": "3uDoh2rQVu0Y",
        "colab_type": "text"
      },
      "source": [
        "# 5.Vectorize the features (5 points)\n",
        "\n",
        "**A. Create a Bag of Words using count vectorizer**\n",
        "* Use ngram_range=(1, 2)\n",
        "* Vectorize training and testing features\n",
        "\n",
        "**Print the term-document matrix**"
      ]
    },
    {
      "cell_type": "code",
      "metadata": {
        "id": "2N-aEtdjVsFx",
        "colab_type": "code",
        "colab": {}
      },
      "source": [
        "vectorizer = CountVectorizer(ngram_range=(1, 2))\n",
        "X_train_dtm = vectorizer.fit_transform(X_train)\n",
        "X_test_dtm = vectorizer.transform(X_test)"
      ],
      "execution_count": 0,
      "outputs": []
    },
    {
      "cell_type": "code",
      "metadata": {
        "id": "a1a5u7FwWNxQ",
        "colab_type": "code",
        "colab": {
          "base_uri": "https://localhost:8080/",
          "height": 88
        },
        "outputId": "284e91d8-31ac-4fa0-f7dd-520dac17ca8e"
      },
      "source": [
        "print(X_test_dtm.shape)\n",
        "print(X_train_dtm.shape)\n",
        "print (vectorizer.get_feature_names()[-30:])"
      ],
      "execution_count": 30,
      "outputs": [
        {
          "output_type": "stream",
          "text": [
            "(3000, 481881)\n",
            "(7000, 481881)\n",
            "['zun personally', 'zuo', 'zuo le', 'zur', 'zur gumitlikeit', 'zy', 'zy expect', 'zywiec', 'zywiec possibility', 'zz', 'zz top', 'zza', 'zza dong', 'zzz', 'zzzexy', 'zzzexy im', 'zzzs', 'zzzs well', 'zzzz', 'zzzz glad', 'zzzz slept', 'zzzzzz', 'zzzzzzz', 'zzzzzzzzz', 'zzzzzzzzz good', 'zzzzzzzzzz', 'zzzzzzzzzz didnt', 'zzzzzzzzzzzz', 'zzzzzzzzzzzzz', 'zzzzzzzzzzzzzzz']\n"
          ],
          "name": "stdout"
        }
      ]
    },
    {
      "cell_type": "markdown",
      "metadata": {
        "id": "sF0Mss6mWh1V",
        "colab_type": "text"
      },
      "source": [
        "# 6.Create a dictionary to get the count of every label i.e. the key will be label name and value will  be the total count of the label. Check below image for reference (5 points)"
      ]
    },
    {
      "cell_type": "code",
      "metadata": {
        "id": "dkxqTKRGWcf2",
        "colab_type": "code",
        "colab": {
          "base_uri": "https://localhost:8080/",
          "height": 88
        },
        "outputId": "cb93c4a1-991d-42f3-dbf5-0e241252cd12"
      },
      "source": [
        "countsgender = blogtext_trimmed['gender'].value_counts().to_dict()\n",
        "\n",
        "countsage = blogtext_trimmed['age'].value_counts().to_dict()\n",
        "\n",
        "countstopic = blogtext_trimmed['topic'].value_counts().to_dict()\n",
        "\n",
        "countssign = blogtext_trimmed['sign'].value_counts().to_dict()\n",
        "\n",
        "dictlabels = {**countsgender , **countsage, **countstopic, **countssign}\n",
        " \n",
        "print(' dictionary to get the count of every label  :\\n---------------------------------')\n",
        "print(dictlabels)"
      ],
      "execution_count": 31,
      "outputs": [
        {
          "output_type": "stream",
          "text": [
            " dictionary to get the count of every label  :\n",
            "---------------------------------\n",
            "{'male': 5916, 'female': 4084, 35: 2315, 36: 1708, 17: 1185, 27: 1054, 24: 655, 15: 602, 34: 553, 16: 440, 25: 386, 23: 253, 26: 234, 14: 212, 33: 136, 39: 79, 38: 46, 13: 42, 37: 33, 41: 20, 45: 16, 42: 14, 46: 7, 43: 6, 44: 3, 40: 1, 'indUnk': 3287, 'Technology': 2654, 'Fashion': 1622, 'Student': 1137, 'Education': 270, 'Marketing': 156, 'Engineering': 127, 'Internet': 118, 'Communications-Media': 99, 'BusinessServices': 91, 'Sports-Recreation': 80, 'Non-Profit': 71, 'InvestmentBanking': 70, 'Science': 63, 'Arts': 45, 'Consulting': 21, 'Museums-Libraries': 17, 'Banking': 16, 'Automotive': 14, 'Law': 11, 'LawEnforcement-Security': 10, 'Religion': 9, 'Accounting': 4, 'Publishing': 4, 'HumanResources': 2, 'Telecommunications': 2, 'Aries': 4198, 'Sagittarius': 1097, 'Scorpio': 971, 'Taurus': 812, 'Aquarius': 571, 'Cancer': 504, 'Libra': 491, 'Pisces': 454, 'Leo': 301, 'Virgo': 236, 'Capricorn': 215, 'Gemini': 150}\n"
          ],
          "name": "stdout"
        }
      ]
    },
    {
      "cell_type": "markdown",
      "metadata": {
        "id": "X0I4fUo0WxC-",
        "colab_type": "text"
      },
      "source": [
        "# 7.Transform the labels - (7.5 points)\n",
        "**As we have noticed before, in this task each example can have multiple tags. To deal with such kind of prediction, we need to transform labels in a binary form and the prediction will be a mask of 0s and 1s. For this purpose, it is convenient to use ​MultiLabelBinarizer​ from sklearn**\n",
        "* Convert your train and test labels using MultiLabelBinarizer"
      ]
    },
    {
      "cell_type": "code",
      "metadata": {
        "id": "0xl-wSV-Wwu5",
        "colab_type": "code",
        "colab": {
          "base_uri": "https://localhost:8080/",
          "height": 51
        },
        "outputId": "aa714e63-6f05-4e88-8340-f952f9f0a1dc"
      },
      "source": [
        "# transform to dictionary\n",
        "y_train = [set(i.split(',')) for i in y_train]\n",
        "y_test = [set(i.split(',')) for i in y_test]\n",
        "print(y_train[0])\n",
        "print(y_test[0])"
      ],
      "execution_count": 32,
      "outputs": [
        {
          "output_type": "stream",
          "text": [
            "{' indUnk', 'female', ' Sagittarius', ' 24'}\n",
            "{' 23', ' Consulting', 'male', ' Taurus'}\n"
          ],
          "name": "stdout"
        }
      ]
    },
    {
      "cell_type": "code",
      "metadata": {
        "id": "gjuttgb2Wrgz",
        "colab_type": "code",
        "colab": {}
      },
      "source": [
        "mlb = MultiLabelBinarizer()\n",
        "y_train = mlb.fit_transform(y_train)\n",
        "y_test = mlb.transform(y_test)"
      ],
      "execution_count": 0,
      "outputs": []
    },
    {
      "cell_type": "code",
      "metadata": {
        "id": "zB6bEZSYXPcR",
        "colab_type": "code",
        "colab": {
          "base_uri": "https://localhost:8080/",
          "height": 68
        },
        "outputId": "4a2f8d74-9331-49b7-c86f-b33ab26fae5f"
      },
      "source": [
        "y_test[0]"
      ],
      "execution_count": 36,
      "outputs": [
        {
          "output_type": "execute_result",
          "data": {
            "text/plain": [
              "array([0, 0, 0, 0, 0, 1, 0, 0, 0, 0, 0, 0, 0, 0, 0, 0, 0, 0, 0, 0, 0, 0,\n",
              "       0, 0, 0, 0, 0, 0, 0, 0, 0, 0, 0, 1, 0, 0, 0, 0, 0, 0, 0, 0, 0, 0,\n",
              "       0, 0, 0, 0, 0, 0, 0, 0, 0, 0, 0, 0, 1, 0, 0, 0, 0, 0, 1])"
            ]
          },
          "metadata": {
            "tags": []
          },
          "execution_count": 36
        }
      ]
    },
    {
      "cell_type": "code",
      "metadata": {
        "id": "zmzeczZQXREK",
        "colab_type": "code",
        "colab": {
          "base_uri": "https://localhost:8080/",
          "height": 68
        },
        "outputId": "86209dc2-8ef0-4329-e324-59203861af58"
      },
      "source": [
        "y_train[0]"
      ],
      "execution_count": 37,
      "outputs": [
        {
          "output_type": "execute_result",
          "data": {
            "text/plain": [
              "array([0, 0, 0, 0, 0, 0, 1, 0, 0, 0, 0, 0, 0, 0, 0, 0, 0, 0, 0, 0, 0, 0,\n",
              "       0, 0, 0, 0, 0, 0, 0, 0, 0, 0, 0, 0, 0, 0, 0, 0, 0, 0, 0, 0, 0, 0,\n",
              "       0, 0, 0, 0, 0, 0, 0, 1, 0, 0, 0, 0, 0, 0, 0, 0, 1, 1, 0])"
            ]
          },
          "metadata": {
            "tags": []
          },
          "execution_count": 37
        }
      ]
    },
    {
      "cell_type": "code",
      "metadata": {
        "id": "StD_cJvVXUzn",
        "colab_type": "code",
        "colab": {
          "base_uri": "https://localhost:8080/",
          "height": 238
        },
        "outputId": "f58deccf-a2de-458f-849c-f074325061c6"
      },
      "source": [
        "mlb.classes_"
      ],
      "execution_count": 38,
      "outputs": [
        {
          "output_type": "execute_result",
          "data": {
            "text/plain": [
              "array([' 13', ' 14', ' 15', ' 16', ' 17', ' 23', ' 24', ' 25', ' 26',\n",
              "       ' 27', ' 33', ' 34', ' 35', ' 36', ' 37', ' 38', ' 39', ' 41',\n",
              "       ' 42', ' 43', ' 44', ' 45', ' 46', ' Accounting', ' Aquarius',\n",
              "       ' Aries', ' Arts', ' Automotive', ' Banking', ' BusinessServices',\n",
              "       ' Cancer', ' Capricorn', ' Communications-Media', ' Consulting',\n",
              "       ' Education', ' Engineering', ' Fashion', ' Gemini',\n",
              "       ' HumanResources', ' Internet', ' InvestmentBanking', ' Law',\n",
              "       ' LawEnforcement-Security', ' Leo', ' Libra', ' Marketing',\n",
              "       ' Museums-Libraries', ' Non-Profit', ' Pisces', ' Publishing',\n",
              "       ' Religion', ' Sagittarius', ' Science', ' Scorpio',\n",
              "       ' Sports-Recreation', ' Student', ' Taurus', ' Technology',\n",
              "       ' Telecommunications', ' Virgo', ' indUnk', 'female', 'male'],\n",
              "      dtype=object)"
            ]
          },
          "metadata": {
            "tags": []
          },
          "execution_count": 38
        }
      ]
    },
    {
      "cell_type": "markdown",
      "metadata": {
        "id": "fEbzjhzpXgwx",
        "colab_type": "text"
      },
      "source": [
        "# 8.Choose a classifier - (5 points)\n",
        "\n",
        "**In this task, we suggest using the One-vs-Rest approach, which is implemented in OneVsRestClassifier​ class. In this approach k classifiers (= number of tags) are trained. As a basic classifier, use ​LogisticRegression​. It is one of the simplest methods, but often it performs good enough in text classification tasks. It might take some time because the number of classifiers to train is large.**\n"
      ]
    },
    {
      "cell_type": "code",
      "metadata": {
        "id": "y7bPTicGXd51",
        "colab_type": "code",
        "colab": {}
      },
      "source": [
        "clf = LogisticRegression(solver = 'lbfgs')\n",
        "clf = OneVsRestClassifier(clf)"
      ],
      "execution_count": 0,
      "outputs": []
    },
    {
      "cell_type": "markdown",
      "metadata": {
        "id": "reeJuaBpX6wQ",
        "colab_type": "text"
      },
      "source": [
        "# 9. Fit the classifier, make predictions and get the accuracy (5 points)"
      ]
    },
    {
      "cell_type": "code",
      "metadata": {
        "id": "bVD2kxqzX4Vd",
        "colab_type": "code",
        "colab": {}
      },
      "source": [
        "clf.fit(X_train_dtm, y_train)\n",
        "y_pred_class = clf.predict(X_test_dtm)"
      ],
      "execution_count": 0,
      "outputs": []
    },
    {
      "cell_type": "code",
      "metadata": {
        "id": "7JLDfZ8vX-ZK",
        "colab_type": "code",
        "colab": {
          "base_uri": "https://localhost:8080/",
          "height": 238
        },
        "outputId": "34d01113-a9aa-40f5-a5c7-0e198e133069"
      },
      "source": [
        "print(\"Accuracy score:\",metrics.accuracy_score(y_test, y_pred_class))\n",
        "print(' \\n ')\n",
        "print(\"F1 score micro:\",metrics.f1_score(y_test, y_pred_class,average='micro'))\n",
        "print(' \\n ')\n",
        "print(\"F1 score macro:\",metrics.f1_score(y_test, y_pred_class,average='macro'))\n",
        "print(' \\n ')\n",
        "print(\"Average precision score:\",metrics.precision_score(y_test, y_pred_class,average='weighted'))\n",
        "print(' \\n ')\n",
        "print(\"Average Recall score:\",metrics.recall_score(y_test, y_pred_class,average='weighted'))"
      ],
      "execution_count": 41,
      "outputs": [
        {
          "output_type": "stream",
          "text": [
            "Accuracy score: 0.30966666666666665\n",
            " \n",
            " \n",
            "F1 score micro: 0.6394081381011097\n",
            " \n",
            " \n",
            "F1 score macro: 0.269767539976007\n",
            " \n",
            " \n",
            "Average precision score: 0.7748538293680279\n",
            " \n",
            " \n",
            "Average Recall score: 0.5402116843070256\n"
          ],
          "name": "stdout"
        }
      ]
    },
    {
      "cell_type": "markdown",
      "metadata": {
        "id": "49tElJczYi2T",
        "colab_type": "text"
      },
      "source": [
        "# 10.Print true label and predicted label for any five examples (7.5 points)"
      ]
    },
    {
      "cell_type": "code",
      "metadata": {
        "id": "Po0Z_bncYcR5",
        "colab_type": "code",
        "colab": {
          "base_uri": "https://localhost:8080/",
          "height": 462
        },
        "outputId": "92867be1-ef89-4127-b69c-e1f4cbc89b27"
      },
      "source": [
        "y_test_pred_inversed = mlb.inverse_transform(y_pred_class)\n",
        "y_test_inversed = mlb.inverse_transform(y_test)\n",
        "for i in range(10,15):\n",
        "    print('Title:\\t{}\\nTrue labels:\\t{}\\nPredicted labels:\\t{}\\n\\n'.format(\n",
        "        X_test.get(i),\n",
        "        ','.join(y_test_inversed[i]),\n",
        "        ','.join(y_test_pred_inversed[i])\n",
        "    ))"
      ],
      "execution_count": 42,
      "outputs": [
        {
          "output_type": "stream",
          "text": [
            "Title:\tah  korean language  looks  difficult  first    figure    read hanguel koreas surprisingly easy  learn alphabet    characters  seems  easy   vocabulary starts oh    backwards  us sentence structure yikes luckily   many options  us slow witted foreigners  take   language  course  could list    urllink  joongang article says  lot     resources urllink  well  youre  guy    motivation    jeon ji hyun    latest  something   actually star  movies  cfs  hear  means commercial feature   positive  saw  latest movie  sunday night  hard  describe  name  english version  windstruck   korean version    yeochinso   short    ne yeojachingu rul sogayhamnida  id like  introduce    girlfriend surprisingly  titles make sense   like    website korean  english looks quite good actually urllink   movie  shown  theatres  subtitles  special times  info  urllink    list  many   theatres  seoul click urllink  urllink    great reason  learn korean   wasnt already married    went    foreigners  well   local korean national  course  korean   take  picture     put    urllink      movie    hof bar update   bud  mine passed urllink  link         giordano ad apparently    aired  korea nothing xxx      sensibilities   sort\n",
            "True labels:\t 35, Aries, Technology,male\n",
            "Predicted labels:\t 35, Aries, Technology,male\n",
            "\n",
            "\n",
            "Title:\tNone\n",
            "True labels:\t 36, Aries, Fashion,male\n",
            "Predicted labels:\t 36, Aries, Fashion,male\n",
            "\n",
            "\n",
            "Title:\tlast night  pretty fun mostly    company  kept  recently met  couple  finance types   yeouido  isnt  hard     referred   koreas wall street  spoke pretty good english    rarity     yeouido  everywhere  korea   studied outside korea  deal  international business  still  brutal canadian accent made  pretty tough    figure     saying sometimes    time   accent got   way though   went   restaurant  guy junseok  gal  named hye kyung asked    like deok  wrote     heard   thought  meant dog  eat     called  bluff  said sure lets go  kind  dog oh  deok deok ya dog  deok  said    figured    meant duck  said oh   oh ri duck    gay dog  didnt   speak korean  know       food  great   went   obligatory   ee cha thanks hye kyung   correction  second round koreans  never  go   place  eat  drink usually   wander  streets  go       places  couple  weeks ago  hongdae university bar district   went    places     san nak ji living octopus restaurant old rock cool bar    noraebang korean word  karaoke  finally clubnb  noise basement   wee hours   morning personally  prefer  kangnam version  clubnb  since    hongdae  went     coolest thing   bar hopping pub crawling    almost never  lineup   rarely  cover    clubs never  bars  think    people  always moving  canada   get   bar  never never leave   go home  means   want  get    lineup    korean  asked  wait  anything especially    drinks    balk  leave   bar owner would like  maybe thats  koreans  general  moving around   canadians   sedate relatively  youve lived   places  know   mean update  looks like everyone wants     blog   reason    pics   gracious hosts   evening urllink junseok  works  international business    mba hes trying  come    fitting western name        suggest  leave  comment please urllink hae kyung  works       mba    wifes alma mater  ewha womens university  less hae kyung  really good  english   quite bright  single men take note  thinks  face looks like  moon    daldeong ee   say   guess so\n",
            "True labels:\t 17, Scorpio, indUnk,female\n",
            "Predicted labels:\t Aries,male\n",
            "\n",
            "\n",
            "Title:\tNone\n",
            "True labels:\t 27, Taurus, indUnk,female\n",
            "Predicted labels:\t 27, Taurus, indUnk,female\n",
            "\n",
            "\n",
            "Title:\turllink     superfantastic phonebox today   great day  lovely officegirl jung mi please  letters thats  secretaries  called  went  lg twins building  got   new phone  really needed   account    old     korean   fine   memorized   go   things    ii  screen kept going blank   produce copious amounts  sweat   inline skate   dumb enough     phone    time well    screens        pop  decided  time  get  new     end  breaking     soooooo cooooool    little camera   used  take  picture   box  course  took     figure    couldnt use   take  pic   actual phone   took  pic   lovely officegirl   inputted  name  number  well  ordered  caller id something  didnt   much   chagrin   asked   call   test    mug showed    little screen   outside   phone  cool     immediately started panicking  saying change change haha  korean girls really hate   pictures taken      insist   put  pic   posting go figure  phone really rocks   take pictures email   send   phones  send  receive normal emails      language converter  everything  finally  english  tiny  like  size   fat businesscard urllink      korean sign  take  picture urllink    coworker  mine    pose  why\n",
            "True labels:\t 14, Leo, Student,male\n",
            "Predicted labels:\tmale\n",
            "\n",
            "\n"
          ],
          "name": "stdout"
        }
      ]
    },
    {
      "cell_type": "code",
      "metadata": {
        "id": "Uhse5YgCYsFZ",
        "colab_type": "code",
        "colab": {}
      },
      "source": [
        ""
      ],
      "execution_count": 0,
      "outputs": []
    }
  ]
}