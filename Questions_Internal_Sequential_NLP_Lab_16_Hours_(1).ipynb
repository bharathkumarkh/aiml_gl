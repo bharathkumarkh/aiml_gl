{
 "cells": [
  {
   "cell_type": "markdown",
   "metadata": {
    "colab_type": "text",
    "id": "vXE926qT0jHg"
   },
   "source": [
    "# Time series prediction using LSTM"
   ]
  },
  {
   "cell_type": "markdown",
   "metadata": {
    "colab_type": "text",
    "id": "54u8ql4Z4kBE"
   },
   "source": [
    "## Dataset\n",
    "- Daily minimum temperatures in Melbourne, Australia, 1981-1990\n",
    "- Units: Degrees Celcius"
   ]
  },
  {
   "cell_type": "markdown",
   "metadata": {
    "colab_type": "text",
    "id": "IPkYyOzY77yl"
   },
   "source": [
    "## Question 1"
   ]
  },
  {
   "cell_type": "markdown",
   "metadata": {
    "colab_type": "text",
    "id": "aXEOY69f8B9d"
   },
   "source": [
    "### Load the data\n",
    "- load daily-minimum-temperatures-in-me.csv"
   ]
  },
  {
   "cell_type": "code",
   "execution_count": 75,
   "metadata": {
    "colab": {
     "base_uri": "https://localhost:8080/",
     "height": 57,
     "resources": {
      "http://localhost:8080/nbextensions/google.colab/files.js": {
       "data": "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",
       "headers": [
        [
         "content-type",
         "application/javascript"
        ]
       ],
       "ok": true,
       "status": 200,
       "status_text": ""
      }
     }
    },
    "colab_type": "code",
    "id": "1Yvcuhqz0m23",
    "outputId": "7390e8e1-eb41-49b8-951c-9397ecec3d4d"
   },
   "outputs": [
    {
     "data": {
      "text/html": [
       "\n",
       "     <input type=\"file\" id=\"files-0612e13c-dea6-4005-98dc-1ec9b7ba757a\" name=\"files[]\" multiple disabled />\n",
       "     <output id=\"result-0612e13c-dea6-4005-98dc-1ec9b7ba757a\">\n",
       "      Upload widget is only available when the cell has been executed in the\n",
       "      current browser session. Please rerun this cell to enable.\n",
       "      </output>\n",
       "      <script src=\"/nbextensions/google.colab/files.js\"></script> "
      ],
      "text/plain": [
       "<IPython.core.display.HTML object>"
      ]
     },
     "metadata": {
      "tags": []
     },
     "output_type": "display_data"
    },
    {
     "data": {
      "text/plain": [
       "{}"
      ]
     },
     "execution_count": 75,
     "metadata": {
      "tags": []
     },
     "output_type": "execute_result"
    }
   ],
   "source": [
    "# if you are using google colab\n",
    "from google.colab import files\n",
    "files.upload()"
   ]
  },
  {
   "cell_type": "code",
   "execution_count": 0,
   "metadata": {
    "colab": {},
    "colab_type": "code",
    "id": "LA7R2II8-Jxh"
   },
   "outputs": [],
   "source": [
    "import pandas as pd\n",
    "tdata=pd.read_csv(\"daily-minimum-temperatures-in-me.csv\")\n"
   ]
  },
  {
   "cell_type": "markdown",
   "metadata": {
    "colab_type": "text",
    "id": "pWcMgg69-T6k"
   },
   "source": [
    "### Print the data\n",
    "- First 5 rows only"
   ]
  },
  {
   "cell_type": "code",
   "execution_count": 163,
   "metadata": {
    "colab": {
     "base_uri": "https://localhost:8080/",
     "height": 198
    },
    "colab_type": "code",
    "id": "SM828gT_-Ra2",
    "outputId": "900fa67e-b734-43be-a54b-2dd4f11d9dca"
   },
   "outputs": [
    {
     "data": {
      "text/html": [
       "<div>\n",
       "<style scoped>\n",
       "    .dataframe tbody tr th:only-of-type {\n",
       "        vertical-align: middle;\n",
       "    }\n",
       "\n",
       "    .dataframe tbody tr th {\n",
       "        vertical-align: top;\n",
       "    }\n",
       "\n",
       "    .dataframe thead th {\n",
       "        text-align: right;\n",
       "    }\n",
       "</style>\n",
       "<table border=\"1\" class=\"dataframe\">\n",
       "  <thead>\n",
       "    <tr style=\"text-align: right;\">\n",
       "      <th></th>\n",
       "      <th>Date</th>\n",
       "      <th>Temperature</th>\n",
       "    </tr>\n",
       "  </thead>\n",
       "  <tbody>\n",
       "    <tr>\n",
       "      <th>0</th>\n",
       "      <td>1981-01-01</td>\n",
       "      <td>20.7</td>\n",
       "    </tr>\n",
       "    <tr>\n",
       "      <th>1</th>\n",
       "      <td>1981-01-02</td>\n",
       "      <td>17.9</td>\n",
       "    </tr>\n",
       "    <tr>\n",
       "      <th>2</th>\n",
       "      <td>1981-01-03</td>\n",
       "      <td>18.8</td>\n",
       "    </tr>\n",
       "    <tr>\n",
       "      <th>3</th>\n",
       "      <td>1981-01-04</td>\n",
       "      <td>14.6</td>\n",
       "    </tr>\n",
       "    <tr>\n",
       "      <th>4</th>\n",
       "      <td>1981-01-05</td>\n",
       "      <td>15.8</td>\n",
       "    </tr>\n",
       "  </tbody>\n",
       "</table>\n",
       "</div>"
      ],
      "text/plain": [
       "         Date  Temperature\n",
       "0  1981-01-01         20.7\n",
       "1  1981-01-02         17.9\n",
       "2  1981-01-03         18.8\n",
       "3  1981-01-04         14.6\n",
       "4  1981-01-05         15.8"
      ]
     },
     "execution_count": 163,
     "metadata": {
      "tags": []
     },
     "output_type": "execute_result"
    }
   ],
   "source": [
    "tdata.head()"
   ]
  },
  {
   "cell_type": "markdown",
   "metadata": {
    "colab_type": "text",
    "id": "JGnWESz9BKx8"
   },
   "source": [
    "### Set index column\n",
    "- Set the DataFrame index using \"Date\" column"
   ]
  },
  {
   "cell_type": "code",
   "execution_count": 164,
   "metadata": {
    "colab": {
     "base_uri": "https://localhost:8080/",
     "height": 228
    },
    "colab_type": "code",
    "id": "nFrbd_vd-eZP",
    "outputId": "6ce465f4-c0d0-443c-acaa-7c675577ca15"
   },
   "outputs": [
    {
     "data": {
      "text/html": [
       "<div>\n",
       "<style scoped>\n",
       "    .dataframe tbody tr th:only-of-type {\n",
       "        vertical-align: middle;\n",
       "    }\n",
       "\n",
       "    .dataframe tbody tr th {\n",
       "        vertical-align: top;\n",
       "    }\n",
       "\n",
       "    .dataframe thead th {\n",
       "        text-align: right;\n",
       "    }\n",
       "</style>\n",
       "<table border=\"1\" class=\"dataframe\">\n",
       "  <thead>\n",
       "    <tr style=\"text-align: right;\">\n",
       "      <th></th>\n",
       "      <th>Temperature</th>\n",
       "    </tr>\n",
       "    <tr>\n",
       "      <th>Date</th>\n",
       "      <th></th>\n",
       "    </tr>\n",
       "  </thead>\n",
       "  <tbody>\n",
       "    <tr>\n",
       "      <th>1981-01-01</th>\n",
       "      <td>20.7</td>\n",
       "    </tr>\n",
       "    <tr>\n",
       "      <th>1981-01-02</th>\n",
       "      <td>17.9</td>\n",
       "    </tr>\n",
       "    <tr>\n",
       "      <th>1981-01-03</th>\n",
       "      <td>18.8</td>\n",
       "    </tr>\n",
       "    <tr>\n",
       "      <th>1981-01-04</th>\n",
       "      <td>14.6</td>\n",
       "    </tr>\n",
       "    <tr>\n",
       "      <th>1981-01-05</th>\n",
       "      <td>15.8</td>\n",
       "    </tr>\n",
       "  </tbody>\n",
       "</table>\n",
       "</div>"
      ],
      "text/plain": [
       "            Temperature\n",
       "Date                   \n",
       "1981-01-01         20.7\n",
       "1981-01-02         17.9\n",
       "1981-01-03         18.8\n",
       "1981-01-04         14.6\n",
       "1981-01-05         15.8"
      ]
     },
     "execution_count": 164,
     "metadata": {
      "tags": []
     },
     "output_type": "execute_result"
    }
   ],
   "source": [
    "tdata.set_index('Date', inplace=True)\n",
    "\n",
    "tdata.head()\n",
    "\n"
   ]
  },
  {
   "cell_type": "markdown",
   "metadata": {
    "colab_type": "text",
    "id": "sS7IVXq7B1P1"
   },
   "source": [
    "## Question 2"
   ]
  },
  {
   "cell_type": "markdown",
   "metadata": {
    "colab_type": "text",
    "id": "PcgAOybZCc5-"
   },
   "source": [
    "### Check the total count of null values in the data\n",
    "\n",
    "> Indented block\n",
    "\n",
    "> Indented block\n",
    "\n",
    "\n",
    "\n"
   ]
  },
  {
   "cell_type": "code",
   "execution_count": 165,
   "metadata": {
    "colab": {
     "base_uri": "https://localhost:8080/",
     "height": 54
    },
    "colab_type": "code",
    "id": "UTMe5jdCCj4k",
    "outputId": "2f657263-27af-4c09-d8f1-62af45e6616b"
   },
   "outputs": [
    {
     "data": {
      "text/plain": [
       "Temperature    0\n",
       "dtype: int64"
      ]
     },
     "execution_count": 165,
     "metadata": {
      "tags": []
     },
     "output_type": "execute_result"
    }
   ],
   "source": [
    "tdata.isnull().sum()"
   ]
  },
  {
   "cell_type": "markdown",
   "metadata": {
    "colab_type": "text",
    "id": "Ua-AeW2YC3kY"
   },
   "source": [
    "### Drop all the rows with null values\n",
    "- use dropna() method"
   ]
  },
  {
   "cell_type": "code",
   "execution_count": 166,
   "metadata": {
    "colab": {
     "base_uri": "https://localhost:8080/",
     "height": 437
    },
    "colab_type": "code",
    "id": "9l9UeA6YC8RV",
    "outputId": "66c4461c-ee6b-4d3f-ee6c-b6415c80a933"
   },
   "outputs": [
    {
     "data": {
      "text/html": [
       "<div>\n",
       "<style scoped>\n",
       "    .dataframe tbody tr th:only-of-type {\n",
       "        vertical-align: middle;\n",
       "    }\n",
       "\n",
       "    .dataframe tbody tr th {\n",
       "        vertical-align: top;\n",
       "    }\n",
       "\n",
       "    .dataframe thead th {\n",
       "        text-align: right;\n",
       "    }\n",
       "</style>\n",
       "<table border=\"1\" class=\"dataframe\">\n",
       "  <thead>\n",
       "    <tr style=\"text-align: right;\">\n",
       "      <th></th>\n",
       "      <th>Temperature</th>\n",
       "    </tr>\n",
       "    <tr>\n",
       "      <th>Date</th>\n",
       "      <th></th>\n",
       "    </tr>\n",
       "  </thead>\n",
       "  <tbody>\n",
       "    <tr>\n",
       "      <th>1981-01-01</th>\n",
       "      <td>20.7</td>\n",
       "    </tr>\n",
       "    <tr>\n",
       "      <th>1981-01-02</th>\n",
       "      <td>17.9</td>\n",
       "    </tr>\n",
       "    <tr>\n",
       "      <th>1981-01-03</th>\n",
       "      <td>18.8</td>\n",
       "    </tr>\n",
       "    <tr>\n",
       "      <th>1981-01-04</th>\n",
       "      <td>14.6</td>\n",
       "    </tr>\n",
       "    <tr>\n",
       "      <th>1981-01-05</th>\n",
       "      <td>15.8</td>\n",
       "    </tr>\n",
       "    <tr>\n",
       "      <th>...</th>\n",
       "      <td>...</td>\n",
       "    </tr>\n",
       "    <tr>\n",
       "      <th>1990-12-27</th>\n",
       "      <td>14.0</td>\n",
       "    </tr>\n",
       "    <tr>\n",
       "      <th>1990-12-28</th>\n",
       "      <td>13.6</td>\n",
       "    </tr>\n",
       "    <tr>\n",
       "      <th>1990-12-29</th>\n",
       "      <td>13.5</td>\n",
       "    </tr>\n",
       "    <tr>\n",
       "      <th>1990-12-30</th>\n",
       "      <td>15.7</td>\n",
       "    </tr>\n",
       "    <tr>\n",
       "      <th>1990-12-31</th>\n",
       "      <td>13.0</td>\n",
       "    </tr>\n",
       "  </tbody>\n",
       "</table>\n",
       "<p>3650 rows × 1 columns</p>\n",
       "</div>"
      ],
      "text/plain": [
       "            Temperature\n",
       "Date                   \n",
       "1981-01-01         20.7\n",
       "1981-01-02         17.9\n",
       "1981-01-03         18.8\n",
       "1981-01-04         14.6\n",
       "1981-01-05         15.8\n",
       "...                 ...\n",
       "1990-12-27         14.0\n",
       "1990-12-28         13.6\n",
       "1990-12-29         13.5\n",
       "1990-12-30         15.7\n",
       "1990-12-31         13.0\n",
       "\n",
       "[3650 rows x 1 columns]"
      ]
     },
     "execution_count": 166,
     "metadata": {
      "tags": []
     },
     "output_type": "execute_result"
    }
   ],
   "source": [
    "tdata.dropna()"
   ]
  },
  {
   "cell_type": "markdown",
   "metadata": {
    "colab_type": "text",
    "id": "SJam5Ho-DHK7"
   },
   "source": [
    "## Question 3"
   ]
  },
  {
   "cell_type": "markdown",
   "metadata": {
    "colab_type": "text",
    "id": "3esUPJAMDzCJ"
   },
   "source": [
    "### Describe your dataframe\n",
    "- use describe() method"
   ]
  },
  {
   "cell_type": "code",
   "execution_count": 167,
   "metadata": {
    "colab": {
     "base_uri": "https://localhost:8080/",
     "height": 288
    },
    "colab_type": "code",
    "id": "uhH8OwGVELyH",
    "outputId": "06aa5122-7350-4925-d225-f443a34c5ce2"
   },
   "outputs": [
    {
     "data": {
      "text/html": [
       "<div>\n",
       "<style scoped>\n",
       "    .dataframe tbody tr th:only-of-type {\n",
       "        vertical-align: middle;\n",
       "    }\n",
       "\n",
       "    .dataframe tbody tr th {\n",
       "        vertical-align: top;\n",
       "    }\n",
       "\n",
       "    .dataframe thead th {\n",
       "        text-align: right;\n",
       "    }\n",
       "</style>\n",
       "<table border=\"1\" class=\"dataframe\">\n",
       "  <thead>\n",
       "    <tr style=\"text-align: right;\">\n",
       "      <th></th>\n",
       "      <th>Temperature</th>\n",
       "    </tr>\n",
       "  </thead>\n",
       "  <tbody>\n",
       "    <tr>\n",
       "      <th>count</th>\n",
       "      <td>3650.000000</td>\n",
       "    </tr>\n",
       "    <tr>\n",
       "      <th>mean</th>\n",
       "      <td>11.177753</td>\n",
       "    </tr>\n",
       "    <tr>\n",
       "      <th>std</th>\n",
       "      <td>4.071837</td>\n",
       "    </tr>\n",
       "    <tr>\n",
       "      <th>min</th>\n",
       "      <td>0.000000</td>\n",
       "    </tr>\n",
       "    <tr>\n",
       "      <th>25%</th>\n",
       "      <td>8.300000</td>\n",
       "    </tr>\n",
       "    <tr>\n",
       "      <th>50%</th>\n",
       "      <td>11.000000</td>\n",
       "    </tr>\n",
       "    <tr>\n",
       "      <th>75%</th>\n",
       "      <td>14.000000</td>\n",
       "    </tr>\n",
       "    <tr>\n",
       "      <th>max</th>\n",
       "      <td>26.300000</td>\n",
       "    </tr>\n",
       "  </tbody>\n",
       "</table>\n",
       "</div>"
      ],
      "text/plain": [
       "       Temperature\n",
       "count  3650.000000\n",
       "mean     11.177753\n",
       "std       4.071837\n",
       "min       0.000000\n",
       "25%       8.300000\n",
       "50%      11.000000\n",
       "75%      14.000000\n",
       "max      26.300000"
      ]
     },
     "execution_count": 167,
     "metadata": {
      "tags": []
     },
     "output_type": "execute_result"
    }
   ],
   "source": [
    "tdata.describe()"
   ]
  },
  {
   "cell_type": "markdown",
   "metadata": {
    "colab_type": "text",
    "id": "bizrToFMB4ix"
   },
   "source": [
    "### Plot the dataframe\n",
    "- use plot() method"
   ]
  },
  {
   "cell_type": "code",
   "execution_count": 170,
   "metadata": {
    "colab": {
     "base_uri": "https://localhost:8080/",
     "height": 895
    },
    "colab_type": "code",
    "id": "rNiXK6YZB30N",
    "outputId": "3e2516d2-f48b-42d2-a192-a94e8a7df1ec"
   },
   "outputs": [
    {
     "data": {
      "text/plain": [
       "<matplotlib.axes._subplots.AxesSubplot at 0x7f7b7cea37b8>"
      ]
     },
     "execution_count": 170,
     "metadata": {
      "tags": []
     },
     "output_type": "execute_result"
    },
    {
     "data": {
      "image/png": "[encoded data removed]",
      "text/plain": [
       "<Figure size 1080x1080 with 1 Axes>"
      ]
     },
     "metadata": {
      "tags": []
     },
     "output_type": "display_data"
    }
   ],
   "source": [
    "tdata.plot(figsize=(15,15))"
   ]
  },
  {
   "cell_type": "markdown",
   "metadata": {
    "colab_type": "text",
    "id": "OtI9ZGJqE1lh"
   },
   "source": [
    "### Get representation of the distribution of data using histogram\n",
    "- use hist() method"
   ]
  },
  {
   "cell_type": "code",
   "execution_count": 171,
   "metadata": {
    "colab": {
     "base_uri": "https://localhost:8080/",
     "height": 317
    },
    "colab_type": "code",
    "id": "qan611HdE9nR",
    "outputId": "52e0a761-d061-4f3c-de73-3e927fe6f94a"
   },
   "outputs": [
    {
     "data": {
      "text/plain": [
       "array([[<matplotlib.axes._subplots.AxesSubplot object at 0x7f7b7ce9a4a8>]],\n",
       "      dtype=object)"
      ]
     },
     "execution_count": 171,
     "metadata": {
      "tags": []
     },
     "output_type": "execute_result"
    },
    {
     "data": {
      "image/png": "[encoded data removed]",
      "text/plain": [
       "<Figure size 432x288 with 1 Axes>"
      ]
     },
     "metadata": {
      "tags": []
     },
     "output_type": "display_data"
    }
   ],
   "source": [
    "tdata.hist()"
   ]
  },
  {
   "cell_type": "markdown",
   "metadata": {
    "colab_type": "text",
    "id": "D8VDVRisHAsH"
   },
   "source": [
    "### Check minimum and maximum temperature\n",
    "- use min() and max() methods"
   ]
  },
  {
   "cell_type": "code",
   "execution_count": 172,
   "metadata": {
    "colab": {
     "base_uri": "https://localhost:8080/",
     "height": 35
    },
    "colab_type": "code",
    "id": "xlwlVtRfG_qX",
    "outputId": "1d4d1c22-8a60-4e3d-f2ea-ead5aa1cae95"
   },
   "outputs": [
    {
     "data": {
      "text/plain": [
       "0.0"
      ]
     },
     "execution_count": 172,
     "metadata": {
      "tags": []
     },
     "output_type": "execute_result"
    }
   ],
   "source": [
    "tdata.Temperature.min()"
   ]
  },
  {
   "cell_type": "code",
   "execution_count": 173,
   "metadata": {
    "colab": {
     "base_uri": "https://localhost:8080/",
     "height": 35
    },
    "colab_type": "code",
    "id": "abO5iWWAFFCJ",
    "outputId": "aaafb789-676c-4f1a-a525-ebc7a67a0cab"
   },
   "outputs": [
    {
     "data": {
      "text/plain": [
       "26.3"
      ]
     },
     "execution_count": 173,
     "metadata": {
      "tags": []
     },
     "output_type": "execute_result"
    }
   ],
   "source": [
    "tdata.Temperature.max()"
   ]
  },
  {
   "cell_type": "markdown",
   "metadata": {
    "colab_type": "text",
    "id": "qTjD3zhSI_BD"
   },
   "source": [
    "## Question 4"
   ]
  },
  {
   "cell_type": "markdown",
   "metadata": {
    "colab_type": "text",
    "id": "QSDmmRxBMOO7"
   },
   "source": [
    "### Split the dataset into training and testing\n",
    "- training data: 75%\n",
    "- testing data: 25%"
   ]
  },
  {
   "cell_type": "code",
   "execution_count": 0,
   "metadata": {
    "colab": {},
    "colab_type": "code",
    "id": "dbrspzBVM6Gg"
   },
   "outputs": [],
   "source": [
    "tdata_train = tdata[0:int(len(tdata)*0.75)]"
   ]
  },
  {
   "cell_type": "code",
   "execution_count": 175,
   "metadata": {
    "colab": {
     "base_uri": "https://localhost:8080/",
     "height": 35
    },
    "colab_type": "code",
    "id": "_-FstsrciY4w",
    "outputId": "aa41aa7b-c280-480e-e7e5-a0b58fd696b0"
   },
   "outputs": [
    {
     "data": {
      "text/plain": [
       "(2737, 1)"
      ]
     },
     "execution_count": 175,
     "metadata": {
      "tags": []
     },
     "output_type": "execute_result"
    }
   ],
   "source": [
    "tdata_train.shape"
   ]
  },
  {
   "cell_type": "code",
   "execution_count": 0,
   "metadata": {
    "colab": {},
    "colab_type": "code",
    "id": "3L8_MriEkOHL"
   },
   "outputs": [],
   "source": [
    "tdata_test = tdata[int(len(tdata)*0.75):]"
   ]
  },
  {
   "cell_type": "code",
   "execution_count": 177,
   "metadata": {
    "colab": {
     "base_uri": "https://localhost:8080/",
     "height": 35
    },
    "colab_type": "code",
    "id": "LQJwxRswkSXE",
    "outputId": "7dec8e55-1b7e-4a05-bf9e-9c59e7322b52"
   },
   "outputs": [
    {
     "data": {
      "text/plain": [
       "(913, 1)"
      ]
     },
     "execution_count": 177,
     "metadata": {
      "tags": []
     },
     "output_type": "execute_result"
    }
   ],
   "source": [
    "tdata_test.shape"
   ]
  },
  {
   "cell_type": "code",
   "execution_count": 0,
   "metadata": {
    "colab": {},
    "colab_type": "code",
    "id": "RLfkVLLuiqNS"
   },
   "outputs": [],
   "source": []
  },
  {
   "cell_type": "markdown",
   "metadata": {
    "colab_type": "text",
    "id": "eEgBn5JkKwrZ"
   },
   "source": [
    "### Normalize the data\n",
    "- normalize temperature values using MinMaxScaler\n",
    "- feature_range: 0-1\n",
    "- fit MinMaxScaler on train data and transform it\n",
    "  - use fit_transform() method\n",
    "- transform test data using MinMaxScaler object\n",
    "  - use transform() method"
   ]
  },
  {
   "cell_type": "code",
   "execution_count": 0,
   "metadata": {
    "colab": {},
    "colab_type": "code",
    "id": "OqDcm7tbI19Z"
   },
   "outputs": [],
   "source": [
    "from sklearn.preprocessing import MinMaxScaler\n",
    "#Normalize the data\n",
    "scaler = MinMaxScaler(feature_range=(0, 1))\n",
    "scaled_train = scaler.fit_transform(tdata_train)\n",
    "scaled_test=scaler.transform(tdata_test)\n"
   ]
  },
  {
   "cell_type": "markdown",
   "metadata": {
    "colab_type": "text",
    "id": "4HjbO8gRQ3M1"
   },
   "source": [
    "### Print scaled train and test data\n",
    "- print only first 5 values"
   ]
  },
  {
   "cell_type": "code",
   "execution_count": 179,
   "metadata": {
    "colab": {
     "base_uri": "https://localhost:8080/",
     "height": 108
    },
    "colab_type": "code",
    "id": "U_WDZwKxRBRx",
    "outputId": "bfdb6b27-7541-4919-b9e1-4043bc95122c"
   },
   "outputs": [
    {
     "data": {
      "text/plain": [
       "array([[0.78707224],\n",
       "       [0.68060837],\n",
       "       [0.7148289 ],\n",
       "       [0.55513308],\n",
       "       [0.60076046]])"
      ]
     },
     "execution_count": 179,
     "metadata": {
      "tags": []
     },
     "output_type": "execute_result"
    }
   ],
   "source": [
    "scaled_train[0:5]"
   ]
  },
  {
   "cell_type": "code",
   "execution_count": 180,
   "metadata": {
    "colab": {
     "base_uri": "https://localhost:8080/",
     "height": 108
    },
    "colab_type": "code",
    "id": "vYlwALHrRGcX",
    "outputId": "89dbde3a-c3cb-4e05-aaf1-a2d61cd65a7b"
   },
   "outputs": [
    {
     "data": {
      "text/plain": [
       "array([[0.22813688],\n",
       "       [0.22053232],\n",
       "       [0.18631179],\n",
       "       [0.19011407],\n",
       "       [0.31939163]])"
      ]
     },
     "execution_count": 180,
     "metadata": {
      "tags": []
     },
     "output_type": "execute_result"
    }
   ],
   "source": [
    "scaled_test[0:5]"
   ]
  },
  {
   "cell_type": "markdown",
   "metadata": {
    "colab_type": "text",
    "id": "JB5lHp94RQWY"
   },
   "source": [
    "## Question 5"
   ]
  },
  {
   "cell_type": "markdown",
   "metadata": {
    "colab_type": "text",
    "id": "kVqNUf00RSiv"
   },
   "source": [
    "### Create sequential data\n",
    "Map the temperature at a particular day 'd' to the temperature at day t\n",
    "'d+n', where n is any number you define.\n",
    "\n",
    "For example: to map temperatures of consecutive days, use d+1, i.e. lookback = 1\n",
    "- Below function takes data as input and returns sequential data.\n",
    "- X as features and y as labels"
   ]
  },
  {
   "cell_type": "code",
   "execution_count": 0,
   "metadata": {
    "colab": {},
    "colab_type": "code",
    "id": "AtxhXruAWws-"
   },
   "outputs": [],
   "source": [
    "import numpy as np\n",
    "def create_seq_data(data, lookback=1):\n",
    "  X, y = list(), list()\n",
    "  \n",
    "  for day in range((len(data)-lookback)):\n",
    "    X.append(data[day: day+lookback, 0])\n",
    "    y.append(data[day+lookback, 0])\n",
    "  return np.array(X), np.array(y)"
   ]
  },
  {
   "cell_type": "markdown",
   "metadata": {
    "colab_type": "text",
    "id": "VMBJpuDQJzcG"
   },
   "source": [
    "### Use the above function to create train and test sets\n",
    "- Get X_train and y_train\n",
    "- Get X_test and y_test\n",
    "- lookback = 1"
   ]
  },
  {
   "cell_type": "code",
   "execution_count": 0,
   "metadata": {
    "colab": {},
    "colab_type": "code",
    "id": "Uq6GGmJ0Zqem"
   },
   "outputs": [],
   "source": [
    "look_back = 1\n",
    "X_train, y_train = create_seq_data(scaled_train, look_back)\n",
    "X_test, y_test = create_seq_data(scaled_test, look_back)\n"
   ]
  },
  {
   "cell_type": "markdown",
   "metadata": {
    "colab_type": "text",
    "id": "-E2iixEfK0Px"
   },
   "source": [
    "### Reshape the data\n",
    "- Reshape X_train and X_test\n",
    "- use np.reshape() method\n",
    "- this is to be done to make the data ready for input in model"
   ]
  },
  {
   "cell_type": "code",
   "execution_count": 183,
   "metadata": {
    "colab": {
     "base_uri": "https://localhost:8080/",
     "height": 54
    },
    "colab_type": "code",
    "id": "X3qhXEqoZxQ3",
    "outputId": "cc345d35-682f-47fc-8adf-be1df0c7a0eb"
   },
   "outputs": [
    {
     "name": "stdout",
     "output_type": "stream",
     "text": [
      "(2736, 1, 1)\n",
      "(912, 1, 1)\n"
     ]
    }
   ],
   "source": [
    "#Make it 3 Dimensional Data - needed for LSTM\n",
    "X_train = np.reshape(X_train, (X_train.shape[0], X_train.shape[1], 1))\n",
    "X_test = np.reshape(X_test, (X_test.shape[0], X_test.shape[1], 1))\n",
    "print(X_train.shape)\n",
    "print(X_test.shape)"
   ]
  },
  {
   "cell_type": "markdown",
   "metadata": {
    "colab_type": "text",
    "id": "zKZ8SALZcuNB"
   },
   "source": [
    "### Print shape of data\n",
    "- print shape of X_train and X_test"
   ]
  },
  {
   "cell_type": "code",
   "execution_count": 184,
   "metadata": {
    "colab": {
     "base_uri": "https://localhost:8080/",
     "height": 254
    },
    "colab_type": "code",
    "id": "OSg_rbP6c_HI",
    "outputId": "c56faf77-afe2-4158-cef6-52fbfcf801e3"
   },
   "outputs": [
    {
     "data": {
      "text/plain": [
       "array([[[0.78707224]],\n",
       "\n",
       "       [[0.68060837]],\n",
       "\n",
       "       [[0.7148289 ]],\n",
       "\n",
       "       ...,\n",
       "\n",
       "       [[0.38022814]],\n",
       "\n",
       "       [[0.25475285]],\n",
       "\n",
       "       [[0.35741445]]])"
      ]
     },
     "execution_count": 184,
     "metadata": {
      "tags": []
     },
     "output_type": "execute_result"
    }
   ],
   "source": [
    "\n",
    "X_train"
   ]
  },
  {
   "cell_type": "code",
   "execution_count": 185,
   "metadata": {
    "colab": {
     "base_uri": "https://localhost:8080/",
     "height": 1000
    },
    "colab_type": "code",
    "id": "agkrsp75n7pF",
    "outputId": "ea4131c2-e0a5-499d-ca2d-f3ad9280a7b5"
   },
   "outputs": [
    {
     "data": {
      "text/plain": [
       "array([[[0.22813688]],\n",
       "\n",
       "       [[0.22053232]],\n",
       "\n",
       "       [[0.18631179]],\n",
       "\n",
       "       [[0.19011407]],\n",
       "\n",
       "       [[0.31939163]],\n",
       "\n",
       "       [[0.46768061]],\n",
       "\n",
       "       [[0.49429658]],\n",
       "\n",
       "       [[0.43346008]],\n",
       "\n",
       "       [[0.25855513]],\n",
       "\n",
       "       [[0.28897338]],\n",
       "\n",
       "       [[0.47148289]],\n",
       "\n",
       "       [[0.26996198]],\n",
       "\n",
       "       [[0.2851711 ]],\n",
       "\n",
       "       [[0.38022814]],\n",
       "\n",
       "       [[0.20152091]],\n",
       "\n",
       "       [[0.23954373]],\n",
       "\n",
       "       [[0.30418251]],\n",
       "\n",
       "       [[0.31558935]],\n",
       "\n",
       "       [[0.35361217]],\n",
       "\n",
       "       [[0.36121673]],\n",
       "\n",
       "       [[0.21292776]],\n",
       "\n",
       "       [[0.2661597 ]],\n",
       "\n",
       "       [[0.32319392]],\n",
       "\n",
       "       [[0.32319392]],\n",
       "\n",
       "       [[0.31178707]],\n",
       "\n",
       "       [[0.32319392]],\n",
       "\n",
       "       [[0.36501901]],\n",
       "\n",
       "       [[0.36882129]],\n",
       "\n",
       "       [[0.26996198]],\n",
       "\n",
       "       [[0.31939163]],\n",
       "\n",
       "       [[0.34980989]],\n",
       "\n",
       "       [[0.37262357]],\n",
       "\n",
       "       [[0.30798479]],\n",
       "\n",
       "       [[0.35741445]],\n",
       "\n",
       "       [[0.38022814]],\n",
       "\n",
       "       [[0.19391635]],\n",
       "\n",
       "       [[0.25475285]],\n",
       "\n",
       "       [[0.26235741]],\n",
       "\n",
       "       [[0.25855513]],\n",
       "\n",
       "       [[0.3269962 ]],\n",
       "\n",
       "       [[0.3460076 ]],\n",
       "\n",
       "       [[0.14828897]],\n",
       "\n",
       "       [[0.18250951]],\n",
       "\n",
       "       [[0.31939163]],\n",
       "\n",
       "       [[0.44106464]],\n",
       "\n",
       "       [[0.46007605]],\n",
       "\n",
       "       [[0.47148289]],\n",
       "\n",
       "       [[0.38022814]],\n",
       "\n",
       "       [[0.38403042]],\n",
       "\n",
       "       [[0.36882129]],\n",
       "\n",
       "       [[0.44486692]],\n",
       "\n",
       "       [[0.30038023]],\n",
       "\n",
       "       [[0.3269962 ]],\n",
       "\n",
       "       [[0.29277567]],\n",
       "\n",
       "       [[0.22053232]],\n",
       "\n",
       "       [[0.33079848]],\n",
       "\n",
       "       [[0.40304183]],\n",
       "\n",
       "       [[0.25475285]],\n",
       "\n",
       "       [[0.33460076]],\n",
       "\n",
       "       [[0.36882129]],\n",
       "\n",
       "       [[0.34220532]],\n",
       "\n",
       "       [[0.4486692 ]],\n",
       "\n",
       "       [[0.57794677]],\n",
       "\n",
       "       [[0.38022814]],\n",
       "\n",
       "       [[0.39923954]],\n",
       "\n",
       "       [[0.20912548]],\n",
       "\n",
       "       [[0.35741445]],\n",
       "\n",
       "       [[0.33460076]],\n",
       "\n",
       "       [[0.20152091]],\n",
       "\n",
       "       [[0.49429658]],\n",
       "\n",
       "       [[0.57794677]],\n",
       "\n",
       "       [[0.50190114]],\n",
       "\n",
       "       [[0.43726236]],\n",
       "\n",
       "       [[0.25855513]],\n",
       "\n",
       "       [[0.17870722]],\n",
       "\n",
       "       [[0.19771863]],\n",
       "\n",
       "       [[0.25855513]],\n",
       "\n",
       "       [[0.40684411]],\n",
       "\n",
       "       [[0.38403042]],\n",
       "\n",
       "       [[0.38022814]],\n",
       "\n",
       "       [[0.37262357]],\n",
       "\n",
       "       [[0.20912548]],\n",
       "\n",
       "       [[0.51330798]],\n",
       "\n",
       "       [[0.63117871]],\n",
       "\n",
       "       [[0.31939163]],\n",
       "\n",
       "       [[0.31178707]],\n",
       "\n",
       "       [[0.42205323]],\n",
       "\n",
       "       [[0.41064639]],\n",
       "\n",
       "       [[0.33460076]],\n",
       "\n",
       "       [[0.41064639]],\n",
       "\n",
       "       [[0.33079848]],\n",
       "\n",
       "       [[0.47148289]],\n",
       "\n",
       "       [[0.34220532]],\n",
       "\n",
       "       [[0.51330798]],\n",
       "\n",
       "       [[0.55893536]],\n",
       "\n",
       "       [[0.41444867]],\n",
       "\n",
       "       [[0.32319392]],\n",
       "\n",
       "       [[0.22813688]],\n",
       "\n",
       "       [[0.48288973]],\n",
       "\n",
       "       [[0.42205323]],\n",
       "\n",
       "       [[0.33079848]],\n",
       "\n",
       "       [[0.46768061]],\n",
       "\n",
       "       [[0.50570342]],\n",
       "\n",
       "       [[0.21292776]],\n",
       "\n",
       "       [[0.52091255]],\n",
       "\n",
       "       [[0.32319392]],\n",
       "\n",
       "       [[0.42585551]],\n",
       "\n",
       "       [[0.33079848]],\n",
       "\n",
       "       [[0.44486692]],\n",
       "\n",
       "       [[0.47528517]],\n",
       "\n",
       "       [[0.31178707]],\n",
       "\n",
       "       [[0.59315589]],\n",
       "\n",
       "       [[0.39163498]],\n",
       "\n",
       "       [[0.43346008]],\n",
       "\n",
       "       [[0.36882129]],\n",
       "\n",
       "       [[0.23954373]],\n",
       "\n",
       "       [[0.54372624]],\n",
       "\n",
       "       [[0.42965779]],\n",
       "\n",
       "       [[0.27756654]],\n",
       "\n",
       "       [[0.48669202]],\n",
       "\n",
       "       [[0.45247148]],\n",
       "\n",
       "       [[0.54372624]],\n",
       "\n",
       "       [[0.44106464]],\n",
       "\n",
       "       [[0.50190114]],\n",
       "\n",
       "       [[0.58935361]],\n",
       "\n",
       "       [[0.53612167]],\n",
       "\n",
       "       [[0.36121673]],\n",
       "\n",
       "       [[0.27376426]],\n",
       "\n",
       "       [[0.4486692 ]],\n",
       "\n",
       "       [[0.63878327]],\n",
       "\n",
       "       [[0.47528517]],\n",
       "\n",
       "       [[0.35741445]],\n",
       "\n",
       "       [[0.45247148]],\n",
       "\n",
       "       [[0.39163498]],\n",
       "\n",
       "       [[0.64258555]],\n",
       "\n",
       "       [[0.66539924]],\n",
       "\n",
       "       [[0.2851711 ]],\n",
       "\n",
       "       [[0.3269962 ]],\n",
       "\n",
       "       [[0.42205323]],\n",
       "\n",
       "       [[0.43726236]],\n",
       "\n",
       "       [[0.40684411]],\n",
       "\n",
       "       [[0.59695817]],\n",
       "\n",
       "       [[0.48669202]],\n",
       "\n",
       "       [[0.49429658]],\n",
       "\n",
       "       [[0.4904943 ]],\n",
       "\n",
       "       [[0.54372624]],\n",
       "\n",
       "       [[0.52091255]],\n",
       "\n",
       "       [[0.46007605]],\n",
       "\n",
       "       [[0.45247148]],\n",
       "\n",
       "       [[0.4486692 ]],\n",
       "\n",
       "       [[0.43346008]],\n",
       "\n",
       "       [[0.39163498]],\n",
       "\n",
       "       [[0.44486692]],\n",
       "\n",
       "       [[0.45627376]],\n",
       "\n",
       "       [[0.66159696]],\n",
       "\n",
       "       [[0.63878327]],\n",
       "\n",
       "       [[0.61596958]],\n",
       "\n",
       "       [[0.49429658]],\n",
       "\n",
       "       [[0.47528517]],\n",
       "\n",
       "       [[0.47148289]],\n",
       "\n",
       "       [[0.6121673 ]],\n",
       "\n",
       "       [[0.76806084]],\n",
       "\n",
       "       [[0.54372624]],\n",
       "\n",
       "       [[0.41825095]],\n",
       "\n",
       "       [[0.54752852]],\n",
       "\n",
       "       [[0.59695817]],\n",
       "\n",
       "       [[0.74904943]],\n",
       "\n",
       "       [[0.78707224]],\n",
       "\n",
       "       [[0.90874525]],\n",
       "\n",
       "       [[0.63117871]],\n",
       "\n",
       "       [[0.66539924]],\n",
       "\n",
       "       [[0.56653992]],\n",
       "\n",
       "       [[0.51711027]],\n",
       "\n",
       "       [[0.45247148]],\n",
       "\n",
       "       [[0.57794677]],\n",
       "\n",
       "       [[0.65779468]],\n",
       "\n",
       "       [[0.75285171]],\n",
       "\n",
       "       [[0.60076046]],\n",
       "\n",
       "       [[0.36121673]],\n",
       "\n",
       "       [[0.4904943 ]],\n",
       "\n",
       "       [[0.4904943 ]],\n",
       "\n",
       "       [[0.56273764]],\n",
       "\n",
       "       [[0.53612167]],\n",
       "\n",
       "       [[0.54372624]],\n",
       "\n",
       "       [[0.66159696]],\n",
       "\n",
       "       [[0.70342205]],\n",
       "\n",
       "       [[0.63878327]],\n",
       "\n",
       "       [[0.43726236]],\n",
       "\n",
       "       [[0.36121673]],\n",
       "\n",
       "       [[0.46387833]],\n",
       "\n",
       "       [[0.59695817]],\n",
       "\n",
       "       [[0.61977186]],\n",
       "\n",
       "       [[0.51711027]],\n",
       "\n",
       "       [[0.47908745]],\n",
       "\n",
       "       [[0.52471483]],\n",
       "\n",
       "       [[0.46007605]],\n",
       "\n",
       "       [[0.5095057 ]],\n",
       "\n",
       "       [[0.65779468]],\n",
       "\n",
       "       [[0.73764259]],\n",
       "\n",
       "       [[0.63117871]],\n",
       "\n",
       "       [[0.52851711]],\n",
       "\n",
       "       [[0.49809886]],\n",
       "\n",
       "       [[0.60836502]],\n",
       "\n",
       "       [[0.5513308 ]],\n",
       "\n",
       "       [[0.57034221]],\n",
       "\n",
       "       [[0.47908745]],\n",
       "\n",
       "       [[0.47528517]],\n",
       "\n",
       "       [[0.57794677]],\n",
       "\n",
       "       [[0.61596958]],\n",
       "\n",
       "       [[0.62737643]],\n",
       "\n",
       "       [[0.76425856]],\n",
       "\n",
       "       [[0.78326996]],\n",
       "\n",
       "       [[0.64258555]],\n",
       "\n",
       "       [[0.62737643]],\n",
       "\n",
       "       [[0.6121673 ]],\n",
       "\n",
       "       [[0.54752852]],\n",
       "\n",
       "       [[0.61977186]],\n",
       "\n",
       "       [[0.59695817]],\n",
       "\n",
       "       [[0.53992395]],\n",
       "\n",
       "       [[0.50190114]],\n",
       "\n",
       "       [[0.63878327]],\n",
       "\n",
       "       [[0.70342205]],\n",
       "\n",
       "       [[0.63498099]],\n",
       "\n",
       "       [[0.58174905]],\n",
       "\n",
       "       [[0.60456274]],\n",
       "\n",
       "       [[0.57794677]],\n",
       "\n",
       "       [[0.66539924]],\n",
       "\n",
       "       [[0.69581749]],\n",
       "\n",
       "       [[0.73764259]],\n",
       "\n",
       "       [[0.73764259]],\n",
       "\n",
       "       [[0.74144487]],\n",
       "\n",
       "       [[0.77946768]],\n",
       "\n",
       "       [[0.59695817]],\n",
       "\n",
       "       [[0.57034221]],\n",
       "\n",
       "       [[0.6121673 ]],\n",
       "\n",
       "       [[0.54372624]],\n",
       "\n",
       "       [[0.49429658]],\n",
       "\n",
       "       [[0.61596958]],\n",
       "\n",
       "       [[0.6730038 ]],\n",
       "\n",
       "       [[0.50190114]],\n",
       "\n",
       "       [[0.60076046]],\n",
       "\n",
       "       [[0.70342205]],\n",
       "\n",
       "       [[0.7756654 ]],\n",
       "\n",
       "       [[0.8365019 ]],\n",
       "\n",
       "       [[0.74904943]],\n",
       "\n",
       "       [[0.74524715]],\n",
       "\n",
       "       [[0.77186312]],\n",
       "\n",
       "       [[0.69581749]],\n",
       "\n",
       "       [[0.71863118]],\n",
       "\n",
       "       [[0.77186312]],\n",
       "\n",
       "       [[0.81368821]],\n",
       "\n",
       "       [[0.69581749]],\n",
       "\n",
       "       [[0.67680608]],\n",
       "\n",
       "       [[0.6730038 ]],\n",
       "\n",
       "       [[0.48669202]],\n",
       "\n",
       "       [[0.57414449]],\n",
       "\n",
       "       [[0.57034221]],\n",
       "\n",
       "       [[0.56273764]],\n",
       "\n",
       "       [[0.45627376]],\n",
       "\n",
       "       [[0.47528517]],\n",
       "\n",
       "       [[0.57034221]],\n",
       "\n",
       "       [[0.65019011]],\n",
       "\n",
       "       [[0.65779468]],\n",
       "\n",
       "       [[0.64258555]],\n",
       "\n",
       "       [[0.62737643]],\n",
       "\n",
       "       [[0.51711027]],\n",
       "\n",
       "       [[0.50190114]],\n",
       "\n",
       "       [[0.35741445]],\n",
       "\n",
       "       [[0.36121673]],\n",
       "\n",
       "       [[0.4486692 ]],\n",
       "\n",
       "       [[0.39543726]],\n",
       "\n",
       "       [[0.36882129]],\n",
       "\n",
       "       [[0.47908745]],\n",
       "\n",
       "       [[0.50570342]],\n",
       "\n",
       "       [[0.57414449]],\n",
       "\n",
       "       [[0.53992395]],\n",
       "\n",
       "       [[0.53992395]],\n",
       "\n",
       "       [[0.73003802]],\n",
       "\n",
       "       [[0.47908745]],\n",
       "\n",
       "       [[0.53992395]],\n",
       "\n",
       "       [[0.45247148]],\n",
       "\n",
       "       [[0.52851711]],\n",
       "\n",
       "       [[0.51330798]],\n",
       "\n",
       "       [[0.58174905]],\n",
       "\n",
       "       [[0.52851711]],\n",
       "\n",
       "       [[0.53231939]],\n",
       "\n",
       "       [[0.4904943 ]],\n",
       "\n",
       "       [[0.32319392]],\n",
       "\n",
       "       [[0.43346008]],\n",
       "\n",
       "       [[0.41444867]],\n",
       "\n",
       "       [[0.45627376]],\n",
       "\n",
       "       [[0.3269962 ]],\n",
       "\n",
       "       [[0.34220532]],\n",
       "\n",
       "       [[0.36501901]],\n",
       "\n",
       "       [[0.3878327 ]],\n",
       "\n",
       "       [[0.37262357]],\n",
       "\n",
       "       [[0.31558935]],\n",
       "\n",
       "       [[0.41825095]],\n",
       "\n",
       "       [[0.45247148]],\n",
       "\n",
       "       [[0.53231939]],\n",
       "\n",
       "       [[0.60076046]],\n",
       "\n",
       "       [[0.5513308 ]],\n",
       "\n",
       "       [[0.50190114]],\n",
       "\n",
       "       [[0.53992395]],\n",
       "\n",
       "       [[0.55513308]],\n",
       "\n",
       "       [[0.4486692 ]],\n",
       "\n",
       "       [[0.54752852]],\n",
       "\n",
       "       [[0.39543726]],\n",
       "\n",
       "       [[0.39163498]],\n",
       "\n",
       "       [[0.41064639]],\n",
       "\n",
       "       [[0.39923954]],\n",
       "\n",
       "       [[0.36121673]],\n",
       "\n",
       "       [[0.47528517]],\n",
       "\n",
       "       [[0.52091255]],\n",
       "\n",
       "       [[0.48288973]],\n",
       "\n",
       "       [[0.45247148]],\n",
       "\n",
       "       [[0.43346008]],\n",
       "\n",
       "       [[0.36882129]],\n",
       "\n",
       "       [[0.31558935]],\n",
       "\n",
       "       [[0.30798479]],\n",
       "\n",
       "       [[0.44486692]],\n",
       "\n",
       "       [[0.44106464]],\n",
       "\n",
       "       [[0.28136882]],\n",
       "\n",
       "       [[0.19771863]],\n",
       "\n",
       "       [[0.41825095]],\n",
       "\n",
       "       [[0.36121673]],\n",
       "\n",
       "       [[0.34980989]],\n",
       "\n",
       "       [[0.40684411]],\n",
       "\n",
       "       [[0.34220532]],\n",
       "\n",
       "       [[0.3878327 ]],\n",
       "\n",
       "       [[0.39163498]],\n",
       "\n",
       "       [[0.46007605]],\n",
       "\n",
       "       [[0.50190114]],\n",
       "\n",
       "       [[0.25095057]],\n",
       "\n",
       "       [[0.08745247]],\n",
       "\n",
       "       [[0.05323194]],\n",
       "\n",
       "       [[0.07984791]],\n",
       "\n",
       "       [[0.25095057]],\n",
       "\n",
       "       [[0.33840304]],\n",
       "\n",
       "       [[0.29657795]],\n",
       "\n",
       "       [[0.34220532]],\n",
       "\n",
       "       [[0.39163498]],\n",
       "\n",
       "       [[0.30038023]],\n",
       "\n",
       "       [[0.27376426]],\n",
       "\n",
       "       [[0.3269962 ]],\n",
       "\n",
       "       [[0.33460076]],\n",
       "\n",
       "       [[0.23574144]],\n",
       "\n",
       "       [[0.36121673]],\n",
       "\n",
       "       [[0.3878327 ]],\n",
       "\n",
       "       [[0.36882129]],\n",
       "\n",
       "       [[0.42585551]],\n",
       "\n",
       "       [[0.3878327 ]],\n",
       "\n",
       "       [[0.38403042]],\n",
       "\n",
       "       [[0.30798479]],\n",
       "\n",
       "       [[0.25095057]],\n",
       "\n",
       "       [[0.19011407]],\n",
       "\n",
       "       [[0.17870722]],\n",
       "\n",
       "       [[0.20152091]],\n",
       "\n",
       "       [[0.17110266]],\n",
       "\n",
       "       [[0.08745247]],\n",
       "\n",
       "       [[0.05323194]],\n",
       "\n",
       "       [[0.01901141]],\n",
       "\n",
       "       [[0.09125475]],\n",
       "\n",
       "       [[0.30418251]],\n",
       "\n",
       "       [[0.22813688]],\n",
       "\n",
       "       [[0.26996198]],\n",
       "\n",
       "       [[0.36882129]],\n",
       "\n",
       "       [[0.26235741]],\n",
       "\n",
       "       [[0.20152091]],\n",
       "\n",
       "       [[0.2661597 ]],\n",
       "\n",
       "       [[0.23574144]],\n",
       "\n",
       "       [[0.2661597 ]],\n",
       "\n",
       "       [[0.36882129]],\n",
       "\n",
       "       [[0.30418251]],\n",
       "\n",
       "       [[0.32319392]],\n",
       "\n",
       "       [[0.26996198]],\n",
       "\n",
       "       [[0.2851711 ]],\n",
       "\n",
       "       [[0.12547529]],\n",
       "\n",
       "       [[0.06844106]],\n",
       "\n",
       "       [[0.09885932]],\n",
       "\n",
       "       [[0.20152091]],\n",
       "\n",
       "       [[0.22053232]],\n",
       "\n",
       "       [[0.22053232]],\n",
       "\n",
       "       [[0.27376426]],\n",
       "\n",
       "       [[0.20152091]],\n",
       "\n",
       "       [[0.0608365 ]],\n",
       "\n",
       "       [[0.11787072]],\n",
       "\n",
       "       [[0.20152091]],\n",
       "\n",
       "       [[0.29277567]],\n",
       "\n",
       "       [[0.15969582]],\n",
       "\n",
       "       [[0.20912548]],\n",
       "\n",
       "       [[0.34220532]],\n",
       "\n",
       "       [[0.42585551]],\n",
       "\n",
       "       [[0.30418251]],\n",
       "\n",
       "       [[0.28897338]],\n",
       "\n",
       "       [[0.14068441]],\n",
       "\n",
       "       [[0.2851711 ]],\n",
       "\n",
       "       [[0.30798479]],\n",
       "\n",
       "       [[0.31939163]],\n",
       "\n",
       "       [[0.26996198]],\n",
       "\n",
       "       [[0.28897338]],\n",
       "\n",
       "       [[0.28897338]],\n",
       "\n",
       "       [[0.21292776]],\n",
       "\n",
       "       [[0.2661597 ]],\n",
       "\n",
       "       [[0.39923954]],\n",
       "\n",
       "       [[0.27756654]],\n",
       "\n",
       "       [[0.29657795]],\n",
       "\n",
       "       [[0.22053232]],\n",
       "\n",
       "       [[0.14448669]],\n",
       "\n",
       "       [[0.22053232]],\n",
       "\n",
       "       [[0.25475285]],\n",
       "\n",
       "       [[0.25095057]],\n",
       "\n",
       "       [[0.25095057]],\n",
       "\n",
       "       [[0.34220532]],\n",
       "\n",
       "       [[0.30798479]],\n",
       "\n",
       "       [[0.19391635]],\n",
       "\n",
       "       [[0.3269962 ]],\n",
       "\n",
       "       [[0.2661597 ]],\n",
       "\n",
       "       [[0.20912548]],\n",
       "\n",
       "       [[0.28136882]],\n",
       "\n",
       "       [[0.23574144]],\n",
       "\n",
       "       [[0.15969582]],\n",
       "\n",
       "       [[0.23954373]],\n",
       "\n",
       "       [[0.2661597 ]],\n",
       "\n",
       "       [[0.15209125]],\n",
       "\n",
       "       [[0.30418251]],\n",
       "\n",
       "       [[0.33460076]],\n",
       "\n",
       "       [[0.33460076]],\n",
       "\n",
       "       [[0.23193916]],\n",
       "\n",
       "       [[0.3269962 ]],\n",
       "\n",
       "       [[0.33840304]],\n",
       "\n",
       "       [[0.29657795]],\n",
       "\n",
       "       [[0.19011407]],\n",
       "\n",
       "       [[0.2661597 ]],\n",
       "\n",
       "       [[0.50570342]],\n",
       "\n",
       "       [[0.30038023]],\n",
       "\n",
       "       [[0.2851711 ]],\n",
       "\n",
       "       [[0.31558935]],\n",
       "\n",
       "       [[0.27376426]],\n",
       "\n",
       "       [[0.24714829]],\n",
       "\n",
       "       [[0.33840304]],\n",
       "\n",
       "       [[0.28136882]],\n",
       "\n",
       "       [[0.37642586]],\n",
       "\n",
       "       [[0.35361217]],\n",
       "\n",
       "       [[0.40304183]],\n",
       "\n",
       "       [[0.3269962 ]],\n",
       "\n",
       "       [[0.27376426]],\n",
       "\n",
       "       [[0.47908745]],\n",
       "\n",
       "       [[0.29657795]],\n",
       "\n",
       "       [[0.23954373]],\n",
       "\n",
       "       [[0.34980989]],\n",
       "\n",
       "       [[0.22053232]],\n",
       "\n",
       "       [[0.34220532]],\n",
       "\n",
       "       [[0.19011407]],\n",
       "\n",
       "       [[0.45247148]],\n",
       "\n",
       "       [[0.5095057 ]],\n",
       "\n",
       "       [[0.39923954]],\n",
       "\n",
       "       [[0.23574144]],\n",
       "\n",
       "       [[0.19391635]],\n",
       "\n",
       "       [[0.36121673]],\n",
       "\n",
       "       [[0.44486692]],\n",
       "\n",
       "       [[0.34980989]],\n",
       "\n",
       "       [[0.27756654]],\n",
       "\n",
       "       [[0.36882129]],\n",
       "\n",
       "       [[0.35741445]],\n",
       "\n",
       "       [[0.38022814]],\n",
       "\n",
       "       [[0.41444867]],\n",
       "\n",
       "       [[0.41825095]],\n",
       "\n",
       "       [[0.41444867]],\n",
       "\n",
       "       [[0.30418251]],\n",
       "\n",
       "       [[0.42585551]],\n",
       "\n",
       "       [[0.2851711 ]],\n",
       "\n",
       "       [[0.27376426]],\n",
       "\n",
       "       [[0.50190114]],\n",
       "\n",
       "       [[0.4904943 ]],\n",
       "\n",
       "       [[0.35741445]],\n",
       "\n",
       "       [[0.3878327 ]],\n",
       "\n",
       "       [[0.36121673]],\n",
       "\n",
       "       [[0.47148289]],\n",
       "\n",
       "       [[0.3878327 ]],\n",
       "\n",
       "       [[0.5095057 ]],\n",
       "\n",
       "       [[0.44106464]],\n",
       "\n",
       "       [[0.30418251]],\n",
       "\n",
       "       [[0.34220532]],\n",
       "\n",
       "       [[0.35361217]],\n",
       "\n",
       "       [[0.51330798]],\n",
       "\n",
       "       [[0.30418251]],\n",
       "\n",
       "       [[0.30798479]],\n",
       "\n",
       "       [[0.38022814]],\n",
       "\n",
       "       [[0.32319392]],\n",
       "\n",
       "       [[0.47528517]],\n",
       "\n",
       "       [[0.57034221]],\n",
       "\n",
       "       [[0.50570342]],\n",
       "\n",
       "       [[0.41825095]],\n",
       "\n",
       "       [[0.45247148]],\n",
       "\n",
       "       [[0.31558935]],\n",
       "\n",
       "       [[0.36882129]],\n",
       "\n",
       "       [[0.42965779]],\n",
       "\n",
       "       [[0.47528517]],\n",
       "\n",
       "       [[0.35741445]],\n",
       "\n",
       "       [[0.43346008]],\n",
       "\n",
       "       [[0.50190114]],\n",
       "\n",
       "       [[0.52471483]],\n",
       "\n",
       "       [[0.60836502]],\n",
       "\n",
       "       [[0.41444867]],\n",
       "\n",
       "       [[0.45247148]],\n",
       "\n",
       "       [[0.47148289]],\n",
       "\n",
       "       [[0.50190114]],\n",
       "\n",
       "       [[0.58935361]],\n",
       "\n",
       "       [[0.82129278]],\n",
       "\n",
       "       [[0.56653992]],\n",
       "\n",
       "       [[0.54752852]],\n",
       "\n",
       "       [[0.4904943 ]],\n",
       "\n",
       "       [[0.49809886]],\n",
       "\n",
       "       [[0.53231939]],\n",
       "\n",
       "       [[0.68060837]],\n",
       "\n",
       "       [[0.6730038 ]],\n",
       "\n",
       "       [[0.61977186]],\n",
       "\n",
       "       [[0.69581749]],\n",
       "\n",
       "       [[0.52091255]],\n",
       "\n",
       "       [[0.50570342]],\n",
       "\n",
       "       [[0.40304183]],\n",
       "\n",
       "       [[0.53612167]],\n",
       "\n",
       "       [[0.60836502]],\n",
       "\n",
       "       [[0.62737643]],\n",
       "\n",
       "       [[0.53612167]],\n",
       "\n",
       "       [[0.71102662]],\n",
       "\n",
       "       [[0.61596958]],\n",
       "\n",
       "       [[0.56273764]],\n",
       "\n",
       "       [[0.47908745]],\n",
       "\n",
       "       [[0.39543726]],\n",
       "\n",
       "       [[0.46387833]],\n",
       "\n",
       "       [[0.47908745]],\n",
       "\n",
       "       [[0.46007605]],\n",
       "\n",
       "       [[0.65779468]],\n",
       "\n",
       "       [[0.62357414]],\n",
       "\n",
       "       [[0.47908745]],\n",
       "\n",
       "       [[0.46768061]],\n",
       "\n",
       "       [[0.4486692 ]],\n",
       "\n",
       "       [[0.45627376]],\n",
       "\n",
       "       [[0.48288973]],\n",
       "\n",
       "       [[0.62357414]],\n",
       "\n",
       "       [[0.60836502]],\n",
       "\n",
       "       [[0.50570342]],\n",
       "\n",
       "       [[0.44486692]],\n",
       "\n",
       "       [[0.39543726]],\n",
       "\n",
       "       [[0.54752852]],\n",
       "\n",
       "       [[0.48288973]],\n",
       "\n",
       "       [[0.56273764]],\n",
       "\n",
       "       [[0.50570342]],\n",
       "\n",
       "       [[0.59315589]],\n",
       "\n",
       "       [[0.5513308 ]],\n",
       "\n",
       "       [[0.54372624]],\n",
       "\n",
       "       [[0.58174905]],\n",
       "\n",
       "       [[0.62357414]],\n",
       "\n",
       "       [[0.56273764]],\n",
       "\n",
       "       [[0.66159696]],\n",
       "\n",
       "       [[0.7148289 ]],\n",
       "\n",
       "       [[0.84030418]],\n",
       "\n",
       "       [[0.72243346]],\n",
       "\n",
       "       [[0.58935361]],\n",
       "\n",
       "       [[0.60076046]],\n",
       "\n",
       "       [[0.55893536]],\n",
       "\n",
       "       [[0.40684411]],\n",
       "\n",
       "       [[0.43726236]],\n",
       "\n",
       "       [[0.57034221]],\n",
       "\n",
       "       [[0.5513308 ]],\n",
       "\n",
       "       [[0.5513308 ]],\n",
       "\n",
       "       [[0.50570342]],\n",
       "\n",
       "       [[0.54372624]],\n",
       "\n",
       "       [[0.54372624]],\n",
       "\n",
       "       [[0.77946768]],\n",
       "\n",
       "       [[0.57034221]],\n",
       "\n",
       "       [[0.65019011]],\n",
       "\n",
       "       [[0.64258555]],\n",
       "\n",
       "       [[0.64258555]],\n",
       "\n",
       "       [[0.51711027]],\n",
       "\n",
       "       [[0.62357414]],\n",
       "\n",
       "       [[0.6121673 ]],\n",
       "\n",
       "       [[0.45627376]],\n",
       "\n",
       "       [[0.46387833]],\n",
       "\n",
       "       [[0.56273764]],\n",
       "\n",
       "       [[0.56273764]],\n",
       "\n",
       "       [[0.54752852]],\n",
       "\n",
       "       [[0.4904943 ]],\n",
       "\n",
       "       [[0.5095057 ]],\n",
       "\n",
       "       [[0.60456274]],\n",
       "\n",
       "       [[0.6121673 ]],\n",
       "\n",
       "       [[0.66920152]],\n",
       "\n",
       "       [[0.59315589]],\n",
       "\n",
       "       [[0.57034221]],\n",
       "\n",
       "       [[0.49429658]],\n",
       "\n",
       "       [[0.53612167]],\n",
       "\n",
       "       [[0.65779468]],\n",
       "\n",
       "       [[0.59695817]],\n",
       "\n",
       "       [[0.70722433]],\n",
       "\n",
       "       [[0.48288973]],\n",
       "\n",
       "       [[0.53231939]],\n",
       "\n",
       "       [[0.52091255]],\n",
       "\n",
       "       [[0.61977186]],\n",
       "\n",
       "       [[0.76045627]],\n",
       "\n",
       "       [[0.64638783]],\n",
       "\n",
       "       [[0.57794677]],\n",
       "\n",
       "       [[0.62737643]],\n",
       "\n",
       "       [[0.62737643]],\n",
       "\n",
       "       [[0.65779468]],\n",
       "\n",
       "       [[0.72623574]],\n",
       "\n",
       "       [[0.7338403 ]],\n",
       "\n",
       "       [[0.65779468]],\n",
       "\n",
       "       [[0.72243346]],\n",
       "\n",
       "       [[0.75285171]],\n",
       "\n",
       "       [[0.7338403 ]],\n",
       "\n",
       "       [[0.6539924 ]],\n",
       "\n",
       "       [[0.53992395]],\n",
       "\n",
       "       [[0.39163498]],\n",
       "\n",
       "       [[0.49429658]],\n",
       "\n",
       "       [[0.58174905]],\n",
       "\n",
       "       [[0.57034221]],\n",
       "\n",
       "       [[0.46007605]],\n",
       "\n",
       "       [[0.34980989]],\n",
       "\n",
       "       [[0.41825095]],\n",
       "\n",
       "       [[0.57034221]],\n",
       "\n",
       "       [[0.44106464]],\n",
       "\n",
       "       [[0.44106464]],\n",
       "\n",
       "       [[0.57414449]],\n",
       "\n",
       "       [[0.57034221]],\n",
       "\n",
       "       [[0.51711027]],\n",
       "\n",
       "       [[0.47528517]],\n",
       "\n",
       "       [[0.54372624]],\n",
       "\n",
       "       [[0.60836502]],\n",
       "\n",
       "       [[0.66159696]],\n",
       "\n",
       "       [[0.64258555]],\n",
       "\n",
       "       [[0.68441065]],\n",
       "\n",
       "       [[0.78326996]],\n",
       "\n",
       "       [[0.53992395]],\n",
       "\n",
       "       [[0.41444867]],\n",
       "\n",
       "       [[0.45247148]],\n",
       "\n",
       "       [[0.50570342]],\n",
       "\n",
       "       [[0.58174905]],\n",
       "\n",
       "       [[0.55893536]],\n",
       "\n",
       "       [[0.41825095]],\n",
       "\n",
       "       [[0.46387833]],\n",
       "\n",
       "       [[0.53992395]],\n",
       "\n",
       "       [[0.64638783]],\n",
       "\n",
       "       [[0.60076046]],\n",
       "\n",
       "       [[0.57794677]],\n",
       "\n",
       "       [[0.57414449]],\n",
       "\n",
       "       [[0.55893536]],\n",
       "\n",
       "       [[0.70342205]],\n",
       "\n",
       "       [[0.62357414]],\n",
       "\n",
       "       [[0.69961977]],\n",
       "\n",
       "       [[0.57414449]],\n",
       "\n",
       "       [[0.37642586]],\n",
       "\n",
       "       [[0.3878327 ]],\n",
       "\n",
       "       [[0.47908745]],\n",
       "\n",
       "       [[0.50190114]],\n",
       "\n",
       "       [[0.43726236]],\n",
       "\n",
       "       [[0.52471483]],\n",
       "\n",
       "       [[0.5513308 ]],\n",
       "\n",
       "       [[0.55893536]],\n",
       "\n",
       "       [[0.42585551]],\n",
       "\n",
       "       [[0.48288973]],\n",
       "\n",
       "       [[0.52091255]],\n",
       "\n",
       "       [[0.43726236]],\n",
       "\n",
       "       [[0.39543726]],\n",
       "\n",
       "       [[0.33840304]],\n",
       "\n",
       "       [[0.42205323]],\n",
       "\n",
       "       [[0.36121673]],\n",
       "\n",
       "       [[0.49429658]],\n",
       "\n",
       "       [[0.52851711]],\n",
       "\n",
       "       [[0.47908745]],\n",
       "\n",
       "       [[0.54372624]],\n",
       "\n",
       "       [[0.60836502]],\n",
       "\n",
       "       [[0.50570342]],\n",
       "\n",
       "       [[0.2661597 ]],\n",
       "\n",
       "       [[0.18631179]],\n",
       "\n",
       "       [[0.26235741]],\n",
       "\n",
       "       [[0.52091255]],\n",
       "\n",
       "       [[0.40304183]],\n",
       "\n",
       "       [[0.46768061]],\n",
       "\n",
       "       [[0.42205323]],\n",
       "\n",
       "       [[0.3878327 ]],\n",
       "\n",
       "       [[0.36121673]],\n",
       "\n",
       "       [[0.33840304]],\n",
       "\n",
       "       [[0.5095057 ]],\n",
       "\n",
       "       [[0.3460076 ]],\n",
       "\n",
       "       [[0.35741445]],\n",
       "\n",
       "       [[0.33079848]],\n",
       "\n",
       "       [[0.22053232]],\n",
       "\n",
       "       [[0.17110266]],\n",
       "\n",
       "       [[0.27376426]],\n",
       "\n",
       "       [[0.38022814]],\n",
       "\n",
       "       [[0.39923954]],\n",
       "\n",
       "       [[0.40684411]],\n",
       "\n",
       "       [[0.31178707]],\n",
       "\n",
       "       [[0.23193916]],\n",
       "\n",
       "       [[0.17110266]],\n",
       "\n",
       "       [[0.23193916]],\n",
       "\n",
       "       [[0.37262357]],\n",
       "\n",
       "       [[0.36882129]],\n",
       "\n",
       "       [[0.31178707]],\n",
       "\n",
       "       [[0.31939163]],\n",
       "\n",
       "       [[0.32319392]],\n",
       "\n",
       "       [[0.39543726]],\n",
       "\n",
       "       [[0.25855513]],\n",
       "\n",
       "       [[0.22813688]],\n",
       "\n",
       "       [[0.25095057]],\n",
       "\n",
       "       [[0.29657795]],\n",
       "\n",
       "       [[0.39163498]],\n",
       "\n",
       "       [[0.27376426]],\n",
       "\n",
       "       [[0.28136882]],\n",
       "\n",
       "       [[0.43346008]],\n",
       "\n",
       "       [[0.20532319]],\n",
       "\n",
       "       [[0.16730038]],\n",
       "\n",
       "       [[0.24334601]],\n",
       "\n",
       "       [[0.35361217]],\n",
       "\n",
       "       [[0.29277567]],\n",
       "\n",
       "       [[0.30798479]],\n",
       "\n",
       "       [[0.31558935]],\n",
       "\n",
       "       [[0.3460076 ]],\n",
       "\n",
       "       [[0.29277567]],\n",
       "\n",
       "       [[0.40304183]],\n",
       "\n",
       "       [[0.31178707]],\n",
       "\n",
       "       [[0.30038023]],\n",
       "\n",
       "       [[0.19771863]],\n",
       "\n",
       "       [[0.2243346 ]],\n",
       "\n",
       "       [[0.14068441]],\n",
       "\n",
       "       [[0.21292776]],\n",
       "\n",
       "       [[0.35741445]],\n",
       "\n",
       "       [[0.28136882]],\n",
       "\n",
       "       [[0.27756654]],\n",
       "\n",
       "       [[0.29277567]],\n",
       "\n",
       "       [[0.29277567]],\n",
       "\n",
       "       [[0.35361217]],\n",
       "\n",
       "       [[0.16730038]],\n",
       "\n",
       "       [[0.21673004]],\n",
       "\n",
       "       [[0.3878327 ]],\n",
       "\n",
       "       [[0.3878327 ]],\n",
       "\n",
       "       [[0.35361217]],\n",
       "\n",
       "       [[0.20532319]],\n",
       "\n",
       "       [[0.19011407]],\n",
       "\n",
       "       [[0.28897338]],\n",
       "\n",
       "       [[0.36501901]],\n",
       "\n",
       "       [[0.39543726]],\n",
       "\n",
       "       [[0.42585551]],\n",
       "\n",
       "       [[0.3460076 ]],\n",
       "\n",
       "       [[0.42585551]],\n",
       "\n",
       "       [[0.25855513]],\n",
       "\n",
       "       [[0.31558935]],\n",
       "\n",
       "       [[0.36882129]],\n",
       "\n",
       "       [[0.36501901]],\n",
       "\n",
       "       [[0.37262357]],\n",
       "\n",
       "       [[0.41064639]],\n",
       "\n",
       "       [[0.34980989]],\n",
       "\n",
       "       [[0.24714829]],\n",
       "\n",
       "       [[0.30798479]],\n",
       "\n",
       "       [[0.27756654]],\n",
       "\n",
       "       [[0.30038023]],\n",
       "\n",
       "       [[0.22813688]],\n",
       "\n",
       "       [[0.19011407]],\n",
       "\n",
       "       [[0.25855513]],\n",
       "\n",
       "       [[0.37262357]],\n",
       "\n",
       "       [[0.21673004]],\n",
       "\n",
       "       [[0.3269962 ]],\n",
       "\n",
       "       [[0.40304183]],\n",
       "\n",
       "       [[0.29657795]],\n",
       "\n",
       "       [[0.29277567]],\n",
       "\n",
       "       [[0.3269962 ]],\n",
       "\n",
       "       [[0.24714829]],\n",
       "\n",
       "       [[0.26235741]],\n",
       "\n",
       "       [[0.24334601]],\n",
       "\n",
       "       [[0.32319392]],\n",
       "\n",
       "       [[0.29657795]],\n",
       "\n",
       "       [[0.35361217]],\n",
       "\n",
       "       [[0.31939163]],\n",
       "\n",
       "       [[0.29657795]],\n",
       "\n",
       "       [[0.28136882]],\n",
       "\n",
       "       [[0.29277567]],\n",
       "\n",
       "       [[0.33840304]],\n",
       "\n",
       "       [[0.36882129]],\n",
       "\n",
       "       [[0.37642586]],\n",
       "\n",
       "       [[0.23193916]],\n",
       "\n",
       "       [[0.25095057]],\n",
       "\n",
       "       [[0.28897338]],\n",
       "\n",
       "       [[0.28136882]],\n",
       "\n",
       "       [[0.30418251]],\n",
       "\n",
       "       [[0.07984791]],\n",
       "\n",
       "       [[0.2243346 ]],\n",
       "\n",
       "       [[0.44106464]],\n",
       "\n",
       "       [[0.3269962 ]],\n",
       "\n",
       "       [[0.30038023]],\n",
       "\n",
       "       [[0.22813688]],\n",
       "\n",
       "       [[0.36121673]],\n",
       "\n",
       "       [[0.3269962 ]],\n",
       "\n",
       "       [[0.28897338]],\n",
       "\n",
       "       [[0.39543726]],\n",
       "\n",
       "       [[0.39163498]],\n",
       "\n",
       "       [[0.2851711 ]],\n",
       "\n",
       "       [[0.11406844]],\n",
       "\n",
       "       [[0.20152091]],\n",
       "\n",
       "       [[0.39923954]],\n",
       "\n",
       "       [[0.55513308]],\n",
       "\n",
       "       [[0.47908745]],\n",
       "\n",
       "       [[0.37262357]],\n",
       "\n",
       "       [[0.27376426]],\n",
       "\n",
       "       [[0.38403042]],\n",
       "\n",
       "       [[0.39543726]],\n",
       "\n",
       "       [[0.14068441]],\n",
       "\n",
       "       [[0.27756654]],\n",
       "\n",
       "       [[0.44106464]],\n",
       "\n",
       "       [[0.61977186]],\n",
       "\n",
       "       [[0.36501901]],\n",
       "\n",
       "       [[0.25855513]],\n",
       "\n",
       "       [[0.19771863]],\n",
       "\n",
       "       [[0.40304183]],\n",
       "\n",
       "       [[0.61977186]],\n",
       "\n",
       "       [[0.37262357]],\n",
       "\n",
       "       [[0.17490494]],\n",
       "\n",
       "       [[0.42205323]],\n",
       "\n",
       "       [[0.33079848]],\n",
       "\n",
       "       [[0.38022814]],\n",
       "\n",
       "       [[0.42965779]],\n",
       "\n",
       "       [[0.39923954]],\n",
       "\n",
       "       [[0.37642586]],\n",
       "\n",
       "       [[0.41825095]],\n",
       "\n",
       "       [[0.53231939]],\n",
       "\n",
       "       [[0.34980989]],\n",
       "\n",
       "       [[0.37262357]],\n",
       "\n",
       "       [[0.22813688]],\n",
       "\n",
       "       [[0.37262357]],\n",
       "\n",
       "       [[0.34980989]],\n",
       "\n",
       "       [[0.4486692 ]],\n",
       "\n",
       "       [[0.39163498]],\n",
       "\n",
       "       [[0.2851711 ]],\n",
       "\n",
       "       [[0.29277567]],\n",
       "\n",
       "       [[0.60076046]],\n",
       "\n",
       "       [[0.55513308]],\n",
       "\n",
       "       [[0.39923954]],\n",
       "\n",
       "       [[0.42965779]],\n",
       "\n",
       "       [[0.41444867]],\n",
       "\n",
       "       [[0.24334601]],\n",
       "\n",
       "       [[0.41444867]],\n",
       "\n",
       "       [[0.34220532]],\n",
       "\n",
       "       [[0.41444867]],\n",
       "\n",
       "       [[0.47148289]],\n",
       "\n",
       "       [[0.44106464]],\n",
       "\n",
       "       [[0.50570342]],\n",
       "\n",
       "       [[0.54752852]],\n",
       "\n",
       "       [[0.69961977]],\n",
       "\n",
       "       [[0.51711027]],\n",
       "\n",
       "       [[0.56653992]],\n",
       "\n",
       "       [[0.56273764]],\n",
       "\n",
       "       [[0.58555133]],\n",
       "\n",
       "       [[0.4486692 ]],\n",
       "\n",
       "       [[0.49429658]],\n",
       "\n",
       "       [[0.42205323]],\n",
       "\n",
       "       [[0.47528517]],\n",
       "\n",
       "       [[0.69581749]],\n",
       "\n",
       "       [[0.73003802]],\n",
       "\n",
       "       [[0.58555133]],\n",
       "\n",
       "       [[0.49809886]],\n",
       "\n",
       "       [[0.43726236]],\n",
       "\n",
       "       [[0.3269962 ]],\n",
       "\n",
       "       [[0.47908745]],\n",
       "\n",
       "       [[0.52471483]],\n",
       "\n",
       "       [[0.55513308]],\n",
       "\n",
       "       [[0.50190114]],\n",
       "\n",
       "       [[0.46768061]],\n",
       "\n",
       "       [[0.33460076]],\n",
       "\n",
       "       [[0.40684411]],\n",
       "\n",
       "       [[0.37642586]],\n",
       "\n",
       "       [[0.31558935]],\n",
       "\n",
       "       [[0.57034221]],\n",
       "\n",
       "       [[0.46387833]],\n",
       "\n",
       "       [[0.39923954]],\n",
       "\n",
       "       [[0.42205323]],\n",
       "\n",
       "       [[0.49429658]],\n",
       "\n",
       "       [[0.4904943 ]],\n",
       "\n",
       "       [[0.33460076]],\n",
       "\n",
       "       [[0.55893536]],\n",
       "\n",
       "       [[0.55893536]],\n",
       "\n",
       "       [[0.48288973]],\n",
       "\n",
       "       [[0.50570342]],\n",
       "\n",
       "       [[0.50190114]],\n",
       "\n",
       "       [[0.61596958]],\n",
       "\n",
       "       [[0.65779468]],\n",
       "\n",
       "       [[0.77946768]],\n",
       "\n",
       "       [[0.76806084]],\n",
       "\n",
       "       [[0.73764259]],\n",
       "\n",
       "       [[0.58935361]],\n",
       "\n",
       "       [[0.53612167]],\n",
       "\n",
       "       [[0.41825095]],\n",
       "\n",
       "       [[0.42205323]],\n",
       "\n",
       "       [[0.53231939]],\n",
       "\n",
       "       [[0.43346008]],\n",
       "\n",
       "       [[0.47528517]],\n",
       "\n",
       "       [[0.5095057 ]],\n",
       "\n",
       "       [[0.51711027]],\n",
       "\n",
       "       [[0.52851711]],\n",
       "\n",
       "       [[0.6539924 ]],\n",
       "\n",
       "       [[0.55893536]],\n",
       "\n",
       "       [[0.58555133]],\n",
       "\n",
       "       [[0.49809886]],\n",
       "\n",
       "       [[0.50190114]],\n",
       "\n",
       "       [[0.52851711]],\n",
       "\n",
       "       [[0.38022814]],\n",
       "\n",
       "       [[0.4904943 ]],\n",
       "\n",
       "       [[0.55513308]],\n",
       "\n",
       "       [[0.53231939]],\n",
       "\n",
       "       [[0.51711027]],\n",
       "\n",
       "       [[0.51330798]],\n",
       "\n",
       "       [[0.59695817]]])"
      ]
     },
     "execution_count": 185,
     "metadata": {
      "tags": []
     },
     "output_type": "execute_result"
    }
   ],
   "source": [
    "X_test"
   ]
  },
  {
   "cell_type": "markdown",
   "metadata": {
    "colab_type": "text",
    "id": "emGjaYZ5dfRq"
   },
   "source": [
    "## Question 6"
   ]
  },
  {
   "cell_type": "markdown",
   "metadata": {
    "colab_type": "text",
    "id": "7fk2Ze24dsXw"
   },
   "source": [
    "### Define sequential model\n",
    "- initialize a Sequential model\n",
    "- add an LSTM layer\n",
    "  - units: 10\n",
    "  - stateful: True\n",
    "  - pass a `batch_input_shape` argument to your layer\n",
    "  - batch_input_shape: (batch_size, look_back, 1)\n",
    "    - batch_size: 1\n",
    "    - look_back: 1\n",
    "- add Dense layer with 1 neuron"
   ]
  },
  {
   "cell_type": "code",
   "execution_count": 0,
   "metadata": {
    "colab": {},
    "colab_type": "code",
    "id": "eXU6UNt4dhJz"
   },
   "outputs": [],
   "source": [
    "import tensorflow as tf"
   ]
  },
  {
   "cell_type": "code",
   "execution_count": 0,
   "metadata": {
    "colab": {},
    "colab_type": "code",
    "id": "dsv7BuyboPX9"
   },
   "outputs": [],
   "source": [
    "#tf.keras.backend.clear_session()\n",
    "model = tf.keras.Sequential()\n",
    "model.add(tf.keras.layers.LSTM(10, batch_input_shape=(1,1, 1),stateful= True))\n",
    "model.add(tf.keras.layers.Dense(1))"
   ]
  },
  {
   "cell_type": "code",
   "execution_count": 0,
   "metadata": {
    "colab": {},
    "colab_type": "code",
    "id": "KeSPzAgjphvz"
   },
   "outputs": [],
   "source": [
    "\n"
   ]
  },
  {
   "cell_type": "markdown",
   "metadata": {
    "colab_type": "text",
    "id": "cLymvPFzEQSp"
   },
   "source": [
    "## Question 7"
   ]
  },
  {
   "cell_type": "markdown",
   "metadata": {
    "colab_type": "text",
    "id": "AZmlvbcMrCTh"
   },
   "source": [
    "### compile your model\n",
    "- loss: mean_squared_error\n",
    "- optimizer: adam"
   ]
  },
  {
   "cell_type": "code",
   "execution_count": 0,
   "metadata": {
    "colab": {},
    "colab_type": "code",
    "id": "TrcHrSdtg62Q"
   },
   "outputs": [],
   "source": [
    "### compile your model\n",
    "### compile your model\n",
    "### compile your model\n",
    "model.compile(optimizer='adam', loss='mean_squared_error')"
   ]
  },
  {
   "cell_type": "markdown",
   "metadata": {
    "colab_type": "text",
    "id": "WWAoHdFurJN5"
   },
   "source": [
    "### summarize your model\n",
    "- use summary() method"
   ]
  },
  {
   "cell_type": "code",
   "execution_count": 189,
   "metadata": {
    "colab": {
     "base_uri": "https://localhost:8080/",
     "height": 235
    },
    "colab_type": "code",
    "id": "UlIaCMtBrPU2",
    "outputId": "bdb0f8bd-6abd-4e0b-d626-8d21ba1630f8"
   },
   "outputs": [
    {
     "name": "stdout",
     "output_type": "stream",
     "text": [
      "Model: \"sequential_4\"\n",
      "_________________________________________________________________\n",
      "Layer (type)                 Output Shape              Param #   \n",
      "=================================================================\n",
      "lstm_4 (LSTM)                (1, 10)                   480       \n",
      "_________________________________________________________________\n",
      "dense_4 (Dense)              (1, 1)                    11        \n",
      "=================================================================\n",
      "Total params: 491\n",
      "Trainable params: 491\n",
      "Non-trainable params: 0\n",
      "_________________________________________________________________\n"
     ]
    }
   ],
   "source": [
    "model.summary()"
   ]
  },
  {
   "cell_type": "markdown",
   "metadata": {
    "colab_type": "text",
    "id": "dq5a3i6uEcJI"
   },
   "source": [
    "## Question 8"
   ]
  },
  {
   "cell_type": "markdown",
   "metadata": {
    "colab_type": "text",
    "id": "0Ca3CFhOrf83"
   },
   "source": [
    "### fit your model\n",
    "- epochs: 50\n",
    "- batch_size: 1"
   ]
  },
  {
   "cell_type": "code",
   "execution_count": 190,
   "metadata": {
    "colab": {
     "base_uri": "https://localhost:8080/",
     "height": 1000
    },
    "colab_type": "code",
    "id": "BbuB-XGPhH6h",
    "outputId": "9db2b7fe-0a81-4c04-cb10-cd3e4fc422f1"
   },
   "outputs": [
    {
     "name": "stdout",
     "output_type": "stream",
     "text": [
      "Train on 2736 samples\n",
      "Epoch 1/50\n",
      "2736/2736 [==============================] - 6s 2ms/sample - loss: 0.0239\n",
      "Epoch 2/50\n",
      "2736/2736 [==============================] - 5s 2ms/sample - loss: 0.0106\n",
      "Epoch 3/50\n",
      "2736/2736 [==============================] - 5s 2ms/sample - loss: 0.0100\n",
      "Epoch 4/50\n",
      "2736/2736 [==============================] - 5s 2ms/sample - loss: 0.0100\n",
      "Epoch 5/50\n",
      "2736/2736 [==============================] - 5s 2ms/sample - loss: 0.0100\n",
      "Epoch 6/50\n",
      "2736/2736 [==============================] - 5s 2ms/sample - loss: 0.0101\n",
      "Epoch 7/50\n",
      "2736/2736 [==============================] - 5s 2ms/sample - loss: 0.0100\n",
      "Epoch 8/50\n",
      "2736/2736 [==============================] - 5s 2ms/sample - loss: 0.0101\n",
      "Epoch 9/50\n",
      "2736/2736 [==============================] - 5s 2ms/sample - loss: 0.0101\n",
      "Epoch 10/50\n",
      "2736/2736 [==============================] - 5s 2ms/sample - loss: 0.0099\n",
      "Epoch 11/50\n",
      "2736/2736 [==============================] - 5s 2ms/sample - loss: 0.0100\n",
      "Epoch 12/50\n",
      "2736/2736 [==============================] - 5s 2ms/sample - loss: 0.0099\n",
      "Epoch 13/50\n",
      "2736/2736 [==============================] - 5s 2ms/sample - loss: 0.0099\n",
      "Epoch 14/50\n",
      "2736/2736 [==============================] - 5s 2ms/sample - loss: 0.0100\n",
      "Epoch 15/50\n",
      "2736/2736 [==============================] - 5s 2ms/sample - loss: 0.0099\n",
      "Epoch 16/50\n",
      "2736/2736 [==============================] - 5s 2ms/sample - loss: 0.0100\n",
      "Epoch 17/50\n",
      "2736/2736 [==============================] - 5s 2ms/sample - loss: 0.0099\n",
      "Epoch 18/50\n",
      "2736/2736 [==============================] - 5s 2ms/sample - loss: 0.0099\n",
      "Epoch 19/50\n",
      "2736/2736 [==============================] - 5s 2ms/sample - loss: 0.0099\n",
      "Epoch 20/50\n",
      "2736/2736 [==============================] - 5s 2ms/sample - loss: 0.0100\n",
      "Epoch 21/50\n",
      "2736/2736 [==============================] - 5s 2ms/sample - loss: 0.0099\n",
      "Epoch 22/50\n",
      "2736/2736 [==============================] - 5s 2ms/sample - loss: 0.0099\n",
      "Epoch 23/50\n",
      "2736/2736 [==============================] - 5s 2ms/sample - loss: 0.0099\n",
      "Epoch 24/50\n",
      "2736/2736 [==============================] - 5s 2ms/sample - loss: 0.0099\n",
      "Epoch 25/50\n",
      "2736/2736 [==============================] - 5s 2ms/sample - loss: 0.0099\n",
      "Epoch 26/50\n",
      "2736/2736 [==============================] - 5s 2ms/sample - loss: 0.0099\n",
      "Epoch 27/50\n",
      "2736/2736 [==============================] - 5s 2ms/sample - loss: 0.0098\n",
      "Epoch 28/50\n",
      "2736/2736 [==============================] - 5s 2ms/sample - loss: 0.0099\n",
      "Epoch 29/50\n",
      "2736/2736 [==============================] - 5s 2ms/sample - loss: 0.0099\n",
      "Epoch 30/50\n",
      "2736/2736 [==============================] - 5s 2ms/sample - loss: 0.0099\n",
      "Epoch 31/50\n",
      "2736/2736 [==============================] - 5s 2ms/sample - loss: 0.0099\n",
      "Epoch 32/50\n",
      "2736/2736 [==============================] - 6s 2ms/sample - loss: 0.0099\n",
      "Epoch 33/50\n",
      "2736/2736 [==============================] - 5s 2ms/sample - loss: 0.0099\n",
      "Epoch 34/50\n",
      "2736/2736 [==============================] - 5s 2ms/sample - loss: 0.0099\n",
      "Epoch 35/50\n",
      "2736/2736 [==============================] - 5s 2ms/sample - loss: 0.0099\n",
      "Epoch 36/50\n",
      "2736/2736 [==============================] - 5s 2ms/sample - loss: 0.0099\n",
      "Epoch 37/50\n",
      "2736/2736 [==============================] - 5s 2ms/sample - loss: 0.0098\n",
      "Epoch 38/50\n",
      "2736/2736 [==============================] - 5s 2ms/sample - loss: 0.0099\n",
      "Epoch 39/50\n",
      "2736/2736 [==============================] - 5s 2ms/sample - loss: 0.0099\n",
      "Epoch 40/50\n",
      "2736/2736 [==============================] - 5s 2ms/sample - loss: 0.0099\n",
      "Epoch 41/50\n",
      "2736/2736 [==============================] - 5s 2ms/sample - loss: 0.0099\n",
      "Epoch 42/50\n",
      "2736/2736 [==============================] - 5s 2ms/sample - loss: 0.0099\n",
      "Epoch 43/50\n",
      "2736/2736 [==============================] - 5s 2ms/sample - loss: 0.0099\n",
      "Epoch 44/50\n",
      "2736/2736 [==============================] - 5s 2ms/sample - loss: 0.0099\n",
      "Epoch 45/50\n",
      "2736/2736 [==============================] - 5s 2ms/sample - loss: 0.0099\n",
      "Epoch 46/50\n",
      "2736/2736 [==============================] - 5s 2ms/sample - loss: 0.0098\n",
      "Epoch 47/50\n",
      "2736/2736 [==============================] - 5s 2ms/sample - loss: 0.0099\n",
      "Epoch 48/50\n",
      "2736/2736 [==============================] - 5s 2ms/sample - loss: 0.0099\n",
      "Epoch 49/50\n",
      "2736/2736 [==============================] - 5s 2ms/sample - loss: 0.0099\n",
      "Epoch 50/50\n",
      "2736/2736 [==============================] - 5s 2ms/sample - loss: 0.0099\n"
     ]
    },
    {
     "data": {
      "text/plain": [
       "<tensorflow.python.keras.callbacks.History at 0x7f7b7cd7c940>"
      ]
     },
     "execution_count": 190,
     "metadata": {
      "tags": []
     },
     "output_type": "execute_result"
    }
   ],
   "source": [
    "model.fit(X_train,y_train, epochs=50, batch_size=1)"
   ]
  },
  {
   "cell_type": "markdown",
   "metadata": {
    "colab_type": "text",
    "id": "hqRlEmbjEqyG"
   },
   "source": [
    "## Question 9"
   ]
  },
  {
   "cell_type": "markdown",
   "metadata": {
    "colab_type": "text",
    "id": "9rwBaO-IrqNt"
   },
   "source": []
  },
  {
   "cell_type": "markdown",
   "metadata": {
    "colab_type": "text",
    "id": "12IhOtvUHJBF"
   },
   "source": [
    "### make predictions on train data\n",
    "- use predict() method\n",
    "  - batch_size: 1\n",
    "- store predictions in a variable"
   ]
  },
  {
   "cell_type": "code",
   "execution_count": 0,
   "metadata": {
    "colab": {},
    "colab_type": "code",
    "id": "iXWuJikQHURm"
   },
   "outputs": [],
   "source": [
    "\n",
    "trainPredict = model.predict(X_train, batch_size=1)\n"
   ]
  },
  {
   "cell_type": "code",
   "execution_count": 137,
   "metadata": {
    "colab": {
     "base_uri": "https://localhost:8080/",
     "height": 145
    },
    "colab_type": "code",
    "id": "CUDxogh6tVJN",
    "outputId": "2f691ca1-542a-432d-f4ec-fdfc5945fa51"
   },
   "outputs": [
    {
     "data": {
      "text/plain": [
       "array([[0.70398605],\n",
       "       [0.6238719 ],\n",
       "       [0.66649306],\n",
       "       ...,\n",
       "       [0.40053356],\n",
       "       [0.28903082],\n",
       "       [0.3822172 ]], dtype=float32)"
      ]
     },
     "execution_count": 137,
     "metadata": {
      "tags": []
     },
     "output_type": "execute_result"
    }
   ],
   "source": [
    "trainPredict"
   ]
  },
  {
   "cell_type": "markdown",
   "metadata": {
    "colab_type": "text",
    "id": "XxxWOa-PsieH"
   },
   "source": [
    "### reset model state\n",
    "- if you are using stateful=True in your model then you should call reset_states every time, when you want to make consecutive model calls independent.\n",
    "- use reset_states() method"
   ]
  },
  {
   "cell_type": "code",
   "execution_count": 0,
   "metadata": {
    "colab": {},
    "colab_type": "code",
    "id": "ZdV5_F1Eo8SY"
   },
   "outputs": [],
   "source": [
    "model.reset_states()"
   ]
  },
  {
   "cell_type": "markdown",
   "metadata": {
    "colab_type": "text",
    "id": "KAhziPVBJD0u"
   },
   "source": [
    "### make predictions on test data\n",
    "- use predict() method\n",
    "  - batch_size: 1\n",
    "- store predictions in a variable"
   ]
  },
  {
   "cell_type": "code",
   "execution_count": 0,
   "metadata": {
    "colab": {},
    "colab_type": "code",
    "id": "HuHopEXNJU_y"
   },
   "outputs": [],
   "source": [
    "\n",
    "testPredict = model.predict(X_test, batch_size=1)"
   ]
  },
  {
   "cell_type": "markdown",
   "metadata": {
    "colab_type": "text",
    "id": "pO81E-fsJruD"
   },
   "source": [
    "## Question 10"
   ]
  },
  {
   "cell_type": "markdown",
   "metadata": {
    "colab_type": "text",
    "id": "RImBG7sCtnlb"
   },
   "source": [
    "### Inverse train predictions and true labels\n",
    "- use your MinMaxSclarer object\n",
    "- use inverse_transform() method"
   ]
  },
  {
   "cell_type": "code",
   "execution_count": 0,
   "metadata": {
    "colab": {},
    "colab_type": "code",
    "id": "xXfce41cqN-h"
   },
   "outputs": [],
   "source": []
  },
  {
   "cell_type": "markdown",
   "metadata": {
    "colab_type": "text",
    "id": "5fWSzk8cuPbp"
   },
   "source": [
    "### Inverse test predictions and true labels\n",
    "- use your MinMaxSclarer object\n",
    "- use inverse_transform() method"
   ]
  },
  {
   "cell_type": "code",
   "execution_count": 0,
   "metadata": {
    "colab": {},
    "colab_type": "code",
    "id": "nVJ1wMupuPbu"
   },
   "outputs": [],
   "source": [
    "\n",
    "trainPredict = scaler.inverse_transform(trainPredict)\n",
    "testPredict = scaler.inverse_transform(testPredict)"
   ]
  },
  {
   "cell_type": "markdown",
   "metadata": {
    "colab_type": "text",
    "id": "VtowvAItJv6c"
   },
   "source": [
    "### Evaluate train predictions\n",
    "- calculate RMSE\n",
    "- RMSE = sqrt(mean_squared_error(true_labels, predicted_labels))\n",
    "- use sqrt() and mean_squared_error() method\n",
    "- print training RMSE"
   ]
  },
  {
   "cell_type": "code",
   "execution_count": 0,
   "metadata": {
    "colab": {},
    "colab_type": "code",
    "id": "GjXbis_bJ9GL"
   },
   "outputs": [],
   "source": [
    "from sklearn.metrics import mean_squared_error\n",
    "import math"
   ]
  },
  {
   "cell_type": "code",
   "execution_count": 159,
   "metadata": {
    "colab": {
     "base_uri": "https://localhost:8080/",
     "height": 35
    },
    "colab_type": "code",
    "id": "pLb65-QiqMDX",
    "outputId": "d40334a8-0f20-48e4-f4ff-b2721fb0a405"
   },
   "outputs": [
    {
     "data": {
      "text/plain": [
       "11.326288500267243"
      ]
     },
     "execution_count": 159,
     "metadata": {
      "tags": []
     },
     "output_type": "execute_result"
    }
   ],
   "source": [
    "rmsetrain=math.sqrt(mean_squared_error(y_train,trainPredict))\n",
    "rmsetrain\n"
   ]
  },
  {
   "cell_type": "markdown",
   "metadata": {
    "colab_type": "text",
    "id": "DBOfSPRDvERE"
   },
   "source": [
    "### Evaluate test predictions\n",
    "- calculate RMSE\n",
    "- RMSE = sqrt(mean_squared_error(true_labels, predicted_labels))\n",
    "- use sqrt() and mean_squared_error() method\n",
    "- print testing RMSE"
   ]
  },
  {
   "cell_type": "code",
   "execution_count": 161,
   "metadata": {
    "colab": {
     "base_uri": "https://localhost:8080/",
     "height": 35
    },
    "colab_type": "code",
    "id": "8rQOereovERJ",
    "outputId": "8e9f52dc-8665-49d3-f2d3-4c3e5a9732f4"
   },
   "outputs": [
    {
     "data": {
      "text/plain": [
       "11.475883753380662"
      ]
     },
     "execution_count": 161,
     "metadata": {
      "tags": []
     },
     "output_type": "execute_result"
    }
   ],
   "source": [
    "rmsetrain=math.sqrt(mean_squared_error(y_test,testPredict))\n",
    "rmsetrain"
   ]
  },
  {
   "cell_type": "code",
   "execution_count": 0,
   "metadata": {
    "colab": {},
    "colab_type": "code",
    "id": "8DhUsMnvvERT"
   },
   "outputs": [],
   "source": []
  },
  {
   "cell_type": "code",
   "execution_count": 0,
   "metadata": {
    "colab": {},
    "colab_type": "code",
    "id": "PAnzxOyoy5Bj"
   },
   "outputs": [],
   "source": []
  },
  {
   "cell_type": "markdown",
   "metadata": {
    "colab_type": "text",
    "id": "ueeUkE9Pvs91"
   },
   "source": [
    "# Neural Machine Translation\n",
    "\n",
    "- Translate a given sentence in one language to another desired language.\n",
    "\n",
    "#### In this notebook, we aim to build a model which can translate German sentences to English."
   ]
  },
  {
   "cell_type": "markdown",
   "metadata": {
    "colab_type": "text",
    "id": "HphxvZ0fv_kr"
   },
   "source": [
    "## Dataset\n",
    "\n",
    "Dataset is taken from http://www.manythings.org/anki/.\n",
    "\n",
    "We are considering German – English deu-eng.zip file from the above mentioned website.\n",
    "\n",
    "In the above zip file there is a file with name **`deu.txt`** that contains **152,820** pairs of English to German phrases, one pair per line with a tab separating the phrases.\n",
    "\n",
    "\n",
    "For example,\n",
    "\n",
    "The first 5 lines in deu.txt are as given below.\n",
    "\n",
    "***\n",
    "```\n",
    "Hi.    Hallo!\n",
    "Hi.    Grüß Gott!\n",
    "Run!    Lauf!\n",
    "Wow!    Potzdonner!\n",
    "Wow!    Donnerwetter!\n",
    "```\n",
    "***\n"
   ]
  },
  {
   "cell_type": "markdown",
   "metadata": {
    "colab_type": "text",
    "id": "KzhjY_3MxlCT"
   },
   "source": [
    "## Problem\n",
    "\n",
    "### Given a sequence of words in German as input, predict the sequence of words in English."
   ]
  },
  {
   "cell_type": "markdown",
   "metadata": {
    "colab_type": "text",
    "id": "STq1sKSHywCQ"
   },
   "source": [
    "### 1. Prepare Data\n",
    "\n",
    "\n",
    "The preprocessing of the data involves:\n",
    "\n",
    "1. Removing punctuation marks from the data.\n",
    "\n",
    "2. Converting text corpus into lower case characters.\n",
    "\n",
    "3. Split into Train and Test sets.\n",
    "\n",
    "4. Shuffling the sentences.\n",
    "\n",
    "\n",
    "\n",
    "The above tasks are done  and full dataset is given as **``english-german-both.pkl``** respectively.\n",
    "\n",
    "Download dataset files from here: https://drive.google.com/open?id=1gWVk7SuuE93Cf_nT9Lb7GBCiwfAgdBiX\n",
    "\n",
    "\n"
   ]
  },
  {
   "cell_type": "markdown",
   "metadata": {
    "colab_type": "text",
    "id": "x9JDfVgWosMJ"
   },
   "source": [
    "# Character level Machine Translation"
   ]
  },
  {
   "cell_type": "markdown",
   "metadata": {
    "colab_type": "text",
    "id": "sP4P2nnAXD5G"
   },
   "source": [
    "## Initialize parameters\n",
    "Run the below code to initialize the variables required for the model."
   ]
  },
  {
   "cell_type": "code",
   "execution_count": 0,
   "metadata": {
    "colab": {},
    "colab_type": "code",
    "id": "4jRTxBQ9owHH"
   },
   "outputs": [],
   "source": [
    "batch_size = 64  # Batch size for training.\n",
    "epochs = 10  # Number of epochs to train for.\n",
    "latent_dim = 256  # Latent dimensionality of the encoding space.\n",
    "num_samples = 10000  # Number of samples to train on.\n",
    "# Path to the data txt file on disk.\n",
    "data_path = 'fra.txt'"
   ]
  },
  {
   "cell_type": "markdown",
   "metadata": {
    "colab_type": "text",
    "id": "0N1Q-zzUJtO0"
   },
   "source": [
    "### Connect to google drive"
   ]
  },
  {
   "cell_type": "code",
   "execution_count": 104,
   "metadata": {
    "colab": {
     "base_uri": "https://localhost:8080/",
     "height": 558
    },
    "colab_type": "code",
    "id": "SEtf-c5Fo7eF",
    "outputId": "25cea2f0-ed56-4b5b-ce05-b0c236209bd6"
   },
   "outputs": [
    {
     "ename": "KeyboardInterrupt",
     "evalue": "ignored",
     "output_type": "error",
     "traceback": [
      "\u001b[0;31m---------------------------------------------------------------------------\u001b[0m",
      "\u001b[0;31mKeyboardInterrupt\u001b[0m                         Traceback (most recent call last)",
      "\u001b[0;32m/usr/local/lib/python3.6/dist-packages/ipykernel/kernelbase.py\u001b[0m in \u001b[0;36m_input_request\u001b[0;34m(self, prompt, ident, parent, password)\u001b[0m\n\u001b[1;32m    729\u001b[0m             \u001b[0;32mtry\u001b[0m\u001b[0;34m:\u001b[0m\u001b[0;34m\u001b[0m\u001b[0;34m\u001b[0m\u001b[0m\n\u001b[0;32m--> 730\u001b[0;31m                 \u001b[0mident\u001b[0m\u001b[0;34m,\u001b[0m \u001b[0mreply\u001b[0m \u001b[0;34m=\u001b[0m \u001b[0mself\u001b[0m\u001b[0;34m.\u001b[0m\u001b[0msession\u001b[0m\u001b[0;34m.\u001b[0m\u001b[0mrecv\u001b[0m\u001b[0;34m(\u001b[0m\u001b[0mself\u001b[0m\u001b[0;34m.\u001b[0m\u001b[0mstdin_socket\u001b[0m\u001b[0;34m,\u001b[0m \u001b[0;36m0\u001b[0m\u001b[0;34m)\u001b[0m\u001b[0;34m\u001b[0m\u001b[0;34m\u001b[0m\u001b[0m\n\u001b[0m\u001b[1;32m    731\u001b[0m             \u001b[0;32mexcept\u001b[0m \u001b[0mException\u001b[0m\u001b[0;34m:\u001b[0m\u001b[0;34m\u001b[0m\u001b[0;34m\u001b[0m\u001b[0m\n",
      "\u001b[0;32m/usr/local/lib/python3.6/dist-packages/jupyter_client/session.py\u001b[0m in \u001b[0;36mrecv\u001b[0;34m(self, socket, mode, content, copy)\u001b[0m\n\u001b[1;32m    802\u001b[0m         \u001b[0;32mtry\u001b[0m\u001b[0;34m:\u001b[0m\u001b[0;34m\u001b[0m\u001b[0;34m\u001b[0m\u001b[0m\n\u001b[0;32m--> 803\u001b[0;31m             \u001b[0mmsg_list\u001b[0m \u001b[0;34m=\u001b[0m \u001b[0msocket\u001b[0m\u001b[0;34m.\u001b[0m\u001b[0mrecv_multipart\u001b[0m\u001b[0;34m(\u001b[0m\u001b[0mmode\u001b[0m\u001b[0;34m,\u001b[0m \u001b[0mcopy\u001b[0m\u001b[0;34m=\u001b[0m\u001b[0mcopy\u001b[0m\u001b[0;34m)\u001b[0m\u001b[0;34m\u001b[0m\u001b[0;34m\u001b[0m\u001b[0m\n\u001b[0m\u001b[1;32m    804\u001b[0m         \u001b[0;32mexcept\u001b[0m \u001b[0mzmq\u001b[0m\u001b[0;34m.\u001b[0m\u001b[0mZMQError\u001b[0m \u001b[0;32mas\u001b[0m \u001b[0me\u001b[0m\u001b[0;34m:\u001b[0m\u001b[0;34m\u001b[0m\u001b[0;34m\u001b[0m\u001b[0m\n",
      "\u001b[0;32m/usr/local/lib/python3.6/dist-packages/zmq/sugar/socket.py\u001b[0m in \u001b[0;36mrecv_multipart\u001b[0;34m(self, flags, copy, track)\u001b[0m\n\u001b[1;32m    465\u001b[0m         \"\"\"\n\u001b[0;32m--> 466\u001b[0;31m         \u001b[0mparts\u001b[0m \u001b[0;34m=\u001b[0m \u001b[0;34m[\u001b[0m\u001b[0mself\u001b[0m\u001b[0;34m.\u001b[0m\u001b[0mrecv\u001b[0m\u001b[0;34m(\u001b[0m\u001b[0mflags\u001b[0m\u001b[0;34m,\u001b[0m \u001b[0mcopy\u001b[0m\u001b[0;34m=\u001b[0m\u001b[0mcopy\u001b[0m\u001b[0;34m,\u001b[0m \u001b[0mtrack\u001b[0m\u001b[0;34m=\u001b[0m\u001b[0mtrack\u001b[0m\u001b[0;34m)\u001b[0m\u001b[0;34m]\u001b[0m\u001b[0;34m\u001b[0m\u001b[0;34m\u001b[0m\u001b[0m\n\u001b[0m\u001b[1;32m    467\u001b[0m         \u001b[0;31m# have first part already, only loop while more to receive\u001b[0m\u001b[0;34m\u001b[0m\u001b[0;34m\u001b[0m\u001b[0;34m\u001b[0m\u001b[0m\n",
      "\u001b[0;32mzmq/backend/cython/socket.pyx\u001b[0m in \u001b[0;36mzmq.backend.cython.socket.Socket.recv\u001b[0;34m()\u001b[0m\n",
      "\u001b[0;32mzmq/backend/cython/socket.pyx\u001b[0m in \u001b[0;36mzmq.backend.cython.socket.Socket.recv\u001b[0;34m()\u001b[0m\n",
      "\u001b[0;32mzmq/backend/cython/socket.pyx\u001b[0m in \u001b[0;36mzmq.backend.cython.socket._recv_copy\u001b[0;34m()\u001b[0m\n",
      "\u001b[0;32m/usr/local/lib/python3.6/dist-packages/zmq/backend/cython/checkrc.pxd\u001b[0m in \u001b[0;36mzmq.backend.cython.checkrc._check_rc\u001b[0;34m()\u001b[0m\n",
      "\u001b[0;31mKeyboardInterrupt\u001b[0m: ",
      "\nDuring handling of the above exception, another exception occurred:\n",
      "\u001b[0;31mKeyboardInterrupt\u001b[0m                         Traceback (most recent call last)",
      "\u001b[0;32m<ipython-input-104-91874b305a32>\u001b[0m in \u001b[0;36m<module>\u001b[0;34m()\u001b[0m\n\u001b[1;32m      1\u001b[0m \u001b[0;32mfrom\u001b[0m \u001b[0mgoogle\u001b[0m\u001b[0;34m.\u001b[0m\u001b[0mcolab\u001b[0m \u001b[0;32mimport\u001b[0m \u001b[0mdrive\u001b[0m\u001b[0;34m\u001b[0m\u001b[0;34m\u001b[0m\u001b[0m\n\u001b[0;32m----> 2\u001b[0;31m \u001b[0mdrive\u001b[0m\u001b[0;34m.\u001b[0m\u001b[0mmount\u001b[0m\u001b[0;34m(\u001b[0m\u001b[0;34m'/content/drive/'\u001b[0m\u001b[0;34m)\u001b[0m\u001b[0;34m\u001b[0m\u001b[0;34m\u001b[0m\u001b[0m\n\u001b[0m",
      "\u001b[0;32m/usr/local/lib/python3.6/dist-packages/google/colab/drive.py\u001b[0m in \u001b[0;36mmount\u001b[0;34m(mountpoint, force_remount, timeout_ms, use_metadata_server)\u001b[0m\n\u001b[1;32m    236\u001b[0m       \u001b[0mauth_prompt\u001b[0m \u001b[0;34m=\u001b[0m \u001b[0md\u001b[0m\u001b[0;34m.\u001b[0m\u001b[0mmatch\u001b[0m\u001b[0;34m.\u001b[0m\u001b[0mgroup\u001b[0m\u001b[0;34m(\u001b[0m\u001b[0;36m1\u001b[0m\u001b[0;34m)\u001b[0m \u001b[0;34m+\u001b[0m \u001b[0;34m'\\nEnter your authorization code:\\n'\u001b[0m\u001b[0;34m\u001b[0m\u001b[0;34m\u001b[0m\u001b[0m\n\u001b[1;32m    237\u001b[0m       \u001b[0;32mwith\u001b[0m \u001b[0mopen\u001b[0m\u001b[0;34m(\u001b[0m\u001b[0mfifo\u001b[0m\u001b[0;34m,\u001b[0m \u001b[0;34m'w'\u001b[0m\u001b[0;34m)\u001b[0m \u001b[0;32mas\u001b[0m \u001b[0mfifo_file\u001b[0m\u001b[0;34m:\u001b[0m\u001b[0;34m\u001b[0m\u001b[0;34m\u001b[0m\u001b[0m\n\u001b[0;32m--> 238\u001b[0;31m         \u001b[0mfifo_file\u001b[0m\u001b[0;34m.\u001b[0m\u001b[0mwrite\u001b[0m\u001b[0;34m(\u001b[0m\u001b[0m_getpass\u001b[0m\u001b[0;34m.\u001b[0m\u001b[0mgetpass\u001b[0m\u001b[0;34m(\u001b[0m\u001b[0mauth_prompt\u001b[0m\u001b[0;34m)\u001b[0m \u001b[0;34m+\u001b[0m \u001b[0;34m'\\n'\u001b[0m\u001b[0;34m)\u001b[0m\u001b[0;34m\u001b[0m\u001b[0;34m\u001b[0m\u001b[0m\n\u001b[0m\u001b[1;32m    239\u001b[0m       \u001b[0mwrote_to_fifo\u001b[0m \u001b[0;34m=\u001b[0m \u001b[0;32mTrue\u001b[0m\u001b[0;34m\u001b[0m\u001b[0;34m\u001b[0m\u001b[0m\n\u001b[1;32m    240\u001b[0m   \u001b[0;32mif\u001b[0m \u001b[0;32mnot\u001b[0m \u001b[0mwrote_to_fifo\u001b[0m\u001b[0;34m:\u001b[0m\u001b[0;34m\u001b[0m\u001b[0;34m\u001b[0m\u001b[0m\n",
      "\u001b[0;32m/usr/local/lib/python3.6/dist-packages/ipykernel/kernelbase.py\u001b[0m in \u001b[0;36mgetpass\u001b[0;34m(self, prompt, stream)\u001b[0m\n\u001b[1;32m    686\u001b[0m             \u001b[0mself\u001b[0m\u001b[0;34m.\u001b[0m\u001b[0m_parent_ident\u001b[0m\u001b[0;34m,\u001b[0m\u001b[0;34m\u001b[0m\u001b[0;34m\u001b[0m\u001b[0m\n\u001b[1;32m    687\u001b[0m             \u001b[0mself\u001b[0m\u001b[0;34m.\u001b[0m\u001b[0m_parent_header\u001b[0m\u001b[0;34m,\u001b[0m\u001b[0;34m\u001b[0m\u001b[0;34m\u001b[0m\u001b[0m\n\u001b[0;32m--> 688\u001b[0;31m             \u001b[0mpassword\u001b[0m\u001b[0;34m=\u001b[0m\u001b[0;32mTrue\u001b[0m\u001b[0;34m,\u001b[0m\u001b[0;34m\u001b[0m\u001b[0;34m\u001b[0m\u001b[0m\n\u001b[0m\u001b[1;32m    689\u001b[0m         )\n\u001b[1;32m    690\u001b[0m \u001b[0;34m\u001b[0m\u001b[0m\n",
      "\u001b[0;32m/usr/local/lib/python3.6/dist-packages/ipykernel/kernelbase.py\u001b[0m in \u001b[0;36m_input_request\u001b[0;34m(self, prompt, ident, parent, password)\u001b[0m\n\u001b[1;32m    733\u001b[0m             \u001b[0;32mexcept\u001b[0m \u001b[0mKeyboardInterrupt\u001b[0m\u001b[0;34m:\u001b[0m\u001b[0;34m\u001b[0m\u001b[0;34m\u001b[0m\u001b[0m\n\u001b[1;32m    734\u001b[0m                 \u001b[0;31m# re-raise KeyboardInterrupt, to truncate traceback\u001b[0m\u001b[0;34m\u001b[0m\u001b[0;34m\u001b[0m\u001b[0;34m\u001b[0m\u001b[0m\n\u001b[0;32m--> 735\u001b[0;31m                 \u001b[0;32mraise\u001b[0m \u001b[0mKeyboardInterrupt\u001b[0m\u001b[0;34m\u001b[0m\u001b[0;34m\u001b[0m\u001b[0m\n\u001b[0m\u001b[1;32m    736\u001b[0m             \u001b[0;32melse\u001b[0m\u001b[0;34m:\u001b[0m\u001b[0;34m\u001b[0m\u001b[0;34m\u001b[0m\u001b[0m\n\u001b[1;32m    737\u001b[0m                 \u001b[0;32mbreak\u001b[0m\u001b[0;34m\u001b[0m\u001b[0;34m\u001b[0m\u001b[0m\n",
      "\u001b[0;31mKeyboardInterrupt\u001b[0m: "
     ]
    }
   ],
   "source": [
    "from google.colab import drive\n",
    "drive.mount('/content/drive/')"
   ]
  },
  {
   "cell_type": "markdown",
   "metadata": {
    "colab_type": "text",
    "id": "Mv0XAJSZJyOl"
   },
   "source": [
    "### Give the path for the folder in which the dataset is present in google drive"
   ]
  },
  {
   "cell_type": "code",
   "execution_count": 0,
   "metadata": {
    "colab": {},
    "colab_type": "code",
    "id": "fXQOArlSo8SX"
   },
   "outputs": [],
   "source": [
    "project_path = \"\""
   ]
  },
  {
   "cell_type": "markdown",
   "metadata": {
    "colab_type": "text",
    "id": "SoEhVDh3qfuj"
   },
   "source": [
    "### Change present working directory"
   ]
  },
  {
   "cell_type": "code",
   "execution_count": 0,
   "metadata": {
    "colab": {},
    "colab_type": "code",
    "id": "g-plftRTqlgB"
   },
   "outputs": [],
   "source": [
    "import os\n",
    "os.chdir(project_path)"
   ]
  },
  {
   "cell_type": "markdown",
   "metadata": {
    "colab_type": "text",
    "id": "GkAdNgJrKDvK"
   },
   "source": [
    "## Load the pickle file (`english-german-both.pkl`) into a variable with name `dataset`\n",
    "Run the below code to load the .pkl file."
   ]
  },
  {
   "cell_type": "code",
   "execution_count": 0,
   "metadata": {
    "colab": {},
    "colab_type": "code",
    "id": "a8fpd1Lxo8VH"
   },
   "outputs": [],
   "source": [
    "import pickle\n",
    "\n",
    "with open(project_path + 'english-german-both.pkl', 'rb') as f:\n",
    "  dataset = pickle.load(f)"
   ]
  },
  {
   "cell_type": "markdown",
   "metadata": {
    "colab_type": "text",
    "id": "9pkL351SKaWb"
   },
   "source": [
    "## Check the `dataset` variable at this step. It should be as given below"
   ]
  },
  {
   "cell_type": "code",
   "execution_count": 0,
   "metadata": {
    "colab": {},
    "colab_type": "code",
    "id": "D6kEL_65KmHe"
   },
   "outputs": [],
   "source": [
    "dataset"
   ]
  },
  {
   "cell_type": "markdown",
   "metadata": {
    "colab_type": "text",
    "id": "uQ270GmwK2Qt"
   },
   "source": [
    "## Feature set and target set division from the **dataset**\n",
    "\n",
    "### Run the below code to divide the dataset into feature set(input) and target set(output). \n",
    "\n",
    "1. We are creating two lists for storing input sentences and output sentences separately. \n",
    "2. We are storing each character in a list from both input and target sets separately. \n",
    "3. Print and check `input_texts` and `target_texts`.\n",
    "4. Print and check `input_characters` and `target_characters`."
   ]
  },
  {
   "cell_type": "code",
   "execution_count": 0,
   "metadata": {
    "colab": {},
    "colab_type": "code",
    "id": "fJ95hstto8Xy"
   },
   "outputs": [],
   "source": [
    "# Vectorize the data.\n",
    "input_texts = []\n",
    "target_texts = []\n",
    "input_characters = set()\n",
    "target_characters = set()\n",
    "\n",
    "for line in dataset[: min(num_samples, len(dataset) - 1)]:\n",
    "    input_text, target_text = line[0], line[1]\n",
    "    # We use \"tab\" as the \"start sequence\" character\n",
    "    # for the targets, and \"\\n\" as \"end sequence\" character.\n",
    "    target_text = '\\t' + target_text + '\\n'\n",
    "    input_texts.append(input_text)\n",
    "    target_texts.append(target_text)\n",
    "    for char in input_text:\n",
    "        if char not in input_characters:\n",
    "            input_characters.add(char)\n",
    "    for char in target_text:\n",
    "        if char not in target_characters:\n",
    "            target_characters.add(char)"
   ]
  },
  {
   "cell_type": "markdown",
   "metadata": {
    "colab_type": "text",
    "id": "wwWZMeVjlPjB"
   },
   "source": [
    "### Print input text"
   ]
  },
  {
   "cell_type": "code",
   "execution_count": 0,
   "metadata": {
    "colab": {},
    "colab_type": "code",
    "id": "S-1OyZSULuJY"
   },
   "outputs": [],
   "source": []
  },
  {
   "cell_type": "markdown",
   "metadata": {
    "colab_type": "text",
    "id": "fo7Mno1JlVWP"
   },
   "source": [
    "### Print target text"
   ]
  },
  {
   "cell_type": "code",
   "execution_count": 0,
   "metadata": {
    "colab": {},
    "colab_type": "code",
    "id": "_pnLXkk8LzBx"
   },
   "outputs": [],
   "source": []
  },
  {
   "cell_type": "markdown",
   "metadata": {
    "colab_type": "text",
    "id": "u7IhmN_hlb1K"
   },
   "source": [
    "### Print input character"
   ]
  },
  {
   "cell_type": "code",
   "execution_count": 0,
   "metadata": {
    "colab": {},
    "colab_type": "code",
    "id": "9az5VYFjNe7I"
   },
   "outputs": [],
   "source": []
  },
  {
   "cell_type": "markdown",
   "metadata": {
    "colab_type": "text",
    "id": "CX30Y8dZlfGQ"
   },
   "source": [
    "### Print target character"
   ]
  },
  {
   "cell_type": "code",
   "execution_count": 0,
   "metadata": {
    "colab": {},
    "colab_type": "code",
    "id": "kxg3509lNjnU"
   },
   "outputs": [],
   "source": []
  },
  {
   "cell_type": "markdown",
   "metadata": {
    "colab_type": "text",
    "id": "Dw10uDT3Oc1N"
   },
   "source": [
    "## Stats from the dataset\n",
    "\n",
    "### Run the below code to check the stats from the dataset"
   ]
  },
  {
   "cell_type": "code",
   "execution_count": 0,
   "metadata": {
    "colab": {},
    "colab_type": "code",
    "id": "T4stnzMpo8ci"
   },
   "outputs": [],
   "source": [
    "input_characters = sorted(list(input_characters))\n",
    "target_characters = sorted(list(target_characters))\n",
    "num_encoder_tokens = len(input_characters)\n",
    "num_decoder_tokens = len(target_characters)\n",
    "max_encoder_seq_length = max([len(txt) for txt in input_texts])\n",
    "max_decoder_seq_length = max([len(txt) for txt in target_texts])"
   ]
  },
  {
   "cell_type": "code",
   "execution_count": 0,
   "metadata": {
    "colab": {},
    "colab_type": "code",
    "id": "VfbreAAUo8e6"
   },
   "outputs": [],
   "source": [
    "print('Number of samples:', len(input_texts))\n",
    "print('Number of unique input tokens:', num_encoder_tokens)\n",
    "print('Number of unique output tokens:', num_decoder_tokens)\n",
    "print('Max sequence length for inputs:', max_encoder_seq_length)\n",
    "print('Max sequence length for outputs:', max_decoder_seq_length)"
   ]
  },
  {
   "cell_type": "markdown",
   "metadata": {
    "colab_type": "text",
    "id": "mVuwMY0UTVKD"
   },
   "source": [
    "## Build character to index dictionary names `input_token_index` and `target_token_index` for input and target sets respectively."
   ]
  },
  {
   "cell_type": "code",
   "execution_count": 0,
   "metadata": {
    "colab": {},
    "colab_type": "code",
    "id": "QYXSW9zOo8hl"
   },
   "outputs": [],
   "source": []
  },
  {
   "cell_type": "markdown",
   "metadata": {
    "colab_type": "text",
    "id": "9aUS5gEamGiC"
   },
   "source": [
    "### Print input_index_token"
   ]
  },
  {
   "cell_type": "code",
   "execution_count": 0,
   "metadata": {
    "colab": {},
    "colab_type": "code",
    "id": "__ga4KfKTijk"
   },
   "outputs": [],
   "source": [
    "input_token_index"
   ]
  },
  {
   "cell_type": "markdown",
   "metadata": {
    "colab_type": "text",
    "id": "zGs66ZhjmNBA"
   },
   "source": [
    "### Print target_token_index"
   ]
  },
  {
   "cell_type": "code",
   "execution_count": 0,
   "metadata": {
    "colab": {},
    "colab_type": "code",
    "id": "Sa3DArDrTm1z"
   },
   "outputs": [],
   "source": [
    "target_token_index"
   ]
  },
  {
   "cell_type": "markdown",
   "metadata": {
    "colab_type": "text",
    "id": "UB7uI724TrlM"
   },
   "source": [
    "## Build Model\n",
    "Initialize the required layers from keras\n",
    "\n",
    "### Import libraries"
   ]
  },
  {
   "cell_type": "code",
   "execution_count": 0,
   "metadata": {
    "colab": {},
    "colab_type": "code",
    "id": "T1GuGnDiqOz3"
   },
   "outputs": [],
   "source": [
    "from __future__ import print_function\n",
    "\n",
    "from keras.models import Model\n",
    "from keras.layers import Input, LSTM, Dense\n",
    "import numpy as np"
   ]
  },
  {
   "cell_type": "markdown",
   "metadata": {
    "colab_type": "text",
    "id": "3q9GVu-pT9UR"
   },
   "source": [
    "### Run the below code to build one-hot vectors for the characters"
   ]
  },
  {
   "cell_type": "code",
   "execution_count": 0,
   "metadata": {
    "colab": {},
    "colab_type": "code",
    "id": "uatzEBy5qIpI"
   },
   "outputs": [],
   "source": [
    "encoder_input_data = np.zeros(\n",
    "    (len(input_texts), max_encoder_seq_length, num_encoder_tokens),\n",
    "    dtype='float32')\n",
    "decoder_input_data = np.zeros(\n",
    "    (len(input_texts), max_decoder_seq_length, num_decoder_tokens),\n",
    "    dtype='float32')\n",
    "decoder_target_data = np.zeros(\n",
    "    (len(input_texts), max_decoder_seq_length, num_decoder_tokens),\n",
    "    dtype='float32')"
   ]
  },
  {
   "cell_type": "code",
   "execution_count": 0,
   "metadata": {
    "colab": {},
    "colab_type": "code",
    "id": "MDGoIZXuqLF7"
   },
   "outputs": [],
   "source": [
    "for i, (input_text, target_text) in enumerate(zip(input_texts, target_texts)):\n",
    "    for t, char in enumerate(input_text):\n",
    "        encoder_input_data[i, t, input_token_index[char]] = 1.\n",
    "    for t, char in enumerate(target_text):\n",
    "        # decoder_target_data is ahead of decoder_input_data by one timestep\n",
    "        decoder_input_data[i, t, target_token_index[char]] = 1.\n",
    "        if t > 0:\n",
    "            # decoder_target_data will be ahead by one timestep\n",
    "            # and will not include the start character.\n",
    "            decoder_target_data[i, t - 1, target_token_index[char]] = 1."
   ]
  },
  {
   "cell_type": "markdown",
   "metadata": {
    "colab_type": "text",
    "id": "i0ihyyfeW7le"
   },
   "source": [
    "### Build the encoder Model\n",
    "\n",
    "Define an input sequence and process it.\n",
    "\n",
    "Discard `encoder_outputs` and only keep the states."
   ]
  },
  {
   "cell_type": "code",
   "execution_count": 0,
   "metadata": {
    "colab": {},
    "colab_type": "code",
    "id": "CQU4zjxdqXnG"
   },
   "outputs": [],
   "source": []
  },
  {
   "cell_type": "markdown",
   "metadata": {
    "colab_type": "text",
    "id": "X3PzX5oBXfGW"
   },
   "source": [
    "### Build the decoder Model\n",
    "\n",
    "Set up the decoder, using `encoder_states` as initial state.\n",
    "\n",
    "We set up our decoder to return full output sequences, and to return internal states as well. We don't use the return states in the training model, but we will use them in inference."
   ]
  },
  {
   "cell_type": "code",
   "execution_count": 0,
   "metadata": {
    "colab": {},
    "colab_type": "code",
    "id": "ytn5MNCjqZuc"
   },
   "outputs": [],
   "source": []
  },
  {
   "cell_type": "markdown",
   "metadata": {
    "colab_type": "text",
    "id": "XpJnlQgvn8vN"
   },
   "source": [
    "### Define Model\n",
    "\n",
    "Define the model that will turn `encoder_input_data ` & ` decoder_input_data` into `decoder_target_data`"
   ]
  },
  {
   "cell_type": "code",
   "execution_count": 0,
   "metadata": {
    "colab": {},
    "colab_type": "code",
    "id": "E24IW9wIqcYq"
   },
   "outputs": [],
   "source": []
  },
  {
   "cell_type": "markdown",
   "metadata": {
    "colab_type": "text",
    "id": "qvawc6CfXkzG"
   },
   "source": [
    "### Compile and fit the model"
   ]
  },
  {
   "cell_type": "code",
   "execution_count": 0,
   "metadata": {
    "colab": {},
    "colab_type": "code",
    "id": "vhXLFmApqeU4"
   },
   "outputs": [],
   "source": []
  },
  {
   "cell_type": "markdown",
   "metadata": {
    "colab_type": "text",
    "id": "7o4khltlof6H"
   },
   "source": [
    "### Save the model"
   ]
  },
  {
   "cell_type": "code",
   "execution_count": 0,
   "metadata": {
    "colab": {},
    "colab_type": "code",
    "id": "nVgGMc5Lojmo"
   },
   "outputs": [],
   "source": [
    "# Save model\n",
    "model.save('s2s.h5')"
   ]
  },
  {
   "cell_type": "markdown",
   "metadata": {
    "colab_type": "text",
    "id": "zbLdraJ1XpsR"
   },
   "source": [
    "## Run the below code for inferencing the model"
   ]
  },
  {
   "cell_type": "code",
   "execution_count": 0,
   "metadata": {
    "colab": {},
    "colab_type": "code",
    "id": "4O7jtJYh29uo"
   },
   "outputs": [],
   "source": [
    "encoder_model = Model(encoder_inputs, encoder_states)\n",
    "\n",
    "decoder_state_input_h = Input(shape=(latent_dim,))\n",
    "decoder_state_input_c = Input(shape=(latent_dim,))\n",
    "decoder_states_inputs = [decoder_state_input_h, decoder_state_input_c]\n",
    "decoder_outputs, state_h, state_c = decoder_lstm(decoder_inputs, initial_state=decoder_states_inputs)\n",
    "decoder_states = [state_h, state_c]\n",
    "decoder_outputs = decoder_dense(decoder_outputs)\n",
    "\n",
    "decoder_model = Model(\n",
    "    [decoder_inputs] + decoder_states_inputs,\n",
    "    [decoder_outputs] + decoder_states)"
   ]
  },
  {
   "cell_type": "markdown",
   "metadata": {
    "colab_type": "text",
    "id": "scaoVQVapHLk"
   },
   "source": [
    "## Reverse-lookup token index to decode sequences back to something readable."
   ]
  },
  {
   "cell_type": "code",
   "execution_count": 0,
   "metadata": {
    "colab": {},
    "colab_type": "code",
    "id": "_3t_ntoTq0fP"
   },
   "outputs": [],
   "source": [
    "# Reverse-lookup token index to decode sequences back to\n",
    "# something readable.\n",
    "reverse_input_char_index = dict(\n",
    "    (i, char) for char, i in input_token_index.items())\n",
    "reverse_target_char_index = dict(\n",
    "    (i, char) for char, i in target_token_index.items())"
   ]
  },
  {
   "cell_type": "code",
   "execution_count": 0,
   "metadata": {
    "colab": {},
    "colab_type": "code",
    "id": "_9WAWX6ApcrG"
   },
   "outputs": [],
   "source": [
    "print(reverse_input_char_index)\n",
    "print(reverse_target_char_index)"
   ]
  },
  {
   "cell_type": "code",
   "execution_count": 0,
   "metadata": {
    "colab": {},
    "colab_type": "code",
    "id": "FYJkd_AZq0iI"
   },
   "outputs": [],
   "source": [
    "def decode_sequence(input_seq):\n",
    "    # Encode the input as state vectors.\n",
    "    states_value = encoder_model.predict(input_seq)\n",
    "\n",
    "    # Generate empty target sequence of length 1.\n",
    "    target_seq = np.zeros((1, 1, num_decoder_tokens))\n",
    "    # Populate the first character of target sequence with the start character.\n",
    "    target_seq[0, 0, target_token_index['\\t']] = 1.\n",
    "\n",
    "    # Sampling loop for a batch of sequences\n",
    "    # (to simplify, here we assume a batch of size 1).\n",
    "    stop_condition = False\n",
    "    decoded_sentence = ''\n",
    "    while not stop_condition:\n",
    "        output_tokens, h, c = decoder_model.predict(\n",
    "            [target_seq] + states_value)\n",
    "\n",
    "        # Sample a token\n",
    "        sampled_token_index = np.argmax(output_tokens[0, -1, :])\n",
    "        sampled_char = reverse_target_char_index[sampled_token_index]\n",
    "        decoded_sentence += sampled_char\n",
    "\n",
    "        # Exit condition: either hit max length\n",
    "        # or find stop character.\n",
    "        if (sampled_char == '\\n' or\n",
    "           len(decoded_sentence) > max_decoder_seq_length):\n",
    "            stop_condition = True\n",
    "\n",
    "        # Update the target sequence (of length 1).\n",
    "        target_seq = np.zeros((1, 1, num_decoder_tokens))\n",
    "        target_seq[0, 0, sampled_token_index] = 1.\n",
    "\n",
    "        # Update states\n",
    "        states_value = [h, c]\n",
    "\n",
    "    return decoded_sentence"
   ]
  },
  {
   "cell_type": "markdown",
   "metadata": {
    "colab_type": "text",
    "id": "jiPl9MHkXv0z"
   },
   "source": [
    "## Run the below code for checking some outputs from the model."
   ]
  },
  {
   "cell_type": "code",
   "execution_count": 0,
   "metadata": {
    "colab": {},
    "colab_type": "code",
    "id": "7IFQIeCGq0nk"
   },
   "outputs": [],
   "source": [
    "for seq_index in range(10):\n",
    "    # Take one sequence (part of the training set)\n",
    "    # for trying out decoding.\n",
    "    input_seq = encoder_input_data[seq_index: seq_index + 1]\n",
    "    decoded_sentence = decode_sequence(input_seq)\n",
    "    print('-')\n",
    "    print('Input sentence:', input_texts[seq_index])\n",
    "    print('Decoded sentence:', decoded_sentence)"
   ]
  }
 ],
 "metadata": {
  "colab": {
   "collapsed_sections": [],
   "name": "Questions - Internal - Sequential NLP Lab - 16 Hours (1).ipynb",
   "provenance": []
  },
  "kernelspec": {
   "display_name": "Python 3",
   "language": "python",
   "name": "python3"
  },
  "language_info": {
   "codemirror_mode": {
    "name": "ipython",
    "version": 3
   },
   "file_extension": ".py",
   "mimetype": "text/x-python",
   "name": "python",
   "nbconvert_exporter": "python",
   "pygments_lexer": "ipython3",
   "version": "3.7.4"
  }
 },
 "nbformat": 4,
 "nbformat_minor": 1
}
