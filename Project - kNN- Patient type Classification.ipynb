{
 "cells": [
  {
   "cell_type": "markdown",
   "metadata": {
    "_uuid": "905cc5ed1d6490c82b6a7082d8895ead2ecd2d74",
    "colab_type": "text",
    "id": "pq_6bn4s37rW"
   },
   "source": [
    "**KNN**\n",
    "\n",
    "According to this algorithm, which is used in classification, feature extraction during classification is used to look at the closeness of the new individual to be categorized to k of the previous individuals.\n",
    "For example, you want to classify a new element for k = 3. in this case the nearest 3 of the old classified elements are taken. If these elements are included in the class, the new element is also included in that class. The euclide distance can be used in the distance calculation."
   ]
  },
  {
   "cell_type": "markdown",
   "metadata": {
    "colab_type": "text",
    "id": "W_7uuJPl37rX"
   },
   "source": [
    "# Project - Classify Type of Patient from the biomechanical features of orthopedic patients."
   ]
  },
  {
   "cell_type": "markdown",
   "metadata": {
    "_cell_guid": "b1076dfc-b9ad-4769-8c92-a6c4dae69d19",
    "_uuid": "8f2839f25d086af736a60e9eeb907d3b93b6e0e5",
    "colab_type": "text",
    "id": "9zUilPk437rZ"
   },
   "source": [
    "# Install the necessary libraries\n"
   ]
  },
  {
   "cell_type": "code",
   "execution_count": 12,
   "metadata": {
    "colab": {},
    "colab_type": "code",
    "id": "wA9mXevl37ra"
   },
   "outputs": [],
   "source": [
    "import numpy as np\n",
    "import pandas as pd\n",
    "from sklearn.neighbors import KNeighborsClassifier\n",
    "from sklearn.model_selection import train_test_split\n",
    "from sklearn.preprocessing import LabelEncoder\n",
    "from sklearn.preprocessing import MinMaxScaler\n",
    "from sklearn.metrics import accuracy_score\n",
    "import seaborn as sns"
   ]
  },
  {
   "cell_type": "markdown",
   "metadata": {
    "_cell_guid": "79c7e3d0-c299-4dcb-8224-4455121ee9b0",
    "_uuid": "d629ff2d2480ee46fbb7e2d37f6b5fab8052498a",
    "colab_type": "text",
    "id": "Vhj-ygLk37rf"
   },
   "source": [
    "# import data 2C_weka.csv for 2 Class Classifcation.\n"
   ]
  },
  {
   "cell_type": "code",
   "execution_count": 13,
   "metadata": {
    "colab": {},
    "colab_type": "code",
    "id": "zJP60jXW37rg"
   },
   "outputs": [],
   "source": [
    "df = pd.read_csv(\"2Classdata.csv\")"
   ]
  },
  {
   "cell_type": "markdown",
   "metadata": {
    "_uuid": "594e3e7d5e6d772c4ea0ff7b86d3007320c300a2",
    "colab_type": "text",
    "id": "_4YRpeOK37rj"
   },
   "source": [
    "# Explore the data set.Get necessary information about the data."
   ]
  },
  {
   "cell_type": "markdown",
   "metadata": {
    "colab_type": "raw",
    "id": "ikUkrsBk37rk"
   },
   "source": [
    "Look at the head and tail of dataset.\n",
    "Find the missing value.\n",
    "Look at the unique values of class values.\n",
    "Look at the distribution of class values and other attributes.\n",
    "Get the datatype information about the dataset\n",
    "Plot the distribution of different classes for pelvic_radius and sacral_slope for visualization."
   ]
  },
  {
   "cell_type": "code",
   "execution_count": 14,
   "metadata": {
    "colab": {},
    "colab_type": "code",
    "id": "CHbvCSKR37rl"
   },
   "outputs": [
    {
     "name": "stdout",
     "output_type": "stream",
     "text": [
      "   pelvic_incidence  pelvic_tilt numeric  lumbar_lordosis_angle  sacral_slope  \\\n",
      "0         63.027818            22.552586              39.609117     40.475232   \n",
      "1         39.056951            10.060991              25.015378     28.995960   \n",
      "2         68.832021            22.218482              50.092194     46.613539   \n",
      "3         69.297008            24.652878              44.311238     44.644130   \n",
      "4         49.712859             9.652075              28.317406     40.060784   \n",
      "\n",
      "   pelvic_radius  degree_spondylolisthesis     class  \n",
      "0      98.672917                 -0.254400  Abnormal  \n",
      "1     114.405425                  4.564259  Abnormal  \n",
      "2     105.985135                 -3.530317  Abnormal  \n",
      "3     101.868495                 11.211523  Abnormal  \n",
      "4     108.168725                  7.918501  Abnormal  \n",
      "     pelvic_incidence  pelvic_tilt numeric  lumbar_lordosis_angle  \\\n",
      "305         47.903565            13.616688              36.000000   \n",
      "306         53.936748            20.721496              29.220534   \n",
      "307         61.446597            22.694968              46.170347   \n",
      "308         45.252792             8.693157              41.583126   \n",
      "309         33.841641             5.073991              36.641233   \n",
      "\n",
      "     sacral_slope  pelvic_radius  degree_spondylolisthesis   class  \n",
      "305     34.286877     117.449062                 -4.245395  Normal  \n",
      "306     33.215251     114.365845                 -0.421010  Normal  \n",
      "307     38.751628     125.670725                 -2.707880  Normal  \n",
      "308     36.559635     118.545842                  0.214750  Normal  \n",
      "309     28.767649     123.945244                 -0.199249  Normal  \n"
     ]
    }
   ],
   "source": [
    "print(df.head())\n",
    "print(df.tail())"
   ]
  },
  {
   "cell_type": "code",
   "execution_count": 15,
   "metadata": {
    "colab": {},
    "colab_type": "code",
    "id": "GEim0gnc37ro"
   },
   "outputs": [
    {
     "name": "stdout",
     "output_type": "stream",
     "text": [
      "pelvic_incidence            0\n",
      "pelvic_tilt numeric         0\n",
      "lumbar_lordosis_angle       0\n",
      "sacral_slope                0\n",
      "pelvic_radius               0\n",
      "degree_spondylolisthesis    0\n",
      "class                       0\n",
      "dtype: int64\n"
     ]
    }
   ],
   "source": [
    "print(df.isna().sum())"
   ]
  },
  {
   "cell_type": "code",
   "execution_count": 16,
   "metadata": {},
   "outputs": [
    {
     "data": {
      "text/html": [
       "<div>\n",
       "<style scoped>\n",
       "    .dataframe tbody tr th:only-of-type {\n",
       "        vertical-align: middle;\n",
       "    }\n",
       "\n",
       "    .dataframe tbody tr th {\n",
       "        vertical-align: top;\n",
       "    }\n",
       "\n",
       "    .dataframe thead th {\n",
       "        text-align: right;\n",
       "    }\n",
       "</style>\n",
       "<table border=\"1\" class=\"dataframe\">\n",
       "  <thead>\n",
       "    <tr style=\"text-align: right;\">\n",
       "      <th></th>\n",
       "      <th>pelvic_incidence</th>\n",
       "      <th>pelvic_tilt numeric</th>\n",
       "      <th>lumbar_lordosis_angle</th>\n",
       "      <th>sacral_slope</th>\n",
       "      <th>pelvic_radius</th>\n",
       "      <th>degree_spondylolisthesis</th>\n",
       "    </tr>\n",
       "    <tr>\n",
       "      <th>class</th>\n",
       "      <th></th>\n",
       "      <th></th>\n",
       "      <th></th>\n",
       "      <th></th>\n",
       "      <th></th>\n",
       "      <th></th>\n",
       "    </tr>\n",
       "  </thead>\n",
       "  <tbody>\n",
       "    <tr>\n",
       "      <th>Abnormal</th>\n",
       "      <td>210</td>\n",
       "      <td>210</td>\n",
       "      <td>210</td>\n",
       "      <td>210</td>\n",
       "      <td>210</td>\n",
       "      <td>210</td>\n",
       "    </tr>\n",
       "    <tr>\n",
       "      <th>Normal</th>\n",
       "      <td>100</td>\n",
       "      <td>100</td>\n",
       "      <td>100</td>\n",
       "      <td>100</td>\n",
       "      <td>100</td>\n",
       "      <td>100</td>\n",
       "    </tr>\n",
       "  </tbody>\n",
       "</table>\n",
       "</div>"
      ],
      "text/plain": [
       "          pelvic_incidence  pelvic_tilt numeric  lumbar_lordosis_angle  \\\n",
       "class                                                                    \n",
       "Abnormal               210                  210                    210   \n",
       "Normal                 100                  100                    100   \n",
       "\n",
       "          sacral_slope  pelvic_radius  degree_spondylolisthesis  \n",
       "class                                                            \n",
       "Abnormal           210            210                       210  \n",
       "Normal             100            100                       100  "
      ]
     },
     "execution_count": 16,
     "metadata": {},
     "output_type": "execute_result"
    }
   ],
   "source": [
    "df.groupby(['class']).count()"
   ]
  },
  {
   "cell_type": "code",
   "execution_count": 17,
   "metadata": {
    "colab": {},
    "colab_type": "code",
    "id": "sLTZiVDh37rq"
   },
   "outputs": [
    {
     "data": {
      "text/plain": [
       "<matplotlib.axes._subplots.AxesSubplot at 0x1a207f48d0>"
      ]
     },
     "execution_count": 17,
     "metadata": {},
     "output_type": "execute_result"
    },
    {
     "data": {
      "image/png": "[encoded data removed]",
      "text/plain": [
       "<Figure size 432x288 with 1 Axes>"
      ]
     },
     "metadata": {
      "needs_background": "light"
     },
     "output_type": "display_data"
    }
   ],
   "source": [
    "import seaborn as sns\n",
    "sns.scatterplot(x=df['sacral_slope'],y=df['pelvic_radius'],hue=df['class'])"
   ]
  },
  {
   "cell_type": "markdown",
   "metadata": {
    "colab_type": "text",
    "id": "SbD0YwYU37rt"
   },
   "source": [
    "# Encode the Class variable to integer."
   ]
  },
  {
   "cell_type": "code",
   "execution_count": 18,
   "metadata": {
    "colab": {},
    "colab_type": "code",
    "id": "NVDQZN-Y37ru"
   },
   "outputs": [],
   "source": [
    "a=df['class']"
   ]
  },
  {
   "cell_type": "code",
   "execution_count": 21,
   "metadata": {
    "colab": {},
    "colab_type": "code",
    "id": "Y6XHNLr937rw"
   },
   "outputs": [],
   "source": [
    "a= pd.get_dummies(a, drop_first=True)"
   ]
  },
  {
   "cell_type": "code",
   "execution_count": 23,
   "metadata": {
    "colab": {},
    "colab_type": "code",
    "id": "fhK4F8TW37rz"
   },
   "outputs": [
    {
     "name": "stdout",
     "output_type": "stream",
     "text": [
      "     pelvic_incidence  pelvic_tilt numeric  lumbar_lordosis_angle  \\\n",
      "0           63.027818            22.552586              39.609117   \n",
      "1           39.056951            10.060991              25.015378   \n",
      "2           68.832021            22.218482              50.092194   \n",
      "3           69.297008            24.652878              44.311238   \n",
      "4           49.712859             9.652075              28.317406   \n",
      "5           40.250200            13.921907              25.124950   \n",
      "6           53.432928            15.864336              37.165934   \n",
      "7           45.366754            10.755611              29.038349   \n",
      "8           43.790190            13.533753              42.690814   \n",
      "9           36.686353             5.010884              41.948751   \n",
      "10          49.706610            13.040974              31.334500   \n",
      "11          31.232387            17.715819              15.500000   \n",
      "12          48.915551            19.964556              40.263794   \n",
      "13          53.572170            20.460828              33.100000   \n",
      "14          57.300227            24.188885              47.000000   \n",
      "15          44.318907            12.537992              36.098763   \n",
      "16          63.834982            20.362507              54.552434   \n",
      "17          31.276012             3.144669              32.562996   \n",
      "18          38.697912            13.444749              31.000000   \n",
      "19          41.729963            12.254074              30.122586   \n",
      "20          43.922840            14.177959              37.832547   \n",
      "21          54.919443            21.062332              42.200000   \n",
      "22          63.073611            24.413803              54.000000   \n",
      "23          45.540790            13.069598              30.298321   \n",
      "24          36.125683            22.758753              29.000000   \n",
      "25          54.124920            26.650489              35.329747   \n",
      "26          26.147921            10.759454              14.000000   \n",
      "27          43.580964            16.508884              47.000000   \n",
      "28          44.551012            21.931147              26.785916   \n",
      "29          66.879211            24.891999              49.278597   \n",
      "..                ...                  ...                    ...   \n",
      "280         50.086153            13.430044              34.457541   \n",
      "281         64.261507            14.497866              43.902504   \n",
      "282         53.683380            13.447022              41.584297   \n",
      "283         48.995958            13.113820              51.873520   \n",
      "284         59.167612            14.562749              43.199158   \n",
      "285         67.804694            16.550662              43.256802   \n",
      "286         61.734875            17.114312              46.900000   \n",
      "287         33.041688            -0.324678              19.071075   \n",
      "288         74.565015            15.724320              58.618582   \n",
      "289         44.430701            14.174264              32.243495   \n",
      "290         36.422485            13.879424              20.242562   \n",
      "291         51.079833            14.209935              35.951229   \n",
      "292         34.756738             2.631740              29.504381   \n",
      "293         48.902904             5.587589              55.500000   \n",
      "294         46.236399            10.062770              37.000000   \n",
      "295         46.426366             6.620795              48.100000   \n",
      "296         39.656902            16.208839              36.674857   \n",
      "297         45.575482            18.759135              33.774143   \n",
      "298         66.507179            20.897672              31.727471   \n",
      "299         82.905351            29.894119              58.250542   \n",
      "300         50.676677             6.461501              35.000000   \n",
      "301         89.014875            26.075981              69.021259   \n",
      "302         54.600316            21.488974              29.360216   \n",
      "303         34.382299             2.062683              32.390820   \n",
      "304         45.075450            12.306951              44.583177   \n",
      "305         47.903565            13.616688              36.000000   \n",
      "306         53.936748            20.721496              29.220534   \n",
      "307         61.446597            22.694968              46.170347   \n",
      "308         45.252792             8.693157              41.583126   \n",
      "309         33.841641             5.073991              36.641233   \n",
      "\n",
      "     sacral_slope  pelvic_radius  degree_spondylolisthesis  class  \n",
      "0       40.475232      98.672917                 -0.254400      0  \n",
      "1       28.995960     114.405425                  4.564259      0  \n",
      "2       46.613539     105.985135                 -3.530317      0  \n",
      "3       44.644130     101.868495                 11.211523      0  \n",
      "4       40.060784     108.168725                  7.918501      0  \n",
      "5       26.328293     130.327871                  2.230652      0  \n",
      "6       37.568592     120.567523                  5.988551      0  \n",
      "7       34.611142     117.270068                -10.675871      0  \n",
      "8       30.256437     125.002893                 13.289018      0  \n",
      "9       31.675469      84.241415                  0.664437      0  \n",
      "10      36.665635     108.648265                 -7.825986      0  \n",
      "11      13.516568     120.055399                  0.499751      0  \n",
      "12      28.950995     119.321358                  8.028895      0  \n",
      "13      33.111342     110.966698                  7.044803      0  \n",
      "14      33.111342     116.806587                  5.766947      0  \n",
      "15      31.780915     124.115836                  5.415825      0  \n",
      "16      43.472475     112.309492                 -0.622527      0  \n",
      "17      28.131342     129.011418                  3.623020      0  \n",
      "18      25.253163     123.159251                  1.429186      0  \n",
      "19      29.475889     116.585706                 -1.244402      0  \n",
      "20      29.744881     134.461016                  6.451648      0  \n",
      "21      33.857110     125.212716                  2.432561      0  \n",
      "22      38.659808     106.424329                 15.779697      0  \n",
      "23      32.471192     117.980830                 -4.987130      0  \n",
      "24      13.366931     115.577116                 -3.237562      0  \n",
      "25      27.474432     121.447011                  1.571205      0  \n",
      "26      15.388468     125.203296                -10.093108      0  \n",
      "27      27.072080     109.271634                  8.992816      0  \n",
      "28      22.619865     111.072920                  2.652321      0  \n",
      "29      41.987212     113.477018                 -2.005892      0  \n",
      "..            ...            ...                       ...    ...  \n",
      "280     36.656108     119.134622                  3.089484      1  \n",
      "281     49.763642     115.388268                  5.951454      1  \n",
      "282     40.236358     113.913703                  2.737035      1  \n",
      "283     35.882137     126.398188                  0.535472      1  \n",
      "284     44.604863     121.035642                  2.830504      1  \n",
      "285     51.254033     119.685645                  4.867540      1  \n",
      "286     44.620563     120.920200                  3.087726      1  \n",
      "287     33.366366     120.388611                  9.354365      1  \n",
      "288     58.840695     105.417304                  0.599247      1  \n",
      "289     30.256437     131.717613                 -3.604255      1  \n",
      "290     22.543061     126.076861                  0.179717      1  \n",
      "291     36.869898     115.803711                  6.905090      1  \n",
      "292     32.124998     127.139850                 -0.460894      1  \n",
      "293     43.315316     137.108289                 19.854759      1  \n",
      "294     36.173629     128.063620                 -5.100053      1  \n",
      "295     39.805571     130.350096                  2.449382      1  \n",
      "296     23.448063     131.922009                 -4.968980      1  \n",
      "297     26.816347     116.797007                  3.131910      1  \n",
      "298     45.609507     128.902905                  1.517203      1  \n",
      "299     53.011232     110.708958                  6.079338      1  \n",
      "300     44.215175     116.587970                 -0.214711      1  \n",
      "301     62.938894     111.481075                  6.061508      1  \n",
      "302     33.111342     118.343321                 -1.471067      1  \n",
      "303     32.319617     128.300199                 -3.365516      1  \n",
      "304     32.768499     147.894637                 -8.941709      1  \n",
      "305     34.286877     117.449062                 -4.245395      1  \n",
      "306     33.215251     114.365845                 -0.421010      1  \n",
      "307     38.751628     125.670725                 -2.707880      1  \n",
      "308     36.559635     118.545842                  0.214750      1  \n",
      "309     28.767649     123.945244                 -0.199249      1  \n",
      "\n",
      "[310 rows x 7 columns]\n"
     ]
    }
   ],
   "source": [
    "df['class']=a\n",
    "print(df)"
   ]
  },
  {
   "cell_type": "markdown",
   "metadata": {
    "_uuid": "b232c9d469373b555c06dc95e35c83c3aee67a4f",
    "colab_type": "text",
    "id": "Sw7qjm5x37r2"
   },
   "source": [
    "# Create the X(Feature-set) and Y(Target-set) sets for your Data."
   ]
  },
  {
   "cell_type": "code",
   "execution_count": 24,
   "metadata": {
    "colab": {},
    "colab_type": "code",
    "id": "RkfUlQg637r3"
   },
   "outputs": [],
   "source": [
    "X = df.drop(labels= 'class' , axis = 1)"
   ]
  },
  {
   "cell_type": "code",
   "execution_count": 25,
   "metadata": {
    "colab": {},
    "colab_type": "code",
    "id": "UvIQRHbV37r6"
   },
   "outputs": [],
   "source": [
    "Y = df[['class']]"
   ]
  },
  {
   "cell_type": "markdown",
   "metadata": {
    "colab_type": "text",
    "id": "zRaflJ3k37r-"
   },
   "source": [
    "# Normalize your Data (X) to get values between 0 to 1."
   ]
  },
  {
   "cell_type": "code",
   "execution_count": 26,
   "metadata": {
    "colab": {},
    "colab_type": "code",
    "id": "IIXs9mbe37r-"
   },
   "outputs": [],
   "source": [
    "x=X.values\n",
    "scale=MinMaxScaler()\n",
    "x_norm=scale.fit_transform(x)"
   ]
  },
  {
   "cell_type": "code",
   "execution_count": 27,
   "metadata": {
    "colab": {},
    "colab_type": "code",
    "id": "eGeTWwrh37sB"
   },
   "outputs": [],
   "source": [
    "X=pd.DataFrame(x_norm)\n",
    "X.columns=['pelvic_incidence','pelvic_tilt numeric','lumbar_lordosis_angle','sacral_slope','pelvic_radius','degree_spondylolisthesis']"
   ]
  },
  {
   "cell_type": "markdown",
   "metadata": {
    "_uuid": "92312942664a740d971f8f4aa30f2485ee58826a",
    "colab_type": "text",
    "id": "4AyLHTZH37sD"
   },
   "source": [
    "# Split the dat as train and test with a ratio of 70:30."
   ]
  },
  {
   "cell_type": "code",
   "execution_count": 28,
   "metadata": {
    "colab": {},
    "colab_type": "code",
    "id": "7c3lK96D37sE"
   },
   "outputs": [],
   "source": [
    "test_size = 0.30 \n",
    "seed = 7 "
   ]
  },
  {
   "cell_type": "code",
   "execution_count": 29,
   "metadata": {
    "colab": {},
    "colab_type": "code",
    "id": "CZ2wQ7pu37sH"
   },
   "outputs": [],
   "source": [
    "X_train, X_test, Y_train, Y_test = train_test_split(X, Y, test_size=test_size, random_state=seed)"
   ]
  },
  {
   "cell_type": "markdown",
   "metadata": {
    "_uuid": "82a731c032b33691506467a242e3ceb8a1d29799",
    "colab_type": "text",
    "id": "v1490fyH37sJ"
   },
   "source": [
    "# Build the KNN model using Train Dataset and predict the class on test dataset."
   ]
  },
  {
   "cell_type": "code",
   "execution_count": 30,
   "metadata": {
    "colab": {},
    "colab_type": "code",
    "id": "dyHtQvLR37sK"
   },
   "outputs": [],
   "source": [
    "knn = KNeighborsClassifier(n_neighbors= 7)"
   ]
  },
  {
   "cell_type": "code",
   "execution_count": 31,
   "metadata": {
    "colab": {},
    "colab_type": "code",
    "id": "sip0VqNF37sM"
   },
   "outputs": [
    {
     "name": "stderr",
     "output_type": "stream",
     "text": [
      "/Users/bharath/anaconda3/lib/python3.7/site-packages/ipykernel_launcher.py:1: DataConversionWarning: A column-vector y was passed when a 1d array was expected. Please change the shape of y to (n_samples, ), for example using ravel().\n",
      "  \"\"\"Entry point for launching an IPython kernel.\n"
     ]
    },
    {
     "data": {
      "text/plain": [
       "KNeighborsClassifier(algorithm='auto', leaf_size=30, metric='minkowski',\n",
       "           metric_params=None, n_jobs=None, n_neighbors=7, p=2,\n",
       "           weights='uniform')"
      ]
     },
     "execution_count": 31,
     "metadata": {},
     "output_type": "execute_result"
    }
   ],
   "source": [
    "knn.fit(X_train, Y_train)"
   ]
  },
  {
   "cell_type": "markdown",
   "metadata": {
    "colab_type": "text",
    "id": "Pq5PhlZb37sO"
   },
   "source": [
    "# Calculate the performance score of of your classification on test dataset.\n",
    "Hint- You can use knn.score( ) function."
   ]
  },
  {
   "cell_type": "code",
   "execution_count": 32,
   "metadata": {
    "colab": {},
    "colab_type": "code",
    "id": "rnlVqgbP37sP"
   },
   "outputs": [
    {
     "data": {
      "text/plain": [
       "0.8172043010752689"
      ]
     },
     "execution_count": 32,
     "metadata": {},
     "output_type": "execute_result"
    }
   ],
   "source": [
    "knn.score(X_test, Y_test)"
   ]
  },
  {
   "cell_type": "markdown",
   "metadata": {
    "colab_type": "text",
    "id": "N2kyeRqk37sX"
   },
   "source": [
    "# What is the best K value for your classifcation?\n",
    "#Find at which k value you get the best score."
   ]
  },
  {
   "cell_type": "code",
   "execution_count": 33,
   "metadata": {
    "colab": {},
    "colab_type": "code",
    "id": "nmsOTGp-37sa"
   },
   "outputs": [],
   "source": [
    "accuracy=[]"
   ]
  },
  {
   "cell_type": "code",
   "execution_count": 34,
   "metadata": {
    "colab": {},
    "colab_type": "code",
    "id": "iglB-Bmy37sf"
   },
   "outputs": [
    {
     "name": "stdout",
     "output_type": "stream",
     "text": [
      "[0.7741935483870968, 0.7526881720430108, 0.7634408602150538, 0.8172043010752689, 0.8064516129032258, 0.8172043010752689, 0.8172043010752689, 0.8064516129032258, 0.7956989247311828, 0.7956989247311828]\n"
     ]
    },
    {
     "name": "stderr",
     "output_type": "stream",
     "text": [
      "/Users/bharath/anaconda3/lib/python3.7/site-packages/ipykernel_launcher.py:3: DataConversionWarning: A column-vector y was passed when a 1d array was expected. Please change the shape of y to (n_samples, ), for example using ravel().\n",
      "  This is separate from the ipykernel package so we can avoid doing imports until\n",
      "/Users/bharath/anaconda3/lib/python3.7/site-packages/ipykernel_launcher.py:3: DataConversionWarning: A column-vector y was passed when a 1d array was expected. Please change the shape of y to (n_samples, ), for example using ravel().\n",
      "  This is separate from the ipykernel package so we can avoid doing imports until\n",
      "/Users/bharath/anaconda3/lib/python3.7/site-packages/ipykernel_launcher.py:3: DataConversionWarning: A column-vector y was passed when a 1d array was expected. Please change the shape of y to (n_samples, ), for example using ravel().\n",
      "  This is separate from the ipykernel package so we can avoid doing imports until\n",
      "/Users/bharath/anaconda3/lib/python3.7/site-packages/ipykernel_launcher.py:3: DataConversionWarning: A column-vector y was passed when a 1d array was expected. Please change the shape of y to (n_samples, ), for example using ravel().\n",
      "  This is separate from the ipykernel package so we can avoid doing imports until\n",
      "/Users/bharath/anaconda3/lib/python3.7/site-packages/ipykernel_launcher.py:3: DataConversionWarning: A column-vector y was passed when a 1d array was expected. Please change the shape of y to (n_samples, ), for example using ravel().\n",
      "  This is separate from the ipykernel package so we can avoid doing imports until\n",
      "/Users/bharath/anaconda3/lib/python3.7/site-packages/ipykernel_launcher.py:3: DataConversionWarning: A column-vector y was passed when a 1d array was expected. Please change the shape of y to (n_samples, ), for example using ravel().\n",
      "  This is separate from the ipykernel package so we can avoid doing imports until\n",
      "/Users/bharath/anaconda3/lib/python3.7/site-packages/ipykernel_launcher.py:3: DataConversionWarning: A column-vector y was passed when a 1d array was expected. Please change the shape of y to (n_samples, ), for example using ravel().\n",
      "  This is separate from the ipykernel package so we can avoid doing imports until\n",
      "/Users/bharath/anaconda3/lib/python3.7/site-packages/ipykernel_launcher.py:3: DataConversionWarning: A column-vector y was passed when a 1d array was expected. Please change the shape of y to (n_samples, ), for example using ravel().\n",
      "  This is separate from the ipykernel package so we can avoid doing imports until\n",
      "/Users/bharath/anaconda3/lib/python3.7/site-packages/ipykernel_launcher.py:3: DataConversionWarning: A column-vector y was passed when a 1d array was expected. Please change the shape of y to (n_samples, ), for example using ravel().\n",
      "  This is separate from the ipykernel package so we can avoid doing imports until\n",
      "/Users/bharath/anaconda3/lib/python3.7/site-packages/ipykernel_launcher.py:3: DataConversionWarning: A column-vector y was passed when a 1d array was expected. Please change the shape of y to (n_samples, ), for example using ravel().\n",
      "  This is separate from the ipykernel package so we can avoid doing imports until\n"
     ]
    }
   ],
   "source": [
    "for k in np.arange(1,21,2):\n",
    "    knn = KNeighborsClassifier(k)\n",
    "    knn.fit(X_train,Y_train)\n",
    "    ypred = knn.predict(X_test)\n",
    "    accuracy.append(accuracy_score(Y_test, ypred))\n",
    "print(accuracy)"
   ]
  },
  {
   "cell_type": "code",
   "execution_count": 36,
   "metadata": {
    "colab": {},
    "colab_type": "code",
    "id": "TdQu97l437sj"
   },
   "outputs": [
    {
     "name": "stdout",
     "output_type": "stream",
     "text": [
      "so the optimal k value is \n",
      "K           7.000000\n",
      "Accuracy    0.817204\n",
      "Name: 3, dtype: float64\n"
     ]
    }
   ],
   "source": [
    "optimal=pd.DataFrame({'K':np.arange(1,21,2), 'Accuracy':accuracy})\n",
    "print('so the optimal k value is ')\n",
    "print(optimal.loc[optimal['Accuracy'].idxmax()])"
   ]
  },
  {
   "cell_type": "markdown",
   "metadata": {
    "colab_type": "text",
    "id": "F4cqH9Jr37sm"
   },
   "source": [
    "# import data 3C_weka.csv for 3 Class Classifcation and repeat all the steps which are given above."
   ]
  },
  {
   "cell_type": "code",
   "execution_count": 37,
   "metadata": {
    "colab": {},
    "colab_type": "code",
    "id": "kvLjUl4x37sn"
   },
   "outputs": [],
   "source": [
    "df1 = pd.read_csv(\"3Classdata.csv\")"
   ]
  },
  {
   "cell_type": "code",
   "execution_count": 38,
   "metadata": {},
   "outputs": [
    {
     "name": "stdout",
     "output_type": "stream",
     "text": [
      "   pelvic_incidence  pelvic_tilt  lumbar_lordosis_angle  sacral_slope  \\\n",
      "0         63.027818    22.552586              39.609117     40.475232   \n",
      "1         39.056951    10.060991              25.015378     28.995960   \n",
      "2         68.832021    22.218482              50.092194     46.613539   \n",
      "3         69.297008    24.652878              44.311238     44.644130   \n",
      "4         49.712859     9.652075              28.317406     40.060784   \n",
      "\n",
      "   pelvic_radius  degree_spondylolisthesis   class  \n",
      "0      98.672917                 -0.254400  Hernia  \n",
      "1     114.405425                  4.564259  Hernia  \n",
      "2     105.985135                 -3.530317  Hernia  \n",
      "3     101.868495                 11.211523  Hernia  \n",
      "4     108.168725                  7.918501  Hernia  \n",
      "     pelvic_incidence  pelvic_tilt  lumbar_lordosis_angle  sacral_slope  \\\n",
      "305         47.903565    13.616688              36.000000     34.286877   \n",
      "306         53.936748    20.721496              29.220534     33.215251   \n",
      "307         61.446597    22.694968              46.170347     38.751628   \n",
      "308         45.252792     8.693157              41.583126     36.559635   \n",
      "309         33.841641     5.073991              36.641233     28.767649   \n",
      "\n",
      "     pelvic_radius  degree_spondylolisthesis   class  \n",
      "305     117.449062                 -4.245395  Normal  \n",
      "306     114.365845                 -0.421010  Normal  \n",
      "307     125.670725                 -2.707880  Normal  \n",
      "308     118.545842                  0.214750  Normal  \n",
      "309     123.945244                 -0.199249  Normal  \n"
     ]
    }
   ],
   "source": [
    "print(df1.head())\n",
    "print(df1.tail())"
   ]
  },
  {
   "cell_type": "code",
   "execution_count": 39,
   "metadata": {},
   "outputs": [
    {
     "name": "stdout",
     "output_type": "stream",
     "text": [
      "pelvic_incidence            0\n",
      "pelvic_tilt                 0\n",
      "lumbar_lordosis_angle       0\n",
      "sacral_slope                0\n",
      "pelvic_radius               0\n",
      "degree_spondylolisthesis    0\n",
      "class                       0\n",
      "dtype: int64\n"
     ]
    }
   ],
   "source": [
    "print(df1.isna().sum())"
   ]
  },
  {
   "cell_type": "code",
   "execution_count": 40,
   "metadata": {},
   "outputs": [
    {
     "data": {
      "text/html": [
       "<div>\n",
       "<style scoped>\n",
       "    .dataframe tbody tr th:only-of-type {\n",
       "        vertical-align: middle;\n",
       "    }\n",
       "\n",
       "    .dataframe tbody tr th {\n",
       "        vertical-align: top;\n",
       "    }\n",
       "\n",
       "    .dataframe thead th {\n",
       "        text-align: right;\n",
       "    }\n",
       "</style>\n",
       "<table border=\"1\" class=\"dataframe\">\n",
       "  <thead>\n",
       "    <tr style=\"text-align: right;\">\n",
       "      <th></th>\n",
       "      <th>pelvic_incidence</th>\n",
       "      <th>pelvic_tilt</th>\n",
       "      <th>lumbar_lordosis_angle</th>\n",
       "      <th>sacral_slope</th>\n",
       "      <th>pelvic_radius</th>\n",
       "      <th>degree_spondylolisthesis</th>\n",
       "    </tr>\n",
       "    <tr>\n",
       "      <th>class</th>\n",
       "      <th></th>\n",
       "      <th></th>\n",
       "      <th></th>\n",
       "      <th></th>\n",
       "      <th></th>\n",
       "      <th></th>\n",
       "    </tr>\n",
       "  </thead>\n",
       "  <tbody>\n",
       "    <tr>\n",
       "      <th>Hernia</th>\n",
       "      <td>60</td>\n",
       "      <td>60</td>\n",
       "      <td>60</td>\n",
       "      <td>60</td>\n",
       "      <td>60</td>\n",
       "      <td>60</td>\n",
       "    </tr>\n",
       "    <tr>\n",
       "      <th>Normal</th>\n",
       "      <td>100</td>\n",
       "      <td>100</td>\n",
       "      <td>100</td>\n",
       "      <td>100</td>\n",
       "      <td>100</td>\n",
       "      <td>100</td>\n",
       "    </tr>\n",
       "    <tr>\n",
       "      <th>Spondylolisthesis</th>\n",
       "      <td>150</td>\n",
       "      <td>150</td>\n",
       "      <td>150</td>\n",
       "      <td>150</td>\n",
       "      <td>150</td>\n",
       "      <td>150</td>\n",
       "    </tr>\n",
       "  </tbody>\n",
       "</table>\n",
       "</div>"
      ],
      "text/plain": [
       "                   pelvic_incidence  pelvic_tilt  lumbar_lordosis_angle  \\\n",
       "class                                                                     \n",
       "Hernia                           60           60                     60   \n",
       "Normal                          100          100                    100   \n",
       "Spondylolisthesis               150          150                    150   \n",
       "\n",
       "                   sacral_slope  pelvic_radius  degree_spondylolisthesis  \n",
       "class                                                                     \n",
       "Hernia                       60             60                        60  \n",
       "Normal                      100            100                       100  \n",
       "Spondylolisthesis           150            150                       150  "
      ]
     },
     "execution_count": 40,
     "metadata": {},
     "output_type": "execute_result"
    }
   ],
   "source": [
    "df1.groupby(['class']).count()"
   ]
  },
  {
   "cell_type": "code",
   "execution_count": 41,
   "metadata": {},
   "outputs": [
    {
     "data": {
      "text/plain": [
       "<matplotlib.axes._subplots.AxesSubplot at 0x10d673898>"
      ]
     },
     "execution_count": 41,
     "metadata": {},
     "output_type": "execute_result"
    },
    {
     "data": {
      "image/png": "[encoded data removed]",
      "text/plain": [
       "<Figure size 432x288 with 1 Axes>"
      ]
     },
     "metadata": {
      "needs_background": "light"
     },
     "output_type": "display_data"
    }
   ],
   "source": [
    "import seaborn as sns\n",
    "sns.scatterplot(x=df1['sacral_slope'],y=df1['pelvic_radius'],hue=df1['class'])"
   ]
  },
  {
   "cell_type": "code",
   "execution_count": 42,
   "metadata": {},
   "outputs": [],
   "source": [
    "mask = df1.dtypes==object\n",
    "cols = df1.columns[mask].tolist()\n",
    "le = LabelEncoder()\n",
    "df1[cols] = df1[cols].apply(lambda col: le.fit_transform(col))"
   ]
  },
  {
   "cell_type": "code",
   "execution_count": 43,
   "metadata": {},
   "outputs": [],
   "source": [
    "X1 = df1.drop(labels= 'class' , axis = 1)\n",
    "Y1 = df1[['class']]"
   ]
  },
  {
   "cell_type": "code",
   "execution_count": 44,
   "metadata": {},
   "outputs": [],
   "source": [
    "x1=X1.values\n",
    "scale=MinMaxScaler()\n",
    "x1_norm=scale.fit_transform(x1)\n",
    "X1=pd.DataFrame(x1_norm)\n",
    "X1.columns=['pelvic_incidence','pelvic_tilt','lumbar_lordosis_angle','sacral_slope','pelvic_radius','degree_spondylolisthesis']"
   ]
  },
  {
   "cell_type": "code",
   "execution_count": 45,
   "metadata": {},
   "outputs": [
    {
     "name": "stderr",
     "output_type": "stream",
     "text": [
      "/Users/bharath/anaconda3/lib/python3.7/site-packages/ipykernel_launcher.py:5: DataConversionWarning: A column-vector y was passed when a 1d array was expected. Please change the shape of y to (n_samples, ), for example using ravel().\n",
      "  \"\"\"\n"
     ]
    },
    {
     "data": {
      "text/plain": [
       "0.8064516129032258"
      ]
     },
     "execution_count": 45,
     "metadata": {},
     "output_type": "execute_result"
    }
   ],
   "source": [
    "test_size = 0.30 \n",
    "seed = 9 \n",
    "X1_train, X1_test, Y1_train, Y1_test = train_test_split(X1, Y1, test_size=test_size, random_state=seed)\n",
    "knn1 = KNeighborsClassifier(n_neighbors= 39)\n",
    "knn1.fit(X1_train, Y1_train)\n",
    "knn1.score(X1_test, Y1_test)"
   ]
  },
  {
   "cell_type": "code",
   "execution_count": 46,
   "metadata": {},
   "outputs": [
    {
     "name": "stdout",
     "output_type": "stream",
     "text": [
      "[0.7634408602150538, 0.7419354838709677, 0.7096774193548387, 0.7311827956989247, 0.7419354838709677, 0.7849462365591398, 0.7956989247311828, 0.7741935483870968, 0.7634408602150538, 0.7526881720430108, 0.7526881720430108, 0.7419354838709677, 0.7419354838709677, 0.7526881720430108, 0.7849462365591398, 0.7741935483870968, 0.7849462365591398, 0.7956989247311828, 0.7741935483870968, 0.8064516129032258]\n",
      "so the optimal k value is \n",
      "K           39.000000\n",
      "Accuracy     0.806452\n",
      "Name: 19, dtype: float64\n"
     ]
    },
    {
     "name": "stderr",
     "output_type": "stream",
     "text": [
      "/Users/bharath/anaconda3/lib/python3.7/site-packages/ipykernel_launcher.py:4: DataConversionWarning: A column-vector y was passed when a 1d array was expected. Please change the shape of y to (n_samples, ), for example using ravel().\n",
      "  after removing the cwd from sys.path.\n",
      "/Users/bharath/anaconda3/lib/python3.7/site-packages/ipykernel_launcher.py:4: DataConversionWarning: A column-vector y was passed when a 1d array was expected. Please change the shape of y to (n_samples, ), for example using ravel().\n",
      "  after removing the cwd from sys.path.\n",
      "/Users/bharath/anaconda3/lib/python3.7/site-packages/ipykernel_launcher.py:4: DataConversionWarning: A column-vector y was passed when a 1d array was expected. Please change the shape of y to (n_samples, ), for example using ravel().\n",
      "  after removing the cwd from sys.path.\n",
      "/Users/bharath/anaconda3/lib/python3.7/site-packages/ipykernel_launcher.py:4: DataConversionWarning: A column-vector y was passed when a 1d array was expected. Please change the shape of y to (n_samples, ), for example using ravel().\n",
      "  after removing the cwd from sys.path.\n",
      "/Users/bharath/anaconda3/lib/python3.7/site-packages/ipykernel_launcher.py:4: DataConversionWarning: A column-vector y was passed when a 1d array was expected. Please change the shape of y to (n_samples, ), for example using ravel().\n",
      "  after removing the cwd from sys.path.\n",
      "/Users/bharath/anaconda3/lib/python3.7/site-packages/ipykernel_launcher.py:4: DataConversionWarning: A column-vector y was passed when a 1d array was expected. Please change the shape of y to (n_samples, ), for example using ravel().\n",
      "  after removing the cwd from sys.path.\n",
      "/Users/bharath/anaconda3/lib/python3.7/site-packages/ipykernel_launcher.py:4: DataConversionWarning: A column-vector y was passed when a 1d array was expected. Please change the shape of y to (n_samples, ), for example using ravel().\n",
      "  after removing the cwd from sys.path.\n",
      "/Users/bharath/anaconda3/lib/python3.7/site-packages/ipykernel_launcher.py:4: DataConversionWarning: A column-vector y was passed when a 1d array was expected. Please change the shape of y to (n_samples, ), for example using ravel().\n",
      "  after removing the cwd from sys.path.\n",
      "/Users/bharath/anaconda3/lib/python3.7/site-packages/ipykernel_launcher.py:4: DataConversionWarning: A column-vector y was passed when a 1d array was expected. Please change the shape of y to (n_samples, ), for example using ravel().\n",
      "  after removing the cwd from sys.path.\n",
      "/Users/bharath/anaconda3/lib/python3.7/site-packages/ipykernel_launcher.py:4: DataConversionWarning: A column-vector y was passed when a 1d array was expected. Please change the shape of y to (n_samples, ), for example using ravel().\n",
      "  after removing the cwd from sys.path.\n",
      "/Users/bharath/anaconda3/lib/python3.7/site-packages/ipykernel_launcher.py:4: DataConversionWarning: A column-vector y was passed when a 1d array was expected. Please change the shape of y to (n_samples, ), for example using ravel().\n",
      "  after removing the cwd from sys.path.\n",
      "/Users/bharath/anaconda3/lib/python3.7/site-packages/ipykernel_launcher.py:4: DataConversionWarning: A column-vector y was passed when a 1d array was expected. Please change the shape of y to (n_samples, ), for example using ravel().\n",
      "  after removing the cwd from sys.path.\n",
      "/Users/bharath/anaconda3/lib/python3.7/site-packages/ipykernel_launcher.py:4: DataConversionWarning: A column-vector y was passed when a 1d array was expected. Please change the shape of y to (n_samples, ), for example using ravel().\n",
      "  after removing the cwd from sys.path.\n",
      "/Users/bharath/anaconda3/lib/python3.7/site-packages/ipykernel_launcher.py:4: DataConversionWarning: A column-vector y was passed when a 1d array was expected. Please change the shape of y to (n_samples, ), for example using ravel().\n",
      "  after removing the cwd from sys.path.\n",
      "/Users/bharath/anaconda3/lib/python3.7/site-packages/ipykernel_launcher.py:4: DataConversionWarning: A column-vector y was passed when a 1d array was expected. Please change the shape of y to (n_samples, ), for example using ravel().\n",
      "  after removing the cwd from sys.path.\n",
      "/Users/bharath/anaconda3/lib/python3.7/site-packages/ipykernel_launcher.py:4: DataConversionWarning: A column-vector y was passed when a 1d array was expected. Please change the shape of y to (n_samples, ), for example using ravel().\n",
      "  after removing the cwd from sys.path.\n",
      "/Users/bharath/anaconda3/lib/python3.7/site-packages/ipykernel_launcher.py:4: DataConversionWarning: A column-vector y was passed when a 1d array was expected. Please change the shape of y to (n_samples, ), for example using ravel().\n",
      "  after removing the cwd from sys.path.\n",
      "/Users/bharath/anaconda3/lib/python3.7/site-packages/ipykernel_launcher.py:4: DataConversionWarning: A column-vector y was passed when a 1d array was expected. Please change the shape of y to (n_samples, ), for example using ravel().\n",
      "  after removing the cwd from sys.path.\n",
      "/Users/bharath/anaconda3/lib/python3.7/site-packages/ipykernel_launcher.py:4: DataConversionWarning: A column-vector y was passed when a 1d array was expected. Please change the shape of y to (n_samples, ), for example using ravel().\n",
      "  after removing the cwd from sys.path.\n",
      "/Users/bharath/anaconda3/lib/python3.7/site-packages/ipykernel_launcher.py:4: DataConversionWarning: A column-vector y was passed when a 1d array was expected. Please change the shape of y to (n_samples, ), for example using ravel().\n",
      "  after removing the cwd from sys.path.\n"
     ]
    }
   ],
   "source": [
    "acc=[]\n",
    "for k in np.arange(1,40,2):\n",
    "    knn = KNeighborsClassifier(k)\n",
    "    knn.fit(X1_train,Y1_train)\n",
    "    y1pred = knn.predict(X1_test)\n",
    "    acc.append(accuracy_score(Y1_test, y1pred))\n",
    "print(acc)\n",
    "optimal=pd.DataFrame({'K':np.arange(1,40,2), 'Accuracy':acc})\n",
    "print('so the optimal k value is ')\n",
    "print(optimal.loc[optimal['Accuracy'].idxmax()])"
   ]
  }
 ],
 "metadata": {
  "colab": {
   "name": "Project - kNN- Patient type Classification.ipynb",
   "provenance": [],
   "version": "0.3.2"
  },
  "kernelspec": {
   "display_name": "Python 3",
   "language": "python",
   "name": "python3"
  },
  "language_info": {
   "codemirror_mode": {
    "name": "ipython",
    "version": 3
   },
   "file_extension": ".py",
   "mimetype": "text/x-python",
   "name": "python",
   "nbconvert_exporter": "python",
   "pygments_lexer": "ipython3",
   "version": "3.7.3"
  }
 },
 "nbformat": 4,
 "nbformat_minor": 1
}
