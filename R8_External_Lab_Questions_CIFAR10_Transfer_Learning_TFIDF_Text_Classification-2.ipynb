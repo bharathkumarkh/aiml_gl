{
  "nbformat": 4,
  "nbformat_minor": 0,
  "metadata": {
    "colab": {
      "name": "R8_External_Lab_Questions_CIFAR10_Transfer_Learning_TFIDF_Text_Classification.ipynb",
      "provenance": [],
      "collapsed_sections": []
    },
    "kernelspec": {
      "name": "python3",
      "display_name": "Python 3"
    }
  },
  "cells": [
    {
      "cell_type": "markdown",
      "metadata": {
        "id": "QGIsF1ADyJ58",
        "colab_type": "text"
      },
      "source": [
        "# Transfer Learning CIFAR10"
      ]
    },
    {
      "cell_type": "markdown",
      "metadata": {
        "id": "E-n6tVFayGBe",
        "colab_type": "text"
      },
      "source": [
        "* Train a simple convnet on the CIFAR dataset the first 5 output classes [0..4].\n",
        "* Freeze convolutional layers and fine-tune dense layers for the last 5 ouput classes [5..9].\n"
      ]
    },
    {
      "cell_type": "markdown",
      "metadata": {
        "id": "Cq8ejXHJyGYq",
        "colab_type": "text"
      },
      "source": [
        "### 1. Import CIFAR10 data and create 2 datasets with one dataset having classes from 0 to 4 and other having classes from 5 to 9 "
      ]
    },
    {
      "cell_type": "code",
      "metadata": {
        "id": "uWYbxnBayFUP",
        "colab_type": "code",
        "colab": {
          "base_uri": "https://localhost:8080/",
          "height": 80
        },
        "outputId": "213ca46e-0b7f-4cb3-fca6-ed6a1395956a"
      },
      "source": [
        "from keras.datasets import cifar10\n",
        "(X_train, y_train), (X_test, y_test) = cifar10.load_data()"
      ],
      "execution_count": 1,
      "outputs": [
        {
          "output_type": "stream",
          "text": [
            "Using TensorFlow backend.\n"
          ],
          "name": "stderr"
        },
        {
          "output_type": "display_data",
          "data": {
            "text/html": [
              "<p style=\"color: red;\">\n",
              "The default version of TensorFlow in Colab will soon switch to TensorFlow 2.x.<br>\n",
              "We recommend you <a href=\"https://www.tensorflow.org/guide/migrate\" target=\"_blank\">upgrade</a> now \n",
              "or ensure your notebook will continue to use TensorFlow 1.x via the <code>%tensorflow_version 1.x</code> magic:\n",
              "<a href=\"https://colab.research.google.com/notebooks/tensorflow_version.ipynb\" target=\"_blank\">more info</a>.</p>\n"
            ],
            "text/plain": [
              "<IPython.core.display.HTML object>"
            ]
          },
          "metadata": {
            "tags": []
          }
        }
      ]
    },
    {
      "cell_type": "code",
      "metadata": {
        "id": "ViLb-YuM1S8V",
        "colab_type": "code",
        "colab": {}
      },
      "source": [
        "import numpy as np\n",
        "\n",
        "y_train_new = []\n",
        "y_test_new = []\n",
        "\n",
        "for i in y_train:\n",
        "  y_train_new.append(i[0])\n",
        "\n",
        "for i in y_test:\n",
        "  y_test_new.append(i[0])\n",
        "\n",
        "y_train=np.array(y_train_new)\n",
        "y_test=np.array(y_test_new)"
      ],
      "execution_count": 0,
      "outputs": []
    },
    {
      "cell_type": "code",
      "metadata": {
        "id": "dmL5znwb05r8",
        "colab_type": "code",
        "colab": {}
      },
      "source": [
        "X_first_train=X_train[y_train<5]\n",
        "X_first_test=X_test[y_test<5]\n",
        "y_first_train=y_train[y_train<5]\n",
        "y_first_test=y_test[y_test<5]\n",
        "X_second_train=X_train[y_train>=5]\n",
        "X_second_test=X_test[y_test>=5]\n",
        "y_second_train=y_train[y_train>=5]\n",
        "y_second_test=y_test[y_test>=5]"
      ],
      "execution_count": 0,
      "outputs": []
    },
    {
      "cell_type": "code",
      "metadata": {
        "id": "4fkx_dJZ8Ytw",
        "colab_type": "code",
        "colab": {
          "base_uri": "https://localhost:8080/",
          "height": 85
        },
        "outputId": "58b233a9-c6f7-4cec-dffc-b08ec63f10e4"
      },
      "source": [
        "print(np.unique(y_first_train))\n",
        "print(np.unique(y_first_test))\n",
        "print(np.unique(y_second_train))\n",
        "print(np.unique(y_second_test))"
      ],
      "execution_count": 4,
      "outputs": [
        {
          "output_type": "stream",
          "text": [
            "[0 1 2 3 4]\n",
            "[0 1 2 3 4]\n",
            "[5 6 7 8 9]\n",
            "[5 6 7 8 9]\n"
          ],
          "name": "stdout"
        }
      ]
    },
    {
      "cell_type": "markdown",
      "metadata": {
        "id": "xtCKmQh4yXhT",
        "colab_type": "text"
      },
      "source": [
        "### 2. Use One-hot encoding to divide y_train and y_test into required no of output classes"
      ]
    },
    {
      "cell_type": "code",
      "metadata": {
        "id": "uN5O2kJ3yYa6",
        "colab_type": "code",
        "colab": {
          "base_uri": "https://localhost:8080/",
          "height": 51
        },
        "outputId": "ec5d9f95-444f-404f-c03d-188fd7187be4"
      },
      "source": [
        "from  keras.utils import np_utils\n",
        "y_first_train = np_utils.to_categorical(y_first_train,5)\n",
        "y_first_test= np_utils.to_categorical(y_first_test,5)\n",
        "print(y_first_train[0])\n",
        "print(y_first_test[0])"
      ],
      "execution_count": 5,
      "outputs": [
        {
          "output_type": "stream",
          "text": [
            "[0. 0. 0. 0. 1.]\n",
            "[0. 0. 0. 1. 0.]\n"
          ],
          "name": "stdout"
        }
      ]
    },
    {
      "cell_type": "code",
      "metadata": {
        "id": "7HWTYFjC83a7",
        "colab_type": "code",
        "colab": {
          "base_uri": "https://localhost:8080/",
          "height": 51
        },
        "outputId": "1ff6b97a-7ae6-4aa3-8f07-303498cc2e33"
      },
      "source": [
        "X_first_train= X_first_train.reshape(-1,32,32,3)\n",
        "X_first_test= X_first_test.reshape(-1,32,32,3)\n",
        "print (X_first_train.shape)\n",
        "print (X_first_test.shape)\n",
        "X_first_train= X_first_train.astype('float32')\n",
        "X_first_test= X_first_test.astype('float32')\n",
        "X_norm_first_train=X_first_train/255\n",
        "X_norm_first_test=X_first_test/255"
      ],
      "execution_count": 6,
      "outputs": [
        {
          "output_type": "stream",
          "text": [
            "(25000, 32, 32, 3)\n",
            "(5000, 32, 32, 3)\n"
          ],
          "name": "stdout"
        }
      ]
    },
    {
      "cell_type": "markdown",
      "metadata": {
        "id": "cuOiKWfeybAl",
        "colab_type": "text"
      },
      "source": [
        "### 3. Build a sequential neural network model which can classify the classes 0 to 4 of CIFAR10 dataset with at least 80% accuracy on test data"
      ]
    },
    {
      "cell_type": "code",
      "metadata": {
        "id": "5HzxNbiiyoBD",
        "colab_type": "code",
        "colab": {
          "base_uri": "https://localhost:8080/",
          "height": 768
        },
        "outputId": "3f7f0f2a-e81e-4d86-f0f5-6f2d5e7094ff"
      },
      "source": [
        "from keras.models import Sequential\n",
        "from keras.layers import LeakyReLU\n",
        "\n",
        "\n",
        "classifier = Sequential()\n",
        "from keras.layers import Dense, Dropout, Flatten, MaxPool2D\n",
        "from keras.layers import Conv2D, BatchNormalization\n",
        "classifier.add(Conv2D(32, (3,3), input_shape=(32,32,3), activation='relu',name='fc1'))\n",
        "classifier.add(MaxPool2D(pool_size=(2,2)))\n",
        "classifier.add(Dropout(0.2))\n",
        "classifier.add(Conv2D(32, (3,3), activation='relu',name='fc2'))\n",
        "classifier.add(MaxPool2D(pool_size=(2,2)))\n",
        "classifier.add(Dropout(0.3))\n",
        "classifier.add(Flatten())\n",
        "classifier.add(Dense(512, activation='relu',name='fc3'))\n",
        "classifier.add(Dense(256, activation='relu',name='fc4'))\n",
        "classifier.add(Dense(128, activation='relu',name='fc5'))\n",
        "classifier.add(Dense(5, activation='softmax',name='output'))\n",
        "classifier.summary()"
      ],
      "execution_count": 7,
      "outputs": [
        {
          "output_type": "stream",
          "text": [
            "WARNING:tensorflow:From /usr/local/lib/python3.6/dist-packages/keras/backend/tensorflow_backend.py:66: The name tf.get_default_graph is deprecated. Please use tf.compat.v1.get_default_graph instead.\n",
            "\n",
            "WARNING:tensorflow:From /usr/local/lib/python3.6/dist-packages/keras/backend/tensorflow_backend.py:541: The name tf.placeholder is deprecated. Please use tf.compat.v1.placeholder instead.\n",
            "\n",
            "WARNING:tensorflow:From /usr/local/lib/python3.6/dist-packages/keras/backend/tensorflow_backend.py:4432: The name tf.random_uniform is deprecated. Please use tf.random.uniform instead.\n",
            "\n",
            "WARNING:tensorflow:From /usr/local/lib/python3.6/dist-packages/keras/backend/tensorflow_backend.py:4267: The name tf.nn.max_pool is deprecated. Please use tf.nn.max_pool2d instead.\n",
            "\n",
            "WARNING:tensorflow:From /usr/local/lib/python3.6/dist-packages/keras/backend/tensorflow_backend.py:148: The name tf.placeholder_with_default is deprecated. Please use tf.compat.v1.placeholder_with_default instead.\n",
            "\n",
            "WARNING:tensorflow:From /usr/local/lib/python3.6/dist-packages/keras/backend/tensorflow_backend.py:3733: calling dropout (from tensorflow.python.ops.nn_ops) with keep_prob is deprecated and will be removed in a future version.\n",
            "Instructions for updating:\n",
            "Please use `rate` instead of `keep_prob`. Rate should be set to `rate = 1 - keep_prob`.\n",
            "Model: \"sequential_1\"\n",
            "_________________________________________________________________\n",
            "Layer (type)                 Output Shape              Param #   \n",
            "=================================================================\n",
            "fc1 (Conv2D)                 (None, 30, 30, 32)        896       \n",
            "_________________________________________________________________\n",
            "max_pooling2d_1 (MaxPooling2 (None, 15, 15, 32)        0         \n",
            "_________________________________________________________________\n",
            "dropout_1 (Dropout)          (None, 15, 15, 32)        0         \n",
            "_________________________________________________________________\n",
            "fc2 (Conv2D)                 (None, 13, 13, 32)        9248      \n",
            "_________________________________________________________________\n",
            "max_pooling2d_2 (MaxPooling2 (None, 6, 6, 32)          0         \n",
            "_________________________________________________________________\n",
            "dropout_2 (Dropout)          (None, 6, 6, 32)          0         \n",
            "_________________________________________________________________\n",
            "flatten_1 (Flatten)          (None, 1152)              0         \n",
            "_________________________________________________________________\n",
            "fc3 (Dense)                  (None, 512)               590336    \n",
            "_________________________________________________________________\n",
            "fc4 (Dense)                  (None, 256)               131328    \n",
            "_________________________________________________________________\n",
            "fc5 (Dense)                  (None, 128)               32896     \n",
            "_________________________________________________________________\n",
            "output (Dense)               (None, 5)                 645       \n",
            "=================================================================\n",
            "Total params: 765,349\n",
            "Trainable params: 765,349\n",
            "Non-trainable params: 0\n",
            "_________________________________________________________________\n"
          ],
          "name": "stdout"
        }
      ]
    },
    {
      "cell_type": "code",
      "metadata": {
        "id": "FxHGMZRZ96Ql",
        "colab_type": "code",
        "colab": {
          "base_uri": "https://localhost:8080/",
          "height": 1000
        },
        "outputId": "de6ead72-dbb6-4afd-e385-a7b936b89034"
      },
      "source": [
        "classifier.compile(optimizer='adam', loss='categorical_crossentropy', metrics=['accuracy'])\n",
        "classifier.fit(X_norm_first_train,y_first_train,batch_size=300,epochs=20,validation_data=(X_norm_first_test,y_first_test))"
      ],
      "execution_count": 8,
      "outputs": [
        {
          "output_type": "stream",
          "text": [
            "WARNING:tensorflow:From /usr/local/lib/python3.6/dist-packages/keras/optimizers.py:793: The name tf.train.Optimizer is deprecated. Please use tf.compat.v1.train.Optimizer instead.\n",
            "\n",
            "WARNING:tensorflow:From /usr/local/lib/python3.6/dist-packages/keras/backend/tensorflow_backend.py:3576: The name tf.log is deprecated. Please use tf.math.log instead.\n",
            "\n",
            "WARNING:tensorflow:From /usr/local/lib/python3.6/dist-packages/tensorflow_core/python/ops/math_grad.py:1424: where (from tensorflow.python.ops.array_ops) is deprecated and will be removed in a future version.\n",
            "Instructions for updating:\n",
            "Use tf.where in 2.0, which has the same broadcast rule as np.where\n",
            "WARNING:tensorflow:From /usr/local/lib/python3.6/dist-packages/keras/backend/tensorflow_backend.py:1033: The name tf.assign_add is deprecated. Please use tf.compat.v1.assign_add instead.\n",
            "\n",
            "WARNING:tensorflow:From /usr/local/lib/python3.6/dist-packages/keras/backend/tensorflow_backend.py:1020: The name tf.assign is deprecated. Please use tf.compat.v1.assign instead.\n",
            "\n",
            "WARNING:tensorflow:From /usr/local/lib/python3.6/dist-packages/keras/backend/tensorflow_backend.py:3005: The name tf.Session is deprecated. Please use tf.compat.v1.Session instead.\n",
            "\n",
            "Train on 25000 samples, validate on 5000 samples\n",
            "Epoch 1/20\n",
            "WARNING:tensorflow:From /usr/local/lib/python3.6/dist-packages/keras/backend/tensorflow_backend.py:190: The name tf.get_default_session is deprecated. Please use tf.compat.v1.get_default_session instead.\n",
            "\n",
            "WARNING:tensorflow:From /usr/local/lib/python3.6/dist-packages/keras/backend/tensorflow_backend.py:197: The name tf.ConfigProto is deprecated. Please use tf.compat.v1.ConfigProto instead.\n",
            "\n",
            "WARNING:tensorflow:From /usr/local/lib/python3.6/dist-packages/keras/backend/tensorflow_backend.py:207: The name tf.global_variables is deprecated. Please use tf.compat.v1.global_variables instead.\n",
            "\n",
            "WARNING:tensorflow:From /usr/local/lib/python3.6/dist-packages/keras/backend/tensorflow_backend.py:216: The name tf.is_variable_initialized is deprecated. Please use tf.compat.v1.is_variable_initialized instead.\n",
            "\n",
            "WARNING:tensorflow:From /usr/local/lib/python3.6/dist-packages/keras/backend/tensorflow_backend.py:223: The name tf.variables_initializer is deprecated. Please use tf.compat.v1.variables_initializer instead.\n",
            "\n",
            "25000/25000 [==============================] - 28s 1ms/step - loss: 1.2824 - acc: 0.4511 - val_loss: 1.0636 - val_acc: 0.5818\n",
            "Epoch 2/20\n",
            "25000/25000 [==============================] - 27s 1ms/step - loss: 1.0025 - acc: 0.5899 - val_loss: 0.9681 - val_acc: 0.6106\n",
            "Epoch 3/20\n",
            "25000/25000 [==============================] - 27s 1ms/step - loss: 0.8887 - acc: 0.6485 - val_loss: 0.8549 - val_acc: 0.6564\n",
            "Epoch 4/20\n",
            "25000/25000 [==============================] - 27s 1ms/step - loss: 0.8232 - acc: 0.6762 - val_loss: 0.7905 - val_acc: 0.6976\n",
            "Epoch 5/20\n",
            "25000/25000 [==============================] - 27s 1ms/step - loss: 0.7692 - acc: 0.7003 - val_loss: 0.7292 - val_acc: 0.7210\n",
            "Epoch 6/20\n",
            "25000/25000 [==============================] - 27s 1ms/step - loss: 0.7167 - acc: 0.7222 - val_loss: 0.7396 - val_acc: 0.7156\n",
            "Epoch 7/20\n",
            "25000/25000 [==============================] - 27s 1ms/step - loss: 0.6836 - acc: 0.7360 - val_loss: 0.6703 - val_acc: 0.7444\n",
            "Epoch 8/20\n",
            "25000/25000 [==============================] - 27s 1ms/step - loss: 0.6429 - acc: 0.7503 - val_loss: 0.6374 - val_acc: 0.7546\n",
            "Epoch 9/20\n",
            "25000/25000 [==============================] - 27s 1ms/step - loss: 0.6033 - acc: 0.7705 - val_loss: 0.6292 - val_acc: 0.7620\n",
            "Epoch 10/20\n",
            "25000/25000 [==============================] - 27s 1ms/step - loss: 0.5715 - acc: 0.7830 - val_loss: 0.5931 - val_acc: 0.7746\n",
            "Epoch 11/20\n",
            "25000/25000 [==============================] - 27s 1ms/step - loss: 0.5307 - acc: 0.8014 - val_loss: 0.6115 - val_acc: 0.7710\n",
            "Epoch 12/20\n",
            "25000/25000 [==============================] - 28s 1ms/step - loss: 0.5035 - acc: 0.8088 - val_loss: 0.6017 - val_acc: 0.7702\n",
            "Epoch 13/20\n",
            "25000/25000 [==============================] - 27s 1ms/step - loss: 0.4662 - acc: 0.8240 - val_loss: 0.5783 - val_acc: 0.7870\n",
            "Epoch 14/20\n",
            "25000/25000 [==============================] - 27s 1ms/step - loss: 0.4463 - acc: 0.8310 - val_loss: 0.6013 - val_acc: 0.7792\n",
            "Epoch 15/20\n",
            "25000/25000 [==============================] - 27s 1ms/step - loss: 0.4049 - acc: 0.8460 - val_loss: 0.5871 - val_acc: 0.7894\n",
            "Epoch 16/20\n",
            "25000/25000 [==============================] - 28s 1ms/step - loss: 0.3818 - acc: 0.8569 - val_loss: 0.5951 - val_acc: 0.7874\n",
            "Epoch 17/20\n",
            "25000/25000 [==============================] - 27s 1ms/step - loss: 0.3605 - acc: 0.8654 - val_loss: 0.6006 - val_acc: 0.7862\n",
            "Epoch 18/20\n",
            "25000/25000 [==============================] - 27s 1ms/step - loss: 0.3239 - acc: 0.8776 - val_loss: 0.5835 - val_acc: 0.7962\n",
            "Epoch 19/20\n",
            "25000/25000 [==============================] - 27s 1ms/step - loss: 0.2999 - acc: 0.8884 - val_loss: 0.6230 - val_acc: 0.7960\n",
            "Epoch 20/20\n",
            "25000/25000 [==============================] - 27s 1ms/step - loss: 0.2813 - acc: 0.8953 - val_loss: 0.6215 - val_acc: 0.7872\n"
          ],
          "name": "stdout"
        },
        {
          "output_type": "execute_result",
          "data": {
            "text/plain": [
              "<keras.callbacks.History at 0x7ff99ac96940>"
            ]
          },
          "metadata": {
            "tags": []
          },
          "execution_count": 8
        }
      ]
    },
    {
      "cell_type": "code",
      "metadata": {
        "id": "Zioq9tN-BcK7",
        "colab_type": "code",
        "colab": {
          "base_uri": "https://localhost:8080/",
          "height": 51
        },
        "outputId": "533884c4-3f62-42be-868b-5f3f865cd441"
      },
      "source": [
        "score = classifier.evaluate(X_norm_first_test, y_first_test, verbose=0)\n",
        "print('\\n', 'Test accuracy:', score[1])"
      ],
      "execution_count": 9,
      "outputs": [
        {
          "output_type": "stream",
          "text": [
            "\n",
            " Test accuracy: 0.7872\n"
          ],
          "name": "stdout"
        }
      ]
    },
    {
      "cell_type": "markdown",
      "metadata": {
        "id": "woTfNst_ynRG",
        "colab_type": "text"
      },
      "source": [
        "### 4. In the model which was built above (for classification of classes 0-4 in CIFAR10), make only the dense layers to be trainable and conv layers to be non-trainable"
      ]
    },
    {
      "cell_type": "code",
      "metadata": {
        "id": "o_VCDB3Byb1a",
        "colab_type": "code",
        "colab": {
          "base_uri": "https://localhost:8080/",
          "height": 527
        },
        "outputId": "4d8590ee-4706-436c-b7d3-2f39ae92a9cd"
      },
      "source": [
        "model = Sequential()\n",
        "\n",
        "for layer in classifier.layers:\n",
        "        model.add(layer)\n",
        "\n",
        "model.summary()\n",
        "\n",
        "for layer in model.layers:\n",
        "    if layer.name == 'fc1' or layer.name == 'fc2':\n",
        "        layer.trainable = False\n",
        "    layer.trainable=True"
      ],
      "execution_count": 10,
      "outputs": [
        {
          "output_type": "stream",
          "text": [
            "Model: \"sequential_2\"\n",
            "_________________________________________________________________\n",
            "Layer (type)                 Output Shape              Param #   \n",
            "=================================================================\n",
            "fc1 (Conv2D)                 (None, 30, 30, 32)        896       \n",
            "_________________________________________________________________\n",
            "max_pooling2d_1 (MaxPooling2 (None, 15, 15, 32)        0         \n",
            "_________________________________________________________________\n",
            "dropout_1 (Dropout)          (None, 15, 15, 32)        0         \n",
            "_________________________________________________________________\n",
            "fc2 (Conv2D)                 (None, 13, 13, 32)        9248      \n",
            "_________________________________________________________________\n",
            "max_pooling2d_2 (MaxPooling2 (None, 6, 6, 32)          0         \n",
            "_________________________________________________________________\n",
            "dropout_2 (Dropout)          (None, 6, 6, 32)          0         \n",
            "_________________________________________________________________\n",
            "flatten_1 (Flatten)          (None, 1152)              0         \n",
            "_________________________________________________________________\n",
            "fc3 (Dense)                  (None, 512)               590336    \n",
            "_________________________________________________________________\n",
            "fc4 (Dense)                  (None, 256)               131328    \n",
            "_________________________________________________________________\n",
            "fc5 (Dense)                  (None, 128)               32896     \n",
            "_________________________________________________________________\n",
            "output (Dense)               (None, 5)                 645       \n",
            "=================================================================\n",
            "Total params: 765,349\n",
            "Trainable params: 765,349\n",
            "Non-trainable params: 0\n",
            "_________________________________________________________________\n"
          ],
          "name": "stdout"
        }
      ]
    },
    {
      "cell_type": "markdown",
      "metadata": {
        "id": "1-uUPqWpyeyX",
        "colab_type": "text"
      },
      "source": [
        "### 5. Utilize the the model trained on CIFAR 10 (classes 0 to 4) to classify the classes 5 to 9 of CIFAR 10  (Use Transfer Learning) <br>\n",
        "Achieve an accuracy of more than 85% on test data"
      ]
    },
    {
      "cell_type": "code",
      "metadata": {
        "id": "szHjJgDvyfCt",
        "colab_type": "code",
        "colab": {
          "base_uri": "https://localhost:8080/",
          "height": 731
        },
        "outputId": "463c0e69-f19b-44b4-f6b7-f1e3a9df26bd"
      },
      "source": [
        "y_second_train=y_second_train-5\n",
        "y_second_test=y_second_test-5\n",
        "\n",
        "X_second_train= X_second_train.reshape(-1,32,32,3)\n",
        "X_second_test= X_second_test.reshape(-1,32,32,3)\n",
        "\n",
        "X_second_train= X_second_train.astype('float32')\n",
        "X_second_test= X_second_test.astype('float32')\n",
        "X_norm_second_train=X_second_train/255\n",
        "X_norm_second_test=X_second_test/255\n",
        "\n",
        "y_second_train = np_utils.to_categorical(y_second_train,5)\n",
        "y_second_test= np_utils.to_categorical(y_second_test,5)\n",
        "\n",
        "model.compile(optimizer='adam', loss='categorical_crossentropy', metrics=['accuracy'])\n",
        "model.fit(X_norm_second_train,y_second_train,batch_size=300,epochs=20,validation_data=(X_norm_second_test,y_second_test))"
      ],
      "execution_count": 11,
      "outputs": [
        {
          "output_type": "stream",
          "text": [
            "Train on 25000 samples, validate on 5000 samples\n",
            "Epoch 1/20\n",
            "25000/25000 [==============================] - 27s 1ms/step - loss: 1.1144 - acc: 0.6046 - val_loss: 0.6947 - val_acc: 0.7378\n",
            "Epoch 2/20\n",
            "25000/25000 [==============================] - 27s 1ms/step - loss: 0.6497 - acc: 0.7582 - val_loss: 0.5471 - val_acc: 0.7958\n",
            "Epoch 3/20\n",
            "25000/25000 [==============================] - 28s 1ms/step - loss: 0.5354 - acc: 0.8031 - val_loss: 0.4793 - val_acc: 0.8278\n",
            "Epoch 4/20\n",
            "25000/25000 [==============================] - 27s 1ms/step - loss: 0.4624 - acc: 0.8273 - val_loss: 0.4382 - val_acc: 0.8372\n",
            "Epoch 5/20\n",
            "25000/25000 [==============================] - 27s 1ms/step - loss: 0.4127 - acc: 0.8485 - val_loss: 0.3973 - val_acc: 0.8574\n",
            "Epoch 6/20\n",
            "25000/25000 [==============================] - 27s 1ms/step - loss: 0.3705 - acc: 0.8642 - val_loss: 0.3845 - val_acc: 0.8634\n",
            "Epoch 7/20\n",
            "25000/25000 [==============================] - 27s 1ms/step - loss: 0.3349 - acc: 0.8781 - val_loss: 0.3801 - val_acc: 0.8658\n",
            "Epoch 8/20\n",
            "25000/25000 [==============================] - 27s 1ms/step - loss: 0.2990 - acc: 0.8912 - val_loss: 0.3832 - val_acc: 0.8656\n",
            "Epoch 9/20\n",
            "25000/25000 [==============================] - 27s 1ms/step - loss: 0.2723 - acc: 0.8988 - val_loss: 0.3854 - val_acc: 0.8602\n",
            "Epoch 10/20\n",
            "25000/25000 [==============================] - 27s 1ms/step - loss: 0.2497 - acc: 0.9112 - val_loss: 0.3737 - val_acc: 0.8708\n",
            "Epoch 11/20\n",
            "25000/25000 [==============================] - 27s 1ms/step - loss: 0.2164 - acc: 0.9228 - val_loss: 0.3744 - val_acc: 0.8730\n",
            "Epoch 12/20\n",
            "25000/25000 [==============================] - 27s 1ms/step - loss: 0.2010 - acc: 0.9288 - val_loss: 0.3677 - val_acc: 0.8716\n",
            "Epoch 13/20\n",
            "25000/25000 [==============================] - 27s 1ms/step - loss: 0.1826 - acc: 0.9334 - val_loss: 0.3896 - val_acc: 0.8746\n",
            "Epoch 14/20\n",
            "25000/25000 [==============================] - 27s 1ms/step - loss: 0.1644 - acc: 0.9410 - val_loss: 0.3800 - val_acc: 0.8734\n",
            "Epoch 15/20\n",
            "25000/25000 [==============================] - 27s 1ms/step - loss: 0.1473 - acc: 0.9478 - val_loss: 0.4259 - val_acc: 0.8656\n",
            "Epoch 16/20\n",
            "25000/25000 [==============================] - 27s 1ms/step - loss: 0.1435 - acc: 0.9479 - val_loss: 0.4088 - val_acc: 0.8718\n",
            "Epoch 17/20\n",
            "25000/25000 [==============================] - 27s 1ms/step - loss: 0.1235 - acc: 0.9552 - val_loss: 0.4095 - val_acc: 0.8732\n",
            "Epoch 18/20\n",
            "25000/25000 [==============================] - 27s 1ms/step - loss: 0.1135 - acc: 0.9602 - val_loss: 0.4196 - val_acc: 0.8692\n",
            "Epoch 19/20\n",
            "25000/25000 [==============================] - 27s 1ms/step - loss: 0.1060 - acc: 0.9620 - val_loss: 0.4299 - val_acc: 0.8702\n",
            "Epoch 20/20\n",
            "25000/25000 [==============================] - 27s 1ms/step - loss: 0.0978 - acc: 0.9654 - val_loss: 0.4490 - val_acc: 0.8688\n"
          ],
          "name": "stdout"
        },
        {
          "output_type": "execute_result",
          "data": {
            "text/plain": [
              "<keras.callbacks.History at 0x7ff993e85e48>"
            ]
          },
          "metadata": {
            "tags": []
          },
          "execution_count": 11
        }
      ]
    },
    {
      "cell_type": "code",
      "metadata": {
        "id": "j82-bc4tF4w3",
        "colab_type": "code",
        "colab": {
          "base_uri": "https://localhost:8080/",
          "height": 51
        },
        "outputId": "1890d34b-9872-4bab-cd20-ab93e89de175"
      },
      "source": [
        "score_new = classifier.evaluate(X_norm_second_test, y_second_test, verbose=0)\n",
        "print('\\n', 'Test accuracy:', score_new[1])"
      ],
      "execution_count": 12,
      "outputs": [
        {
          "output_type": "stream",
          "text": [
            "\n",
            " Test accuracy: 0.8688\n"
          ],
          "name": "stdout"
        }
      ]
    },
    {
      "cell_type": "markdown",
      "metadata": {
        "id": "0zDuRecXzEtr",
        "colab_type": "text"
      },
      "source": [
        "# Text classification using TF-IDF"
      ]
    },
    {
      "cell_type": "markdown",
      "metadata": {
        "id": "xMPlEJhHzb6P",
        "colab_type": "text"
      },
      "source": [
        "### 6. Load the dataset from sklearn.datasets"
      ]
    },
    {
      "cell_type": "code",
      "metadata": {
        "id": "Fe-B59u3zHNb",
        "colab_type": "code",
        "colab": {}
      },
      "source": [
        "from sklearn.datasets import fetch_20newsgroups"
      ],
      "execution_count": 0,
      "outputs": []
    },
    {
      "cell_type": "code",
      "metadata": {
        "id": "PRrMemVQzbHU",
        "colab_type": "code",
        "colab": {}
      },
      "source": [
        "categories = ['alt.atheism', 'soc.religion.christian', 'comp.graphics', 'sci.med']"
      ],
      "execution_count": 0,
      "outputs": []
    },
    {
      "cell_type": "markdown",
      "metadata": {
        "id": "-sZX0UbJzmg5",
        "colab_type": "text"
      },
      "source": [
        "### 7. Training data"
      ]
    },
    {
      "cell_type": "code",
      "metadata": {
        "id": "CITr_5aXziJ2",
        "colab_type": "code",
        "colab": {}
      },
      "source": [
        "twenty_train = fetch_20newsgroups(subset='train', categories=categories, shuffle=True, random_state=42)"
      ],
      "execution_count": 0,
      "outputs": []
    },
    {
      "cell_type": "markdown",
      "metadata": {
        "id": "xcESc5QXzr6p",
        "colab_type": "text"
      },
      "source": [
        "### 8. Test data"
      ]
    },
    {
      "cell_type": "code",
      "metadata": {
        "id": "ysInblUMzpvl",
        "colab_type": "code",
        "colab": {}
      },
      "source": [
        "twenty_test = fetch_20newsgroups(subset='test', categories=categories, shuffle=True, random_state=42)"
      ],
      "execution_count": 0,
      "outputs": []
    },
    {
      "cell_type": "markdown",
      "metadata": {
        "id": "DriL2yZ50DQq",
        "colab_type": "text"
      },
      "source": [
        "###  a.  You can access the values for the target variable using .target attribute \n",
        "###  b. You can access the name of the class in the target variable with .target_names\n"
      ]
    },
    {
      "cell_type": "code",
      "metadata": {
        "id": "vlUuai99z1hX",
        "colab_type": "code",
        "colab": {
          "base_uri": "https://localhost:8080/",
          "height": 34
        },
        "outputId": "11a31919-8bbb-4f0b-f8ed-418b5b7c8bd9"
      },
      "source": [
        "twenty_train.target"
      ],
      "execution_count": 17,
      "outputs": [
        {
          "output_type": "execute_result",
          "data": {
            "text/plain": [
              "array([1, 1, 3, ..., 2, 2, 2])"
            ]
          },
          "metadata": {
            "tags": []
          },
          "execution_count": 17
        }
      ]
    },
    {
      "cell_type": "code",
      "metadata": {
        "id": "VEKzaDfSz5E-",
        "colab_type": "code",
        "colab": {
          "base_uri": "https://localhost:8080/",
          "height": 34
        },
        "outputId": "4b1ce94c-dab2-4bd1-8112-fe68e5b9cb72"
      },
      "source": [
        "twenty_train.target_names"
      ],
      "execution_count": 18,
      "outputs": [
        {
          "output_type": "execute_result",
          "data": {
            "text/plain": [
              "['alt.atheism', 'comp.graphics', 'sci.med', 'soc.religion.christian']"
            ]
          },
          "metadata": {
            "tags": []
          },
          "execution_count": 18
        }
      ]
    },
    {
      "cell_type": "code",
      "metadata": {
        "id": "clBMKHzC0_N1",
        "colab_type": "code",
        "colab": {
          "base_uri": "https://localhost:8080/",
          "height": 122
        },
        "outputId": "6bcc71e7-7abc-42d1-c708-b517fdbccae1"
      },
      "source": [
        "twenty_train.data[0:5]"
      ],
      "execution_count": 19,
      "outputs": [
        {
          "output_type": "execute_result",
          "data": {
            "text/plain": [
              "['From: sd345@city.ac.uk (Michael Collier)\\nSubject: Converting images to HP LaserJet III?\\nNntp-Posting-Host: hampton\\nOrganization: The City University\\nLines: 14\\n\\nDoes anyone know of a good way (standard PC application/PD utility) to\\nconvert tif/img/tga files into LaserJet III format.  We would also like to\\ndo the same, converting to HPGL (HP plotter) files.\\n\\nPlease email any response.\\n\\nIs this the correct group?\\n\\nThanks in advance.  Michael.\\n-- \\nMichael Collier (Programmer)                 The Computer Unit,\\nEmail: M.P.Collier@uk.ac.city                The City University,\\nTel: 071 477-8000 x3769                      London,\\nFax: 071 477-8565                            EC1V 0HB.\\n',\n",
              " \"From: ani@ms.uky.edu (Aniruddha B. Deglurkar)\\nSubject: help: Splitting a trimming region along a mesh \\nOrganization: University Of Kentucky, Dept. of Math Sciences\\nLines: 28\\n\\n\\n\\n\\tHi,\\n\\n\\tI have a problem, I hope some of the 'gurus' can help me solve.\\n\\n\\tBackground of the problem:\\n\\tI have a rectangular mesh in the uv domain, i.e  the mesh is a \\n\\tmapping of a 3d Bezier patch into 2d. The area in this domain\\n\\twhich is inside a trimming loop had to be rendered. The trimming\\n\\tloop is a set of 2d Bezier curve segments.\\n\\tFor the sake of notation: the mesh is made up of cells.\\n\\n\\tMy problem is this :\\n\\tThe trimming area has to be split up into individual smaller\\n\\tcells bounded by the trimming curve segments. If a cell\\n\\tis wholly inside the area...then it is output as a whole ,\\n\\telse it is trivially rejected. \\n\\n\\tDoes any body know how thiss can be done, or is there any algo. \\n\\tsomewhere for doing this.\\n\\n\\tAny help would be appreciated.\\n\\n\\tThanks, \\n\\tAni.\\n-- \\nTo get irritated is human, to stay cool, divine.\\n\",\n",
              " \"From: djohnson@cs.ucsd.edu (Darin Johnson)\\nSubject: Re: harrassed at work, could use some prayers\\nOrganization: =CSE Dept., U.C. San Diego\\nLines: 63\\n\\n(Well, I'll email also, but this may apply to other people, so\\nI'll post also.)\\n\\n>I've been working at this company for eight years in various\\n>engineering jobs.  I'm female.  Yesterday I counted and realized that\\n>on seven different occasions I've been sexually harrassed at this\\n>company.\\n\\n>I dreaded coming back to work today.  What if my boss comes in to ask\\n>me some kind of question...\\n\\nYour boss should be the person bring these problems to.  If he/she\\ndoes not seem to take any action, keep going up higher and higher.\\nSexual harrassment does not need to be tolerated, and it can be an\\nenormous emotional support to discuss this with someone and know that\\nthey are trying to do something about it.  If you feel you can not\\ndiscuss this with your boss, perhaps your company has a personnel\\ndepartment that can work for you while preserving your privacy.  Most\\ncompanies will want to deal with this problem because constant anxiety\\ndoes seriously affect how effectively employees do their jobs.\\n\\nIt is unclear from your letter if you have done this or not.  It is\\nnot inconceivable that management remains ignorant of employee\\nproblems/strife even after eight years (it's a miracle if they do\\nnotice).  Perhaps your manager did not bring to the attention of\\nhigher ups?  If the company indeed does seem to want to ignore the\\nentire problem, there may be a state agency willing to fight with\\nyou.  (check with a lawyer, a women's resource center, etc to find out)\\n\\nYou may also want to discuss this with your paster, priest, husband,\\netc.  That is, someone you know will not be judgemental and that is\\nsupportive, comforting, etc.  This will bring a lot of healing.\\n\\n>So I returned at 11:25, only to find that ever single\\n>person had already left for lunch.  They left at 11:15 or so.  No one\\n>could be bothered to call me at the other building, even though my\\n>number was posted.\\n\\nThis happens to a lot of people.  Honest.  I believe it may seem\\nto be due to gross insensitivity because of the feelings you are\\ngoing through.  People in offices tend to be more insensitive while\\nworking than they normally are (maybe it's the hustle or stress or...)\\nI've had this happen to me a lot, often because they didn't realize\\nmy car was broken, etc.  Then they will come back and wonder why I\\ndidn't want to go (this would tend to make me stop being angry at\\nbeing ignored and make me laugh).  Once, we went off without our\\nboss, who was paying for the lunch :-)\\n\\n>For this\\n>reason I hope good Mr. Moderator allows me this latest indulgence.\\n\\nWell, if you can't turn to the computer for support, what would\\nwe do?  (signs of the computer age :-)\\n\\nIn closing, please don't let the hateful actions of a single person\\nharm you.  They are doing it because they are still the playground\\nbully and enjoy seeing the hurt they cause.  And you should not\\naccept the opinions of an imbecile that you are worthless - much\\nwiser people hold you in great esteem.\\n-- \\nDarin Johnson\\ndjohnson@ucsd.edu\\n  - Luxury!  In MY day, we had to make do with 5 bytes of swap...\\n\",\n",
              " 'From: s0612596@let.rug.nl (M.M. Zwart)\\nSubject: catholic church poland\\nOrganization: Faculteit der Letteren, Rijksuniversiteit Groningen, NL\\nLines: 10\\n\\nHello,\\n\\nI\\'m writing a paper on the role of the catholic church in Poland after 1989. \\nCan anyone tell me more about this, or fill me in on recent books/articles(\\nin english, german or french). Most important for me is the role of the \\nchurch concerning the abortion-law, religious education at schools,\\nbirth-control and the relation church-state(government). Thanx,\\n\\n                                                 Masja,\\n\"M.M.Zwart\"<s0612596@let.rug.nl>\\n',\n",
              " 'From: stanly@grok11.columbiasc.ncr.com (stanly)\\nSubject: Re: Elder Brother\\nOrganization: NCR Corp., Columbia SC\\nLines: 15\\n\\nIn article <Apr.8.00.57.41.1993.28246@athos.rutgers.edu> REXLEX@fnal.gov writes:\\n>In article <Apr.7.01.56.56.1993.22824@athos.rutgers.edu> shrum@hpfcso.fc.hp.com\\n>Matt. 22:9-14 \\'Go therefore to the main highways, and as many as you find\\n>there, invite to the wedding feast.\\'...\\n\\n>hmmmmmm.  Sounds like your theology and Christ\\'s are at odds. Which one am I \\n>to believe?\\n\\nIn this parable, Jesus tells the parable of the wedding feast. \"The kingdom\\nof heaven is like unto a certain king which made a marriage for his son\".\\nSo the wedding clothes were customary,  and \"given\" to those who \"chose\" to\\nattend.  This man \"refused\" to wear the clothes.  The wedding clothes are\\nequalivant to the \"clothes of righteousness\".  When Jesus died for our sins,\\nthose \"clothes\" were then provided.  Like that man, it is our decision to\\nput the clothes on.\\n']"
            ]
          },
          "metadata": {
            "tags": []
          },
          "execution_count": 19
        }
      ]
    },
    {
      "cell_type": "markdown",
      "metadata": {
        "id": "hTz4EaN_1WGc",
        "colab_type": "text"
      },
      "source": [
        "### 9.  Now with dependent and independent data available for both train and test datasets, using TfidfVectorizer fit and transform the training data and test data and get the tfidf features for both"
      ]
    },
    {
      "cell_type": "code",
      "metadata": {
        "id": "J4madyc-E4C_",
        "colab_type": "code",
        "colab": {
          "base_uri": "https://localhost:8080/",
          "height": 221
        },
        "outputId": "b44890f8-fc4a-4f56-ef74-25bca8dbad4e"
      },
      "source": [
        "from sklearn.feature_extraction.text import TfidfVectorizer\n",
        "import pandas as pd\n",
        "\n",
        "# TfidfVectorizer\n",
        "vect = TfidfVectorizer(stop_words='english')\n",
        "data_1=pd.DataFrame(vect.fit_transform(twenty_train).toarray(), columns=vect.get_feature_names())\n",
        "data_2=pd.DataFrame(vect.fit_transform(twenty_test).toarray(), columns=vect.get_feature_names())\n",
        "print(data_1)\n",
        "print(data_2)"
      ],
      "execution_count": 26,
      "outputs": [
        {
          "output_type": "stream",
          "text": [
            "   data  descr  filenames  target  target_names\n",
            "0   1.0    0.0        0.0     0.0           0.0\n",
            "1   0.0    0.0        1.0     0.0           0.0\n",
            "2   0.0    0.0        0.0     0.0           1.0\n",
            "3   0.0    0.0        0.0     1.0           0.0\n",
            "4   0.0    1.0        0.0     0.0           0.0\n",
            "   data  descr  filenames  target  target_names\n",
            "0   1.0    0.0        0.0     0.0           0.0\n",
            "1   0.0    0.0        1.0     0.0           0.0\n",
            "2   0.0    0.0        0.0     0.0           1.0\n",
            "3   0.0    0.0        0.0     1.0           0.0\n",
            "4   0.0    1.0        0.0     0.0           0.0\n"
          ],
          "name": "stdout"
        }
      ]
    },
    {
      "cell_type": "markdown",
      "metadata": {
        "id": "tp_fDINJ1t4L",
        "colab_type": "text"
      },
      "source": [
        "### 10. Use logisticRegression with tfidf features as input and targets as output and train the model and report the train and test accuracy score"
      ]
    },
    {
      "cell_type": "code",
      "metadata": {
        "id": "THlN2b5d1yQp",
        "colab_type": "code",
        "colab": {}
      },
      "source": [
        "y_train=data_1['target']\n",
        "y_test=data_2['target']\n",
        "X_train=data_1.drop(['target'],1)\n",
        "X_test=data_2.drop(['target'],1)"
      ],
      "execution_count": 0,
      "outputs": []
    },
    {
      "cell_type": "code",
      "metadata": {
        "id": "q5WDVa9Eu6_k",
        "colab_type": "code",
        "colab": {
          "base_uri": "https://localhost:8080/",
          "height": 51
        },
        "outputId": "978d69b1-10bf-40e9-a886-2e03adeca0f2"
      },
      "source": [
        "from sklearn.linear_model import LogisticRegression\n",
        "from sklearn import metrics\n",
        "\n",
        "logreg = LogisticRegression()\n",
        "logreg.fit(X_train, y_train)\n",
        "y_pred_class = logreg.predict(X_test)\n",
        "print('Training score:',logreg.score(X_train,y_train)*100)\n",
        "print ('Test Score:',metrics.accuracy_score(y_test, y_pred_class)*100)"
      ],
      "execution_count": 28,
      "outputs": [
        {
          "output_type": "stream",
          "text": [
            "Training score: 80.0\n",
            "Test Score: 80.0\n"
          ],
          "name": "stdout"
        }
      ]
    }
  ]
}