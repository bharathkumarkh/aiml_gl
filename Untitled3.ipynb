{
 "cells": [
  {
   "cell_type": "code",
   "execution_count": 1,
   "metadata": {},
   "outputs": [],
   "source": [
    "import numpy as np\n",
    "import pandas as pd\n",
    "from sklearn.neighbors import KNeighborsClassifier\n",
    "from sklearn.model_selection import train_test_split\n",
    "from sklearn.preprocessing import LabelEncoder\n",
    "from sklearn.preprocessing import MinMaxScaler\n",
    "from sklearn.metrics import accuracy_score\n",
    "import seaborn as sns"
   ]
  },
  {
   "cell_type": "code",
   "execution_count": 2,
   "metadata": {},
   "outputs": [],
   "source": [
    "df = pd.read_csv(\"2Classdata.csv\")"
   ]
  },
  {
   "cell_type": "code",
   "execution_count": 3,
   "metadata": {},
   "outputs": [
    {
     "name": "stdout",
     "output_type": "stream",
     "text": [
      "     pelvic_incidence  pelvic_tilt numeric  lumbar_lordosis_angle  \\\n",
      "0           63.027818            22.552586              39.609117   \n",
      "1           39.056951            10.060991              25.015378   \n",
      "2           68.832021            22.218482              50.092194   \n",
      "3           69.297008            24.652878              44.311238   \n",
      "4           49.712859             9.652075              28.317406   \n",
      "5           40.250200            13.921907              25.124950   \n",
      "6           53.432928            15.864336              37.165934   \n",
      "7           45.366754            10.755611              29.038349   \n",
      "8           43.790190            13.533753              42.690814   \n",
      "9           36.686353             5.010884              41.948751   \n",
      "10          49.706610            13.040974              31.334500   \n",
      "11          31.232387            17.715819              15.500000   \n",
      "12          48.915551            19.964556              40.263794   \n",
      "13          53.572170            20.460828              33.100000   \n",
      "14          57.300227            24.188885              47.000000   \n",
      "15          44.318907            12.537992              36.098763   \n",
      "16          63.834982            20.362507              54.552434   \n",
      "17          31.276012             3.144669              32.562996   \n",
      "18          38.697912            13.444749              31.000000   \n",
      "19          41.729963            12.254074              30.122586   \n",
      "20          43.922840            14.177959              37.832547   \n",
      "21          54.919443            21.062332              42.200000   \n",
      "22          63.073611            24.413803              54.000000   \n",
      "23          45.540790            13.069598              30.298321   \n",
      "24          36.125683            22.758753              29.000000   \n",
      "25          54.124920            26.650489              35.329747   \n",
      "26          26.147921            10.759454              14.000000   \n",
      "27          43.580964            16.508884              47.000000   \n",
      "28          44.551012            21.931147              26.785916   \n",
      "29          66.879211            24.891999              49.278597   \n",
      "..                ...                  ...                    ...   \n",
      "280         50.086153            13.430044              34.457541   \n",
      "281         64.261507            14.497866              43.902504   \n",
      "282         53.683380            13.447022              41.584297   \n",
      "283         48.995958            13.113820              51.873520   \n",
      "284         59.167612            14.562749              43.199158   \n",
      "285         67.804694            16.550662              43.256802   \n",
      "286         61.734875            17.114312              46.900000   \n",
      "287         33.041688            -0.324678              19.071075   \n",
      "288         74.565015            15.724320              58.618582   \n",
      "289         44.430701            14.174264              32.243495   \n",
      "290         36.422485            13.879424              20.242562   \n",
      "291         51.079833            14.209935              35.951229   \n",
      "292         34.756738             2.631740              29.504381   \n",
      "293         48.902904             5.587589              55.500000   \n",
      "294         46.236399            10.062770              37.000000   \n",
      "295         46.426366             6.620795              48.100000   \n",
      "296         39.656902            16.208839              36.674857   \n",
      "297         45.575482            18.759135              33.774143   \n",
      "298         66.507179            20.897672              31.727471   \n",
      "299         82.905351            29.894119              58.250542   \n",
      "300         50.676677             6.461501              35.000000   \n",
      "301         89.014875            26.075981              69.021259   \n",
      "302         54.600316            21.488974              29.360216   \n",
      "303         34.382299             2.062683              32.390820   \n",
      "304         45.075450            12.306951              44.583177   \n",
      "305         47.903565            13.616688              36.000000   \n",
      "306         53.936748            20.721496              29.220534   \n",
      "307         61.446597            22.694968              46.170347   \n",
      "308         45.252792             8.693157              41.583126   \n",
      "309         33.841641             5.073991              36.641233   \n",
      "\n",
      "     sacral_slope  pelvic_radius  degree_spondylolisthesis  class  \n",
      "0       40.475232      98.672917                 -0.254400      0  \n",
      "1       28.995960     114.405425                  4.564259      0  \n",
      "2       46.613539     105.985135                 -3.530317      0  \n",
      "3       44.644130     101.868495                 11.211523      0  \n",
      "4       40.060784     108.168725                  7.918501      0  \n",
      "5       26.328293     130.327871                  2.230652      0  \n",
      "6       37.568592     120.567523                  5.988551      0  \n",
      "7       34.611142     117.270068                -10.675871      0  \n",
      "8       30.256437     125.002893                 13.289018      0  \n",
      "9       31.675469      84.241415                  0.664437      0  \n",
      "10      36.665635     108.648265                 -7.825986      0  \n",
      "11      13.516568     120.055399                  0.499751      0  \n",
      "12      28.950995     119.321358                  8.028895      0  \n",
      "13      33.111342     110.966698                  7.044803      0  \n",
      "14      33.111342     116.806587                  5.766947      0  \n",
      "15      31.780915     124.115836                  5.415825      0  \n",
      "16      43.472475     112.309492                 -0.622527      0  \n",
      "17      28.131342     129.011418                  3.623020      0  \n",
      "18      25.253163     123.159251                  1.429186      0  \n",
      "19      29.475889     116.585706                 -1.244402      0  \n",
      "20      29.744881     134.461016                  6.451648      0  \n",
      "21      33.857110     125.212716                  2.432561      0  \n",
      "22      38.659808     106.424329                 15.779697      0  \n",
      "23      32.471192     117.980830                 -4.987130      0  \n",
      "24      13.366931     115.577116                 -3.237562      0  \n",
      "25      27.474432     121.447011                  1.571205      0  \n",
      "26      15.388468     125.203296                -10.093108      0  \n",
      "27      27.072080     109.271634                  8.992816      0  \n",
      "28      22.619865     111.072920                  2.652321      0  \n",
      "29      41.987212     113.477018                 -2.005892      0  \n",
      "..            ...            ...                       ...    ...  \n",
      "280     36.656108     119.134622                  3.089484      1  \n",
      "281     49.763642     115.388268                  5.951454      1  \n",
      "282     40.236358     113.913703                  2.737035      1  \n",
      "283     35.882137     126.398188                  0.535472      1  \n",
      "284     44.604863     121.035642                  2.830504      1  \n",
      "285     51.254033     119.685645                  4.867540      1  \n",
      "286     44.620563     120.920200                  3.087726      1  \n",
      "287     33.366366     120.388611                  9.354365      1  \n",
      "288     58.840695     105.417304                  0.599247      1  \n",
      "289     30.256437     131.717613                 -3.604255      1  \n",
      "290     22.543061     126.076861                  0.179717      1  \n",
      "291     36.869898     115.803711                  6.905090      1  \n",
      "292     32.124998     127.139850                 -0.460894      1  \n",
      "293     43.315316     137.108289                 19.854759      1  \n",
      "294     36.173629     128.063620                 -5.100053      1  \n",
      "295     39.805571     130.350096                  2.449382      1  \n",
      "296     23.448063     131.922009                 -4.968980      1  \n",
      "297     26.816347     116.797007                  3.131910      1  \n",
      "298     45.609507     128.902905                  1.517203      1  \n",
      "299     53.011232     110.708958                  6.079338      1  \n",
      "300     44.215175     116.587970                 -0.214711      1  \n",
      "301     62.938894     111.481075                  6.061508      1  \n",
      "302     33.111342     118.343321                 -1.471067      1  \n",
      "303     32.319617     128.300199                 -3.365516      1  \n",
      "304     32.768499     147.894637                 -8.941709      1  \n",
      "305     34.286877     117.449062                 -4.245395      1  \n",
      "306     33.215251     114.365845                 -0.421010      1  \n",
      "307     38.751628     125.670725                 -2.707880      1  \n",
      "308     36.559635     118.545842                  0.214750      1  \n",
      "309     28.767649     123.945244                 -0.199249      1  \n",
      "\n",
      "[310 rows x 7 columns]\n"
     ]
    }
   ],
   "source": [
    "a=df['class']\n",
    "a= pd.get_dummies(a, drop_first=True)\n",
    "df['class']=a\n",
    "print(df)"
   ]
  },
  {
   "cell_type": "code",
   "execution_count": 4,
   "metadata": {},
   "outputs": [],
   "source": [
    "X = df.drop(labels= 'class' , axis = 1)\n",
    "Y = df[['class']]\n",
    "x=X.values\n",
    "scale=MinMaxScaler()\n",
    "x_norm=scale.fit_transform(x)\n",
    "X=pd.DataFrame(x_norm)\n",
    "X.columns=['pelvic_incidence','pelvic_tilt numeric','lumbar_lordosis_angle','sacral_slope','pelvic_radius','degree_spondylolisthesis']"
   ]
  },
  {
   "cell_type": "code",
   "execution_count": 5,
   "metadata": {},
   "outputs": [],
   "source": [
    "test_size = 0.30 \n",
    "seed = 7 \n",
    "X_train, X_test, Y_train, Y_test = train_test_split(X, Y, test_size=test_size, random_state=seed)"
   ]
  },
  {
   "cell_type": "code",
   "execution_count": 14,
   "metadata": {},
   "outputs": [
    {
     "name": "stderr",
     "output_type": "stream",
     "text": [
      "/Users/bharath/anaconda3/lib/python3.7/site-packages/ipykernel_launcher.py:2: DataConversionWarning: A column-vector y was passed when a 1d array was expected. Please change the shape of y to (n_samples, ), for example using ravel().\n",
      "  \n"
     ]
    },
    {
     "data": {
      "text/plain": [
       "0.8248847926267281"
      ]
     },
     "execution_count": 14,
     "metadata": {},
     "output_type": "execute_result"
    }
   ],
   "source": [
    "knn = KNeighborsClassifier(n_neighbors= 7)\n",
    "knn.fit(X_train, Y_train)\n",
    "knn.score(X_train, Y_train)\n"
   ]
  },
  {
   "cell_type": "code",
   "execution_count": 16,
   "metadata": {},
   "outputs": [
    {
     "name": "stdout",
     "output_type": "stream",
     "text": [
      "[1.0, 0.8940092165898618, 0.8617511520737328, 0.8248847926267281, 0.8110599078341014, 0.8248847926267281, 0.8202764976958525, 0.8248847926267281, 0.815668202764977, 0.8202764976958525]\n"
     ]
    },
    {
     "name": "stderr",
     "output_type": "stream",
     "text": [
      "/Users/bharath/anaconda3/lib/python3.7/site-packages/ipykernel_launcher.py:4: DataConversionWarning: A column-vector y was passed when a 1d array was expected. Please change the shape of y to (n_samples, ), for example using ravel().\n",
      "  after removing the cwd from sys.path.\n",
      "/Users/bharath/anaconda3/lib/python3.7/site-packages/ipykernel_launcher.py:4: DataConversionWarning: A column-vector y was passed when a 1d array was expected. Please change the shape of y to (n_samples, ), for example using ravel().\n",
      "  after removing the cwd from sys.path.\n",
      "/Users/bharath/anaconda3/lib/python3.7/site-packages/ipykernel_launcher.py:4: DataConversionWarning: A column-vector y was passed when a 1d array was expected. Please change the shape of y to (n_samples, ), for example using ravel().\n",
      "  after removing the cwd from sys.path.\n",
      "/Users/bharath/anaconda3/lib/python3.7/site-packages/ipykernel_launcher.py:4: DataConversionWarning: A column-vector y was passed when a 1d array was expected. Please change the shape of y to (n_samples, ), for example using ravel().\n",
      "  after removing the cwd from sys.path.\n",
      "/Users/bharath/anaconda3/lib/python3.7/site-packages/ipykernel_launcher.py:4: DataConversionWarning: A column-vector y was passed when a 1d array was expected. Please change the shape of y to (n_samples, ), for example using ravel().\n",
      "  after removing the cwd from sys.path.\n",
      "/Users/bharath/anaconda3/lib/python3.7/site-packages/ipykernel_launcher.py:4: DataConversionWarning: A column-vector y was passed when a 1d array was expected. Please change the shape of y to (n_samples, ), for example using ravel().\n",
      "  after removing the cwd from sys.path.\n",
      "/Users/bharath/anaconda3/lib/python3.7/site-packages/ipykernel_launcher.py:4: DataConversionWarning: A column-vector y was passed when a 1d array was expected. Please change the shape of y to (n_samples, ), for example using ravel().\n",
      "  after removing the cwd from sys.path.\n",
      "/Users/bharath/anaconda3/lib/python3.7/site-packages/ipykernel_launcher.py:4: DataConversionWarning: A column-vector y was passed when a 1d array was expected. Please change the shape of y to (n_samples, ), for example using ravel().\n",
      "  after removing the cwd from sys.path.\n",
      "/Users/bharath/anaconda3/lib/python3.7/site-packages/ipykernel_launcher.py:4: DataConversionWarning: A column-vector y was passed when a 1d array was expected. Please change the shape of y to (n_samples, ), for example using ravel().\n",
      "  after removing the cwd from sys.path.\n",
      "/Users/bharath/anaconda3/lib/python3.7/site-packages/ipykernel_launcher.py:4: DataConversionWarning: A column-vector y was passed when a 1d array was expected. Please change the shape of y to (n_samples, ), for example using ravel().\n",
      "  after removing the cwd from sys.path.\n"
     ]
    }
   ],
   "source": [
    "accuracy=[]\n",
    "for k in np.arange(1,21,2):\n",
    "    knn = KNeighborsClassifier(k)\n",
    "    knn.fit(X_train,Y_train)\n",
    "    accuracy.append(knn.score(X_train, Y_train))\n",
    "print(accuracy)\n"
   ]
  },
  {
   "cell_type": "code",
   "execution_count": 17,
   "metadata": {},
   "outputs": [
    {
     "name": "stdout",
     "output_type": "stream",
     "text": [
      "so the optimal k value is \n",
      "K           1.0\n",
      "Accuracy    1.0\n",
      "Name: 0, dtype: float64\n"
     ]
    }
   ],
   "source": [
    "optimal=pd.DataFrame({'K':np.arange(1,21,2), 'Accuracy':accuracy})\n",
    "print('so the optimal k value is ')\n",
    "print(optimal.loc[optimal['Accuracy'].idxmax()])"
   ]
  },
  {
   "cell_type": "code",
   "execution_count": null,
   "metadata": {},
   "outputs": [],
   "source": []
  }
 ],
 "metadata": {
  "kernelspec": {
   "display_name": "Python 3",
   "language": "python",
   "name": "python3"
  },
  "language_info": {
   "codemirror_mode": {
    "name": "ipython",
    "version": 3
   },
   "file_extension": ".py",
   "mimetype": "text/x-python",
   "name": "python",
   "nbconvert_exporter": "python",
   "pygments_lexer": "ipython3",
   "version": "3.7.3"
  }
 },
 "nbformat": 4,
 "nbformat_minor": 2
}
