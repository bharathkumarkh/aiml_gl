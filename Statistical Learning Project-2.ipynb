{
 "cells": [
  {
   "cell_type": "markdown",
   "metadata": {},
   "source": [
    "# Importing necessary libraries "
   ]
  },
  {
   "cell_type": "code",
   "execution_count": 154,
   "metadata": {},
   "outputs": [],
   "source": [
    "from scipy import stats \n",
    "from scipy.stats import ttest_ind\n",
    "import numpy as np\n",
    "import pandas as pd\n",
    "import seaborn as sns"
   ]
  },
  {
   "cell_type": "markdown",
   "metadata": {},
   "source": [
    "# Loading the data into a dataframe"
   ]
  },
  {
   "cell_type": "code",
   "execution_count": 155,
   "metadata": {},
   "outputs": [],
   "source": [
    "data = pd.read_csv('responses.csv')"
   ]
  },
  {
   "cell_type": "markdown",
   "metadata": {},
   "source": [
    "# Extracting The Relevant Columns and Exploring the data"
   ]
  },
  {
   "cell_type": "code",
   "execution_count": 156,
   "metadata": {},
   "outputs": [
    {
     "name": "stdout",
     "output_type": "stream",
     "text": [
      "   Finances  Gender Village - town  Healthy eating\n",
      "0       3.0  female        village             4.0\n",
      "1       3.0  female           city             3.0\n",
      "2       2.0  female           city             3.0\n",
      "3       2.0  female           city             3.0\n",
      "4       4.0  female        village             4.0\n",
      "      Finances  Gender Village - town  Healthy eating\n",
      "1005       3.0  female           city             3.0\n",
      "1006       3.0    male        village             3.0\n",
      "1007       1.0  female           city             2.0\n",
      "1008       3.0  female           city             3.0\n",
      "1009       5.0    male        village             3.0\n"
     ]
    }
   ],
   "source": [
    "df=data[['Finances','Gender','Village - town','Healthy eating']]\n",
    "print(df.head())\n",
    "print(df.tail())"
   ]
  },
  {
   "cell_type": "code",
   "execution_count": 157,
   "metadata": {},
   "outputs": [
    {
     "data": {
      "text/plain": [
       "Finances          3\n",
       "Gender            6\n",
       "Village - town    4\n",
       "Healthy eating    3\n",
       "dtype: int64"
      ]
     },
     "execution_count": 157,
     "metadata": {},
     "output_type": "execute_result"
    }
   ],
   "source": [
    "df.isna().sum()"
   ]
  },
  {
   "cell_type": "code",
   "execution_count": 158,
   "metadata": {},
   "outputs": [
    {
     "data": {
      "text/plain": [
       "Finances          float64\n",
       "Gender             object\n",
       "Village - town     object\n",
       "Healthy eating    float64\n",
       "dtype: object"
      ]
     },
     "execution_count": 158,
     "metadata": {},
     "output_type": "execute_result"
    }
   ],
   "source": [
    "df.dtypes"
   ]
  },
  {
   "cell_type": "code",
   "execution_count": 159,
   "metadata": {},
   "outputs": [
    {
     "data": {
      "text/html": [
       "<div>\n",
       "<style scoped>\n",
       "    .dataframe tbody tr th:only-of-type {\n",
       "        vertical-align: middle;\n",
       "    }\n",
       "\n",
       "    .dataframe tbody tr th {\n",
       "        vertical-align: top;\n",
       "    }\n",
       "\n",
       "    .dataframe thead th {\n",
       "        text-align: right;\n",
       "    }\n",
       "</style>\n",
       "<table border=\"1\" class=\"dataframe\">\n",
       "  <thead>\n",
       "    <tr style=\"text-align: right;\">\n",
       "      <th></th>\n",
       "      <th>Finances</th>\n",
       "      <th>Gender</th>\n",
       "      <th>Healthy eating</th>\n",
       "    </tr>\n",
       "    <tr>\n",
       "      <th>Village - town</th>\n",
       "      <th></th>\n",
       "      <th></th>\n",
       "      <th></th>\n",
       "    </tr>\n",
       "  </thead>\n",
       "  <tbody>\n",
       "    <tr>\n",
       "      <th>city</th>\n",
       "      <td>705</td>\n",
       "      <td>704</td>\n",
       "      <td>704</td>\n",
       "    </tr>\n",
       "    <tr>\n",
       "      <th>village</th>\n",
       "      <td>298</td>\n",
       "      <td>296</td>\n",
       "      <td>299</td>\n",
       "    </tr>\n",
       "  </tbody>\n",
       "</table>\n",
       "</div>"
      ],
      "text/plain": [
       "                Finances  Gender  Healthy eating\n",
       "Village - town                                  \n",
       "city                 705     704             704\n",
       "village              298     296             299"
      ]
     },
     "execution_count": 159,
     "metadata": {},
     "output_type": "execute_result"
    }
   ],
   "source": [
    "df.groupby(['Gender']).count()\n",
    "df.groupby(['Village - town']).count()"
   ]
  },
  {
   "cell_type": "markdown",
   "metadata": {},
   "source": [
    "# Is saving money (finances) gender dependant?"
   ]
  },
  {
   "cell_type": "markdown",
   "metadata": {},
   "source": [
    "# we first filter the finances of male and female as two different arrays without any missing values"
   ]
  },
  {
   "cell_type": "code",
   "execution_count": 160,
   "metadata": {},
   "outputs": [
    {
     "name": "stdout",
     "output_type": "stream",
     "text": [
      "1\n",
      "2\n"
     ]
    }
   ],
   "source": [
    "x = df[df['Gender'] == 'male']\n",
    "y = df[df['Gender'] == 'female']\n",
    "g=x['Finances']\n",
    "print(g.isna().sum())\n",
    "v=y['Finances']\n",
    "print(v.isna().sum())"
   ]
  },
  {
   "cell_type": "code",
   "execution_count": 161,
   "metadata": {},
   "outputs": [
    {
     "data": {
      "text/plain": [
       "<matplotlib.axes._subplots.AxesSubplot at 0x1a1b694dd8>"
      ]
     },
     "execution_count": 161,
     "metadata": {},
     "output_type": "execute_result"
    },
    {
     "data": {
      "image/png": "[encoded data removed]",
      "text/plain": [
       "<Figure size 432x288 with 1 Axes>"
      ]
     },
     "metadata": {
      "needs_background": "light"
     },
     "output_type": "display_data"
    }
   ],
   "source": [
    "sns.boxplot(x=df['Gender'],y=df['Finances'])"
   ]
  },
  {
   "cell_type": "code",
   "execution_count": 141,
   "metadata": {},
   "outputs": [],
   "source": [
    "g.fillna(g.median(),inplace=True)\n",
    "v.fillna(v.median(),inplace=True)"
   ]
  },
  {
   "cell_type": "code",
   "execution_count": 142,
   "metadata": {},
   "outputs": [],
   "source": [
    "a=g.values\n",
    "b=v.values"
   ]
  },
  {
   "cell_type": "markdown",
   "metadata": {},
   "source": [
    "# Performing Ttest will either reject the null hypothesis (Ho) or will fail to reject the null hypothesis (Ha)\n",
    "    Null Hypothesis (Ho) : Saving money is not gender dependant\n",
    "    Alternate Hypothesis (Ha): Saving money is gender dependant"
   ]
  },
  {
   "cell_type": "code",
   "execution_count": 143,
   "metadata": {},
   "outputs": [
    {
     "name": "stdout",
     "output_type": "stream",
     "text": [
      "The p value is  0.05195393294789817\n",
      "Since the p value is greater than 5% significance, Hence Failed to reject Null\n",
      "Saving money is not gender dependant\n"
     ]
    }
   ],
   "source": [
    "t_statistic, p_value  =  stats.ttest_ind(a,b)\n",
    "print('The p value is ',p_value)\n",
    "if (p_value<0.05):\n",
    "    print('Since the p value is less than 5% significance, Hence reject null')\n",
    "    print('Saving money is gender dependant')\n",
    "else:\n",
    "    print('Since the p value is greater than 5% significance, Hence Failed to reject Null')\n",
    "    print('Saving money is not gender dependant')"
   ]
  },
  {
   "cell_type": "markdown",
   "metadata": {},
   "source": [
    "# Is there any differences in money saving (finances) between people from city or village?"
   ]
  },
  {
   "cell_type": "markdown",
   "metadata": {},
   "source": [
    "# we first filter the finances of village and city people as two different arrays without any missing values"
   ]
  },
  {
   "cell_type": "code",
   "execution_count": 120,
   "metadata": {},
   "outputs": [
    {
     "name": "stdout",
     "output_type": "stream",
     "text": [
      "1\n",
      "2\n"
     ]
    }
   ],
   "source": [
    "p = df[df['Village - town'] == 'village']\n",
    "q = df[df['Village - town'] == 'city']\n",
    "l=p['Finances']\n",
    "print(l.isna().sum())\n",
    "m=q['Finances']\n",
    "print(m.isna().sum())"
   ]
  },
  {
   "cell_type": "code",
   "execution_count": 121,
   "metadata": {},
   "outputs": [
    {
     "data": {
      "text/plain": [
       "<matplotlib.axes._subplots.AxesSubplot at 0x1a1ab53400>"
      ]
     },
     "execution_count": 121,
     "metadata": {},
     "output_type": "execute_result"
    },
    {
     "data": {
      "image/png": "[encoded data removed]",
      "text/plain": [
       "<Figure size 432x288 with 1 Axes>"
      ]
     },
     "metadata": {
      "needs_background": "light"
     },
     "output_type": "display_data"
    }
   ],
   "source": [
    "sns.boxplot(x=df['Village - town'],y=df['Finances'])"
   ]
  },
  {
   "cell_type": "code",
   "execution_count": 122,
   "metadata": {},
   "outputs": [],
   "source": [
    "l.fillna(l.median(),inplace=True)\n",
    "m.fillna(m.median(),inplace=True)"
   ]
  },
  {
   "cell_type": "code",
   "execution_count": 123,
   "metadata": {},
   "outputs": [],
   "source": [
    "z= l.values\n",
    "k= m.values"
   ]
  },
  {
   "cell_type": "markdown",
   "metadata": {},
   "source": [
    "# Performing Ttest will either reject the null hypothesis (Ho) or will fail to reject the null hypothesis (Ha)\n",
    "    Null Hypothesis (Ho) : No significant difference between money savings of city and village people\n",
    "    Alternate Hypothesis (Ha): There is significant difference between money savings of city and village people"
   ]
  },
  {
   "cell_type": "code",
   "execution_count": 144,
   "metadata": {},
   "outputs": [
    {
     "name": "stdout",
     "output_type": "stream",
     "text": [
      "The p value is  0.007282559470137819\n",
      "Since the p value is less than 5% significance, Hence reject null\n",
      "There is significant difference between money savings of city and village people\n"
     ]
    }
   ],
   "source": [
    "t_statistic, p_value  =  stats.ttest_ind(z,k)\n",
    "print('The p value is ',p_value)\n",
    "if (p_value<0.05):\n",
    "    print('Since the p value is less than 5% significance, Hence reject null')\n",
    "    print('There is significant difference between money savings of city and village people')\n",
    "else:\n",
    "    print('Since the p value is greater than 5% significance, Hence Failed to reject Null')\n",
    "    print('No significant difference between money savings of city and village people')"
   ]
  },
  {
   "cell_type": "markdown",
   "metadata": {},
   "source": [
    "# Do Women have a Healthier Lifestyle than Men?"
   ]
  },
  {
   "cell_type": "markdown",
   "metadata": {},
   "source": [
    "# we first filter the Healthy eating values of Men and Women as two different arrays without any missing values"
   ]
  },
  {
   "cell_type": "code",
   "execution_count": 145,
   "metadata": {},
   "outputs": [
    {
     "name": "stdout",
     "output_type": "stream",
     "text": [
      "2\n",
      "1\n"
     ]
    }
   ],
   "source": [
    "n = df[df['Gender'] == 'male']\n",
    "o = df[df['Gender'] == 'female']\n",
    "e=n['Healthy eating']\n",
    "print(e.isna().sum())\n",
    "f=o['Healthy eating']\n",
    "print(f.isna().sum())"
   ]
  },
  {
   "cell_type": "code",
   "execution_count": 146,
   "metadata": {},
   "outputs": [
    {
     "data": {
      "text/plain": [
       "<matplotlib.axes._subplots.AxesSubplot at 0x1a1ae27f98>"
      ]
     },
     "execution_count": 146,
     "metadata": {},
     "output_type": "execute_result"
    },
    {
     "data": {
      "image/png": "[encoded data removed]",
      "text/plain": [
       "<Figure size 432x288 with 1 Axes>"
      ]
     },
     "metadata": {
      "needs_background": "light"
     },
     "output_type": "display_data"
    }
   ],
   "source": [
    "sns.boxplot(x=df['Gender'],y=df['Healthy eating'])"
   ]
  },
  {
   "cell_type": "code",
   "execution_count": 147,
   "metadata": {},
   "outputs": [],
   "source": [
    "e.fillna(e.median(),inplace=True)\n",
    "f.fillna(f.median(),inplace=True)"
   ]
  },
  {
   "cell_type": "code",
   "execution_count": 148,
   "metadata": {},
   "outputs": [],
   "source": [
    "r= e.values\n",
    "s= f.values"
   ]
  },
  {
   "cell_type": "markdown",
   "metadata": {},
   "source": [
    "# Performing Ttest will either reject the null hypothesis (Ho) or will fail to reject the null hypothesis (Ha)\n",
    "    Null Hypothesis (Ho) : Women and men both are equally healthy\n",
    "    Alternate Hypothesis (Ha): Women have a Healthier Lifestyle than Men"
   ]
  },
  {
   "cell_type": "code",
   "execution_count": 149,
   "metadata": {},
   "outputs": [
    {
     "name": "stdout",
     "output_type": "stream",
     "text": [
      "The p value is  0.04263440495166596\n",
      "Since the p value is less than 5% significance, Hence reject null\n",
      "Women have a Healthier Lifestyle than Men\n"
     ]
    }
   ],
   "source": [
    "t_statistic, p_value  =  stats.ttest_ind(s,r)\n",
    "print('The p value is ',p_value)\n",
    "if (p_value<0.05):\n",
    "    print('Since the p value is less than 5% significance, Hence reject null')\n",
    "    print('Women have a Healthier Lifestyle than Men')\n",
    "else:\n",
    "    print('Since the p value is greater than 5% significance, Hence Failed to reject Null')\n",
    "    print('Women and men both are equally healthy')"
   ]
  },
  {
   "cell_type": "markdown",
   "metadata": {},
   "source": [
    "# Are Village People Healthier than City People?"
   ]
  },
  {
   "cell_type": "markdown",
   "metadata": {},
   "source": [
    "# We first filter the Healthy eating values of city and village people as two different arrays without any missing values"
   ]
  },
  {
   "cell_type": "code",
   "execution_count": 150,
   "metadata": {},
   "outputs": [
    {
     "name": "stdout",
     "output_type": "stream",
     "text": [
      "0\n",
      "3\n"
     ]
    }
   ],
   "source": [
    "u = df[df['Village - town'] == 'village']\n",
    "w = df[df['Village - town'] == 'city']\n",
    "ki=u['Healthy eating']\n",
    "print(ki.isna().sum())\n",
    "ka=w['Healthy eating']\n",
    "print(ka.isna().sum())"
   ]
  },
  {
   "cell_type": "code",
   "execution_count": 151,
   "metadata": {},
   "outputs": [
    {
     "data": {
      "text/plain": [
       "<matplotlib.axes._subplots.AxesSubplot at 0x1a1b3d7278>"
      ]
     },
     "execution_count": 151,
     "metadata": {},
     "output_type": "execute_result"
    },
    {
     "data": {
      "image/png": "[encoded data removed]",
      "text/plain": [
       "<Figure size 432x288 with 1 Axes>"
      ]
     },
     "metadata": {
      "needs_background": "light"
     },
     "output_type": "display_data"
    }
   ],
   "source": [
    "sns.boxplot(x=df['Village - town'],y=df['Healthy eating'])"
   ]
  },
  {
   "cell_type": "code",
   "execution_count": 152,
   "metadata": {},
   "outputs": [],
   "source": [
    "ki.fillna(ki.median(),inplace=True)\n",
    "ka.fillna(ka.median(),inplace=True)"
   ]
  },
  {
   "cell_type": "code",
   "execution_count": 153,
   "metadata": {},
   "outputs": [],
   "source": [
    "kii= ki.values\n",
    "kaa= ka.values"
   ]
  },
  {
   "cell_type": "markdown",
   "metadata": {},
   "source": [
    "# Performing Ttest will either reject the null hypothesis (Ho) or will fail to reject the null hypothesis (Ha)\n",
    "    Null Hypothesis (Ho) : City and Village people both are equally healthy\n",
    "    Alternate Hypothesis (Ha): Village People are Healthier than City People"
   ]
  },
  {
   "cell_type": "code",
   "execution_count": 134,
   "metadata": {},
   "outputs": [
    {
     "name": "stdout",
     "output_type": "stream",
     "text": [
      "The p value is  0.3255175651048364\n",
      "Since the p value is greater than 5% significance, Hence Failed to reject Null\n",
      "City and Village people both are equally healthy\n"
     ]
    }
   ],
   "source": [
    "t_statistic, p_value  =  stats.ttest_ind(kii,kaa)\n",
    "print('The p value is ',p_value)\n",
    "if (p_value<0.05):\n",
    "    print('Since the p value is less than 5% significance, Hence reject null')\n",
    "    print('Village People are Healthier than City People2')\n",
    "else:\n",
    "    print('Since the p value is greater than 5% significance, Hence Failed to reject Null')\n",
    "    print('City and Village people both are equally healthy')"
   ]
  }
 ],
 "metadata": {
  "kernelspec": {
   "display_name": "Python 3",
   "language": "python",
   "name": "python3"
  },
  "language_info": {
   "codemirror_mode": {
    "name": "ipython",
    "version": 3
   },
   "file_extension": ".py",
   "mimetype": "text/x-python",
   "name": "python",
   "nbconvert_exporter": "python",
   "pygments_lexer": "ipython3",
   "version": "3.7.3"
  }
 },
 "nbformat": 4,
 "nbformat_minor": 2
}
