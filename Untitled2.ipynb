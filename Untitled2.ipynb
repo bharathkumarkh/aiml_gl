{
 "cells": [
  {
   "cell_type": "code",
   "execution_count": 6,
   "metadata": {},
   "outputs": [
    {
     "name": "stdout",
     "output_type": "stream",
     "text": [
      "What is the Critical Value\n",
      "103.28970725390295\n",
      "Observed mean lies in the Critical Region,hence Reject Null.Which means VR leads to significant increase in engagement scores \n",
      "What is the 95% Confidence Interval of the new population mean\n",
      "106.08\n",
      "113.92\n",
      "(106.0800720309199, 113.9199279690801)\n",
      "What is the p-value\n",
      "2.866515719235352e-07\n",
      "Again p-value is less than alpha-0.05. Hence again reject Null\n"
     ]
    }
   ],
   "source": [
    "import numpy as np\n",
    "import scipy.stats as stats\n",
    "mu=100\n",
    "sigma=10\n",
    "n=25\n",
    "se=sigma/np.sqrt(n)\n",
    "xbar=110\n",
    "print(\"What is the Critical Value\")\n",
    "print(stats.norm.isf(0.05,loc=mu,scale=se))\n",
    "print(\"Observed mean lies in the Critical Region,hence Reject Null.Which means VR leads to significant increase in engagement scores \")\n",
    "print(\"What is the 95% Confidence Interval of the new population mean\")\n",
    "print(xbar-1.96*se)\n",
    "print(xbar+1.96*se)\n",
    "print(stats.norm.interval(0.95,loc=xbar,scale=se))\n",
    "print(\"What is the p-value\")\n",
    "print(1-stats.norm.cdf(xbar,loc=mu,scale=se))\n",
    "print(\"Again p-value is less than alpha-0.05. Hence again reject Null\")"
   ]
  },
  {
   "cell_type": "code",
   "execution_count": null,
   "metadata": {},
   "outputs": [],
   "source": []
  },
  {
   "cell_type": "code",
   "execution_count": 7,
   "metadata": {},
   "outputs": [
    {
     "name": "stdout",
     "output_type": "stream",
     "text": [
      "What is the Critical Values\n",
      "1.080072030919892\n",
      "8.91992796908011\n",
      "Observed mean lies in the Critical Region,hence Reject Null\n",
      "What is the p-value\n",
      "0.04550026389635842\n",
      "Again p-value is less than alpha-0.05. Hence again reject Null\n"
     ]
    }
   ],
   "source": [
    "import numpy as np\n",
    "import scipy.stats as stats\n",
    "mu=5\n",
    "sigma=10\n",
    "n=25\n",
    "se=sigma/np.sqrt(n)\n",
    "xbar=9\n",
    "print(\"What is the Critical Values\")\n",
    "print(stats.norm.isf(0.975,loc=mu,scale=se))\n",
    "print(stats.norm.isf(0.025,loc=mu,scale=se))\n",
    "print(\"Observed mean lies in the Critical Region,hence Reject Null\")\n",
    "print(\"What is the p-value\")\n",
    "print(2*(1-stats.norm.cdf(xbar,loc=mu,scale=se)))\n",
    "print(\"Again p-value is less than alpha-0.05. Hence again reject Null\")"
   ]
  },
  {
   "cell_type": "code",
   "execution_count": null,
   "metadata": {},
   "outputs": [],
   "source": []
  },
  {
   "cell_type": "code",
   "execution_count": 9,
   "metadata": {},
   "outputs": [
    {
     "name": "stdout",
     "output_type": "stream",
     "text": [
      "What is the Critical Values\n",
      "499.67333933591\n",
      "500.32666066409\n",
      "Observed mean lies in the Critical Region,hence Reject Null\n",
      "What is the p-value\n",
      "1.973175290075389e-09\n",
      "Again p-value is less than alpha-0.05. Hence again reject Null\n"
     ]
    }
   ],
   "source": [
    "import numpy as np\n",
    "import scipy.stats as stats\n",
    "mu=500\n",
    "sigma=1\n",
    "n=36\n",
    "se=sigma/np.sqrt(n)\n",
    "xbar=499\n",
    "print(\"What is the Critical Values\")\n",
    "print(stats.norm.isf(0.975,loc=mu,scale=se))\n",
    "print(stats.norm.isf(0.025,loc=mu,scale=se))\n",
    "print(\"Observed mean lies in the Critical Region,hence Reject Null\")\n",
    "print(\"What is the p-value\")\n",
    "print(2*(stats.norm.cdf(xbar,loc=mu,scale=se)))\n",
    "print(\"Again p-value is less than alpha-0.05. Hence again reject Null\")"
   ]
  },
  {
   "cell_type": "code",
   "execution_count": null,
   "metadata": {},
   "outputs": [],
   "source": []
  },
  {
   "cell_type": "code",
   "execution_count": 11,
   "metadata": {},
   "outputs": [
    {
     "name": "stdout",
     "output_type": "stream",
     "text": [
      "What is the Critical Value\n",
      "98.39475375478882\n",
      "Observed mean does not lie in the Critical Region,hence Fail to Reject Null\n",
      "What is the 95% Confidence Interval of the new population mean\n",
      "(98.3516040755086, 98.84679592449136)\n",
      "What is the p-value\n",
      "0.4973671933764293\n",
      "P-value is not less than 5%. Fail to reject Null\n"
     ]
    }
   ],
   "source": [
    "import numpy as np\n",
    "import scipy.stats as stats\n",
    "temperature = np.array([98.56, 98.66, 97.54, 98.71, 99.22, 99.49, 98.14, 98.84,\\\n",
    "                         99.28, 98.48, 98.88, 97.29, 98.88, 99.07, 98.81, 99.49,\\\n",
    "                         98.57, 97.98, 97.75, 97.69, 99.28, 98.52, 98.82, 98.81, 98.22])            \n",
    "mu=98.6\n",
    "s=np.std(temperature,ddof = 1)\n",
    "n=25\n",
    "se=s/np.sqrt(n)\n",
    "xbar=temperature.mean()\n",
    "print(\"What is the Critical Value\")\n",
    "print(stats.t.isf(0.95,df=n-1,loc=mu,scale=se))\n",
    "print(\"Observed mean does not lie in the Critical Region,hence Fail to Reject Null\")\n",
    "print(\"What is the 95% Confidence Interval of the new population mean\")\n",
    "print(stats.t.interval(0.95,df=n-1,loc=xbar,scale=se))\n",
    "print(\"What is the p-value\")\n",
    "print(stats.t.cdf(xbar,df=n-1,loc=mu,scale=se))\n",
    "print(\"P-value is not less than 5%. Fail to reject Null\")"
   ]
  },
  {
   "cell_type": "code",
   "execution_count": null,
   "metadata": {},
   "outputs": [],
   "source": []
  },
  {
   "cell_type": "code",
   "execution_count": 12,
   "metadata": {},
   "outputs": [
    {
     "name": "stdout",
     "output_type": "stream",
     "text": [
      "What is the Critical Values\n",
      "-44.777612143951835\n",
      "44.77761214395184\n",
      "Observed mean lies in the Acceptance Region,hence Fail to Reject Null\n",
      "What is the p-value\n",
      "0.5971346738292476\n",
      "Again p-value is more than alpha-0.05. Hence again fail to reject Null\n"
     ]
    }
   ],
   "source": [
    " import numpy as np\n",
    "import scipy.stats as stats\n",
    "Alchohol_Consumption_before = np.array([470, 354, 496, 351, 349, 449, 378, 359, 469, 329, 389, 497, 493, 268, 445, 287, 338, 271, 412, 335])\n",
    "Alchohol_Consumption_after  = np.array([408, 439, 321, 437, 335, 344, 318, 492, 531, 417, 358, 391, 398, 394, 508, 399, 345, 341, 326, 467])\n",
    "D  = Alchohol_Consumption_after -Alchohol_Consumption_before\n",
    "mu=0\n",
    "s=D.std(ddof=1)\n",
    "n=20\n",
    "se=s/np.sqrt(n)\n",
    "xbar=D.mean()\n",
    "print(\"What is the Critical Values\")\n",
    "print(stats.t.isf(0.975,df=n-1,loc=mu,scale=se))\n",
    "print(stats.t.isf(0.025,df=n-1,loc=mu,scale=se))\n",
    "print(\"Observed mean lies in the Acceptance Region,hence Fail to Reject Null\")\n",
    "print(\"What is the p-value\")\n",
    "print(2*(1-stats.t.cdf(xbar,df=n-1,loc=mu,scale=se)))\n",
    "print(\"Again p-value is more than alpha-0.05. Hence again fail to reject Null\")\n"
   ]
  },
  {
   "cell_type": "code",
   "execution_count": null,
   "metadata": {},
   "outputs": [],
   "source": []
  }
 ],
 "metadata": {
  "kernelspec": {
   "display_name": "Python 3",
   "language": "python",
   "name": "python3"
  },
  "language_info": {
   "codemirror_mode": {
    "name": "ipython",
    "version": 3
   },
   "file_extension": ".py",
   "mimetype": "text/x-python",
   "name": "python",
   "nbconvert_exporter": "python",
   "pygments_lexer": "ipython3",
   "version": "3.7.3"
  }
 },
 "nbformat": 4,
 "nbformat_minor": 2
}
